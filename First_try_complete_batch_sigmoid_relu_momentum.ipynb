{
  "nbformat": 4,
  "nbformat_minor": 5,
  "metadata": {
    "colab": {
      "name": "First_try_complete_batch_sigmoid_relu_momentum.ipynb",
      "provenance": [],
      "collapsed_sections": []
    },
    "kernelspec": {
      "display_name": "Python 3",
      "language": "python",
      "name": "python3"
    },
    "language_info": {
      "codemirror_mode": {
        "name": "ipython",
        "version": 3
      },
      "file_extension": ".py",
      "mimetype": "text/x-python",
      "name": "python",
      "nbconvert_exporter": "python",
      "pygments_lexer": "ipython3",
      "version": "3.7.7"
    }
  },
  "cells": [
    {
      "cell_type": "code",
      "metadata": {
        "id": "thermal-humanity"
      },
      "source": [
        "import torch\n",
        "import math\n",
        "#from dlc_practical_prologue import *\n",
        "#torch.set_grad_enabled(False)"
      ],
      "id": "thermal-humanity",
      "execution_count": 1,
      "outputs": []
    },
    {
      "cell_type": "code",
      "metadata": {
        "id": "RAhIEBMckCI_"
      },
      "source": [
        "#INTERESTING FACT: WHEN COMPUTING THE BATCH GRADIENT PYTORCH DOES NOT TAKE THE SUM OF THE GRADIENTA OF SINGLE DATA POINTS\n",
        "#BUT THE MEAN. I LEART AT THE EXPENSE OF ABOUT 1H LOL "
      ],
      "id": "RAhIEBMckCI_",
      "execution_count": 2,
      "outputs": []
    },
    {
      "cell_type": "code",
      "metadata": {
        "id": "found-annex"
      },
      "source": [
        "class Parameter():\n",
        "    def __init__(self):\n",
        "        self.name = ''\n",
        "        self.data = None\n",
        "        self.grad = None"
      ],
      "id": "found-annex",
      "execution_count": 3,
      "outputs": []
    },
    {
      "cell_type": "code",
      "metadata": {
        "id": "therapeutic-current"
      },
      "source": [
        "class Module(object):\n",
        "    def forward (self, *input):\n",
        "        raise NotImplementedError\n",
        "        \n",
        "    def backward ( self , * gradwrtoutput ) :\n",
        "        raise NotImplementedError\n",
        "    \n",
        "    def get_parameters( self ) :\n",
        "        return []   "
      ],
      "id": "therapeutic-current",
      "execution_count": 4,
      "outputs": []
    },
    {
      "cell_type": "code",
      "metadata": {
        "id": "imperial-class",
        "scrolled": true
      },
      "source": [
        "class Losses(object):        \n",
        "    def forward():\n",
        "        return NotImplementedError\n",
        "    def backward():\n",
        "        NotImplementedError"
      ],
      "id": "imperial-class",
      "execution_count": 5,
      "outputs": []
    },
    {
      "cell_type": "code",
      "metadata": {
        "id": "gxGfS8ZckCJC"
      },
      "source": [
        "class Optimizer(object):\n",
        "    def zero_grad(self):\n",
        "        for parameter in self.param : \n",
        "            parameter.grad = 0\n",
        "            \n",
        "    def step(self):\n",
        "        raise NotImplementedError"
      ],
      "id": "gxGfS8ZckCJC",
      "execution_count": 6,
      "outputs": []
    },
    {
      "cell_type": "code",
      "metadata": {
        "id": "comfortable-calgary"
      },
      "source": [
        "class SGD(Optimizer):\n",
        "\n",
        "    def __init__(self,lr,max_iter, parameters, momentum = True ,beta= 0.9) :   \n",
        "        super().__init__()\n",
        "        self.eta = lr   # learning rate is fixed\n",
        "        self.maxStep = max_iter\n",
        "        self.param = parameters\n",
        "        self.number_step = 0\n",
        "        # Initialize momentum to zero\n",
        "        self.v = self.param.copy()\n",
        "        self.v = []\n",
        "        for i in range(len(self.param)):\n",
        "            size_param = self.param[i].data.size()\n",
        "            v_init= torch.zeros(size_param)\n",
        "            (self.v).append(v_init)\n",
        "        self.beta = beta\n",
        "        self.momentum = momentum\n",
        "\n",
        "    def step(self): \n",
        "\n",
        "        if self.number_step <=self.maxStep:\n",
        "            for parameter, V in zip(self.param, self.v):\n",
        "                \n",
        "                if self.momentum :    # SGD + Momentum\n",
        "                    V = self.beta * V + self.eta * parameter.grad   \n",
        "                    parameter.data = parameter.data - V\n",
        "                else :                # SGD \n",
        "                    parameter.data = parameter.data - self.eta * parameter.grad\n",
        "           \n",
        "            self.number_step = self.number_step + 1\n",
        "        return self.param"
      ],
      "id": "comfortable-calgary",
      "execution_count": 7,
      "outputs": []
    },
    {
      "cell_type": "code",
      "metadata": {
        "id": "asian-evanescence"
      },
      "source": [
        "class Linear(Module):\n",
        "    \n",
        "    def __init__(self, input_dim, out_dim, bias = True):\n",
        "        super().__init__()\n",
        "        std = 1/math.sqrt(input_dim)\n",
        "        self.weight = Parameter()\n",
        "        self.parameters = []\n",
        "        \n",
        "        self.weight.data = torch.rand(out_dim, input_dim)\n",
        "        self.weight.data = 2*std*self.weight.data - std\n",
        "        self.weight.name = 'weight'\n",
        "        self.parameters += [self.weight]\n",
        "        \n",
        "        self.with_bias = bias\n",
        "        if bias :\n",
        "            self.bias = Parameter()\n",
        "            self.bias.data = torch.rand(out_dim)\n",
        "            self.bias.data = 2*std*self.bias.data - std\n",
        "            self.bias.data = self.bias.data.unsqueeze(0)\n",
        "            self.bias.name = 'bias'\n",
        "            self.parameters +=[self.bias]\n",
        "            \n",
        "        self.x = None\n",
        "              \n",
        "    def forward(self, x):\n",
        "        self.x = x\n",
        "        self.batch_size = x.shape[0]\n",
        "        return self.x.mm(self.weight.data.T) + self.bias.data\n",
        "        \n",
        "    def backward(self, prev_grad):\n",
        "        \n",
        "        prev_grad = prev_grad.view(self.batch_size, -1, 1)\n",
        "        #print(prev_grad.shape)\n",
        "        if self.x is None:\n",
        "            raise CallForwardFirst\n",
        "        \n",
        "        if self.weight.grad is None:\n",
        "            self.weight.grad = torch.zeros_like(self.weight.data)\n",
        "        \n",
        "        grad_on_batch = prev_grad.view(self.batch_size, -1, 1)*self.x.view(self.batch_size, 1, -1)\n",
        "        self.weight.grad += grad_on_batch.mean(0)\n",
        "        \n",
        "        if self.with_bias:\n",
        "            if self.bias.grad is None:\n",
        "                self.bias.grad = torch.zeros_like(self.bias.data)\n",
        "            grad_on_batch = prev_grad.view(self.batch_size, -1)\n",
        "            self.bias.grad += grad_on_batch.mean(0)\n",
        "        \n",
        "        #if the output has dimension one, squeezing creates problems\n",
        "        if prev_grad.shape[1]>1:\n",
        "            prev_grad = prev_grad.squeeze()\n",
        "        next_grad = prev_grad@self.weight.data\n",
        "        return next_grad.squeeze()\n",
        "    \n",
        "    def get_parameters(self):\n",
        "        return self.parameters    "
      ],
      "id": "asian-evanescence",
      "execution_count": 8,
      "outputs": []
    },
    {
      "cell_type": "code",
      "metadata": {
        "id": "written-benjamin",
        "scrolled": true
      },
      "source": [
        "class Tanh(Module):\n",
        "    def __init__(self):\n",
        "        self.x = None\n",
        "    \n",
        "    def forward (self, x):\n",
        "        self.x = x\n",
        "        return torch.tanh(x)\n",
        "        \n",
        "    def backward ( self, prev_grad) :\n",
        "        if self.x is None:\n",
        "            raise CallForwardFirst\n",
        "            \n",
        "        def d(x):\n",
        "            return 4 * (x.exp() + x.mul(-1).exp()).pow(-2)\n",
        "        \n",
        "        return d(self.x)*prev_grad\n",
        "            "
      ],
      "id": "written-benjamin",
      "execution_count": 9,
      "outputs": []
    },
    {
      "cell_type": "code",
      "metadata": {
        "id": "0xO9pboykCJE"
      },
      "source": [
        "class ReLu(Module):\n",
        "    def __init__(self):\n",
        "        self.x = None\n",
        "    \n",
        "    def forward (self, x):\n",
        "        self.x = x\n",
        "        x[x<0]=0\n",
        "        return x\n",
        "        \n",
        "    def backward ( self, prev_grad) :\n",
        "        if self.x is None:\n",
        "            raise CallForwardFirst\n",
        "            \n",
        "        def d(x):\n",
        "            x[x<0]=0\n",
        "            x[x>0]=1\n",
        "            return x\n",
        "        \n",
        "        return d(self.x)*prev_grad\n",
        "            "
      ],
      "id": "0xO9pboykCJE",
      "execution_count": 10,
      "outputs": []
    },
    {
      "cell_type": "code",
      "metadata": {
        "id": "Iti6kv4BkCJF"
      },
      "source": [
        "#Doesn't work and we have to output 1 unit so it's useless\n",
        "class Softmax(Module):\n",
        "    def __init__(self):\n",
        "        self.x = None\n",
        "    \n",
        "    def forward (self, x):\n",
        "        self.x = x\n",
        "        return torch.softmax(x,1)\n",
        "        \n",
        "    def backward ( self, prev_grad) :\n",
        "        if self.x is None:\n",
        "            raise CallForwardFirst\n",
        "            \n",
        "        def d(x):\n",
        "            return -x.mm(x.transpose(0,1))+torch.diag(x)\n",
        "        \n",
        "        return d(self.x)*prev_grad"
      ],
      "id": "Iti6kv4BkCJF",
      "execution_count": 11,
      "outputs": []
    },
    {
      "cell_type": "code",
      "metadata": {
        "id": "udjGPzn7kCJG"
      },
      "source": [
        "#Doesn't work and we have to output 1 unit so it's useless\n",
        "class Sigmoid(Module):\n",
        "    def __init__(self):\n",
        "        self.x = None\n",
        "    \n",
        "    def forward (self, x):\n",
        "        self.x = x\n",
        "        return torch.sigmoid(x)\n",
        "        \n",
        "    def backward ( self, prev_grad) :\n",
        "        if self.x is None:\n",
        "            raise CallForwardFirst\n",
        "            \n",
        "        def d(x):\n",
        "            y=torch.sigmoid(x)\n",
        "            return y*(1-y)\n",
        "        \n",
        "        return d(self.x)*prev_grad"
      ],
      "id": "udjGPzn7kCJG",
      "execution_count": 12,
      "outputs": []
    },
    {
      "cell_type": "code",
      "metadata": {
        "id": "happy-review"
      },
      "source": [
        "class MSE(Losses):\n",
        "    # Attention! Works well only when the vectors provided are of the form [batch_size, vector dimension]\n",
        "    # Otherwise it doesn know what dimesion to pick for the mean computation\n",
        "    # I'll fix this later\n",
        "    def __init__(self):\n",
        "        self.x = None\n",
        "    def forward(self, x, t):\n",
        "        self.x = x\n",
        "        self.t = t\n",
        "        return (x - t).pow(2).mean()\n",
        "    \n",
        "    def backward(self):\n",
        "        if self.x == None or self.t == None:\n",
        "            raise CallForwardFirst\n",
        "        return 2 * (self.x - self.t)/self.x.shape[1]"
      ],
      "id": "happy-review",
      "execution_count": 13,
      "outputs": []
    },
    {
      "cell_type": "code",
      "metadata": {
        "id": "active-skirt"
      },
      "source": [
        "class Sequential(object):\n",
        "    def __init__(self, modules):\n",
        "        super().__init__()\n",
        "        self.modules=modules\n",
        "        self.parameters = []\n",
        "        for m in self.modules:\n",
        "            param = m.get_parameters()\n",
        "            if param:\n",
        "                self.parameters += param\n",
        "        \n",
        "    def forward(self,x):\n",
        "        for m in self.modules:\n",
        "            x=m.forward(x)\n",
        "        return x\n",
        "    \n",
        "    def backward(self, loss_grad):\n",
        "        x = loss_grad\n",
        "        for m in reversed(self.modules):\n",
        "            #print(m)\n",
        "            x = m.backward(x)\n",
        "            \n",
        "    def get_parameters(self):\n",
        "        return self.parameters\n",
        "\n",
        "    def set_parameters(self , params):\n",
        "        self.parameters = params\n",
        "        "
      ],
      "id": "active-skirt",
      "execution_count": 14,
      "outputs": []
    },
    {
      "cell_type": "code",
      "metadata": {
        "id": "1g29-IZvkCJI"
      },
      "source": [
        ""
      ],
      "id": "1g29-IZvkCJI",
      "execution_count": 14,
      "outputs": []
    },
    {
      "cell_type": "code",
      "metadata": {
        "id": "legal-buying",
        "colab": {
          "base_uri": "https://localhost:8080/",
          "height": 283
        },
        "outputId": "86b21547-2fd6-4043-9d28-8bb3eda0e8ba"
      },
      "source": [
        "def generate_disc_set(nb):\n",
        "    input_ = torch.empty(nb, 2).uniform_(0, 1)\n",
        "    target = (input_-0.5).pow(2).sum(1).sub(1 / (math.pi*2)).sign().add(1).div(2).long()\n",
        "    return input_, target\n",
        "input_data, output_data=generate_disc_set(1000)\n",
        "output_data=1-output_data\n",
        "input_data-=input_data.mean(0)\n",
        "input_data/=input_data.std(0)\n",
        "import matplotlib.pyplot as plt\n",
        "plt.plot(input_data[:,0][output_data==1],input_data[:,1][output_data==1],'bo')\n",
        "plt.plot(input_data[:,0][output_data!=1],input_data[:,1][output_data!=1],'go')"
      ],
      "id": "legal-buying",
      "execution_count": 15,
      "outputs": [
        {
          "output_type": "execute_result",
          "data": {
            "text/plain": [
              "[<matplotlib.lines.Line2D at 0x7fefc70d0d50>]"
            ]
          },
          "metadata": {
            "tags": []
          },
          "execution_count": 15
        },
        {
          "output_type": "display_data",
          "data": {
            "image/png": "[encoded data removed]",
            "text/plain": [
              "<Figure size 432x288 with 1 Axes>"
            ]
          },
          "metadata": {
            "tags": [],
            "needs_background": "light"
          }
        }
      ]
    },
    {
      "cell_type": "code",
      "metadata": {
        "colab": {
          "base_uri": "https://localhost:8080/"
        },
        "id": "c7X4J_pJkCJJ",
        "outputId": "b87240f3-680e-4413-c392-48e39198c48e"
      },
      "source": [
        "#output_data = 2*output_data -1\n",
        "print(input_data, input_data.shape, output_data.shape)"
      ],
      "id": "c7X4J_pJkCJJ",
      "execution_count": 16,
      "outputs": [
        {
          "output_type": "stream",
          "text": [
            "tensor([[ 0.7582, -1.5591],\n",
            "        [-0.5533, -0.5972],\n",
            "        [ 1.5560,  0.2821],\n",
            "        ...,\n",
            "        [ 1.4986, -1.4743],\n",
            "        [-1.5421, -0.9109],\n",
            "        [-0.8700, -1.6964]]) torch.Size([1000, 2]) torch.Size([1000])\n"
          ],
          "name": "stdout"
        }
      ]
    },
    {
      "cell_type": "code",
      "metadata": {
        "scrolled": true,
        "id": "qBGOEnxlkCJK"
      },
      "source": [
        "#we should use one hot label embedding with MSELoss. Hence it is necessary to implement a Softmax\n",
        "#Maybe we should also implement CrossEntropyLoss\n",
        "#print(input_data.shape, output_data.shape)\n",
        "#output_data = convert_to_one_hot_labels(input_data, output_data)\n",
        "#print(input_data.shape, output_data.shape)"
      ],
      "id": "qBGOEnxlkCJK",
      "execution_count": 17,
      "outputs": []
    },
    {
      "cell_type": "code",
      "metadata": {
        "id": "rp3d4oV9kCJK"
      },
      "source": [
        "#handmade sequential linear + relu \n",
        "linear1 = Linear(2, 25, True)\n",
        "linear2 = Linear(25,25,True)\n",
        "linear3 = Linear(25,1,True)\n",
        "sigma1 = Tanh()\n",
        "sigma2 = Tanh()\n",
        "sigma3 = Tanh()\n",
        "loss = MSE()\n",
        "\n",
        "net = Sequential([\n",
        "    linear1, \n",
        "    sigma1 ,\n",
        "    linear2,\n",
        "    sigma2 ,\n",
        "    linear3,\n",
        "    sigma3 ,\n",
        "])"
      ],
      "id": "rp3d4oV9kCJK",
      "execution_count": 18,
      "outputs": []
    },
    {
      "cell_type": "code",
      "metadata": {
        "colab": {
          "base_uri": "https://localhost:8080/"
        },
        "id": "wbfKVjy-kCJK",
        "outputId": "5b7600a9-3fe9-49df-e33f-a1d74112cd5c"
      },
      "source": [
        "optimizer = SGD(lr = 1e-4,max_iter = 100, parameters = net.get_parameters())\n",
        "n=10**2\n",
        "N=output_data.shape[0]\n",
        "for t in range(n):\n",
        "    optimizer.zero_grad()\n",
        "    acc_loss=0\n",
        "    permuted_index = torch.randperm(input_data.size()[0])\n",
        "    input_data_shuffled = input_data[permuted_index]\n",
        "    output_data_shuffled = output_data[permuted_index]\n",
        "    for i in range(N):\n",
        "        x=input_data_shuffled[i]\n",
        "        y=2*output_data_shuffled[i]-1\n",
        "        # Forward pass: compute predicted y by passing x to the model.\n",
        "        y_pred = net.forward(x.unsqueeze(0))\n",
        "        # Compute and print loss.\n",
        "        acc_loss += loss.forward(y_pred,y.unsqueeze(0))\n",
        "        \n",
        "        # Backward pass: compute gradient of the loss with respect to model parameters\n",
        "        net.backward(loss.backward())\n",
        "\n",
        "    # Calling the step function on an Optimizer makes an update to its parameters\n",
        "    new_par = optimizer.step()\n",
        "    #print(len(new_par))\n",
        "    net.set_parameters(new_par)\n",
        "    \n",
        "    \n",
        "    if t%10==0:\n",
        "        print(t, '   MSE loss = ' , acc_loss.item())"
      ],
      "id": "wbfKVjy-kCJK",
      "execution_count": 19,
      "outputs": [
        {
          "output_type": "stream",
          "text": [
            "0    MSE loss =  1026.8297119140625\n",
            "10    MSE loss =  972.5297241210938\n",
            "20    MSE loss =  941.5697631835938\n",
            "30    MSE loss =  902.7471313476562\n",
            "40    MSE loss =  850.5894165039062\n",
            "50    MSE loss =  782.9170532226562\n",
            "60    MSE loss =  703.6536865234375\n",
            "70    MSE loss =  621.3328857421875\n",
            "80    MSE loss =  542.839111328125\n",
            "90    MSE loss =  472.0589294433594\n"
          ],
          "name": "stdout"
        }
      ]
    },
    {
      "cell_type": "code",
      "metadata": {
        "colab": {
          "base_uri": "https://localhost:8080/"
        },
        "id": "EveAJpA8kCJL",
        "outputId": "5b2c0cda-6f80-4fa5-9aea-7f607f59cc24"
      },
      "source": [
        "correct=0\n",
        "for i in range(output_data.shape[0]):\n",
        "        x=input_data[i]\n",
        "        y=2*output_data[i]-1\n",
        "        # Forward pass: compute predicted y by passing x to the model.\n",
        "        y_pred = net.forward(x.unsqueeze(0))\n",
        "        if abs(y_pred-output_data[i])<1:\n",
        "            correct+=1\n",
        "print('Correct predictions after '+str(n)+' training steps: '+str(correct/N*100)+' %')"
      ],
      "id": "EveAJpA8kCJL",
      "execution_count": 20,
      "outputs": [
        {
          "output_type": "stream",
          "text": [
            "Correct predictions after 100 training steps: 96.5 %\n"
          ],
          "name": "stdout"
        }
      ]
    },
    {
      "cell_type": "code",
      "metadata": {
        "id": "zSqJHio4kCJL"
      },
      "source": [
        "#Reinitialize net\n",
        "#handmade sequential linear + relu \n",
        "linear1 = Linear(2, 25, True)\n",
        "linear2 = Linear(25,25,True)\n",
        "linear3 = Linear(25,1,True)\n",
        "sigma1 = Tanh()\n",
        "sigma2 = Tanh()\n",
        "sigma3 = Tanh()\n",
        "loss = MSE()\n",
        "\n",
        "net = Sequential([\n",
        "    linear1, \n",
        "    sigma1 ,\n",
        "    linear2,\n",
        "    sigma2 ,\n",
        "    linear3,\n",
        "    sigma3 ,\n",
        "])"
      ],
      "id": "zSqJHio4kCJL",
      "execution_count": 21,
      "outputs": []
    },
    {
      "cell_type": "code",
      "metadata": {
        "scrolled": true,
        "colab": {
          "base_uri": "https://localhost:8080/"
        },
        "id": "Ft_RT0hWkCJL",
        "outputId": "41c09430-8f4b-401a-feac-8663c1e301e0"
      },
      "source": [
        "optimizer = SGD(lr = 1e-1,max_iter = 100, parameters = net.get_parameters())\n",
        "n=10**2\n",
        "N=output_data.shape[0]\n",
        "batch_size = 100\n",
        "for t in range(n):\n",
        "    acc_loss=0\n",
        "    permuted_index = torch.randperm(input_data.size()[0])\n",
        "    input_data_shuffled = input_data[permuted_index]\n",
        "    output_data_shuffled = output_data[permuted_index]\n",
        "    for b in range(0, N, batch_size):\n",
        "        predictions = net.forward(input_data_shuffled[b:b+batch_size])\n",
        "        l= loss.forward(predictions, output_data_shuffled[b:b+batch_size].unsqueeze(-1))\n",
        "        acc_loss += l\n",
        "        optimizer.zero_grad()\n",
        "        \n",
        "        net.backward(loss.backward())\n",
        "        \n",
        "        new_par = optimizer.step()\n",
        "        net.set_parameters(new_par)\n",
        "    \n",
        "    print(t, '   MSE loss = ' , acc_loss.item())"
      ],
      "id": "Ft_RT0hWkCJL",
      "execution_count": 22,
      "outputs": [
        {
          "output_type": "stream",
          "text": [
            "0    MSE loss =  2.797254800796509\n",
            "1    MSE loss =  2.191330909729004\n",
            "2    MSE loss =  2.127686023712158\n",
            "3    MSE loss =  2.063326835632324\n",
            "4    MSE loss =  2.0039925575256348\n",
            "5    MSE loss =  1.914603590965271\n",
            "6    MSE loss =  1.8399988412857056\n",
            "7    MSE loss =  1.7531986236572266\n",
            "8    MSE loss =  1.661909580230713\n",
            "9    MSE loss =  1.5706528425216675\n",
            "10    MSE loss =  1.5355052947998047\n",
            "11    MSE loss =  1.529868721961975\n",
            "12    MSE loss =  1.529868721961975\n",
            "13    MSE loss =  1.529868721961975\n",
            "14    MSE loss =  1.5298686027526855\n",
            "15    MSE loss =  1.5298686027526855\n",
            "16    MSE loss =  1.529868721961975\n",
            "17    MSE loss =  1.5298688411712646\n",
            "18    MSE loss =  1.5298686027526855\n",
            "19    MSE loss =  1.5298688411712646\n",
            "20    MSE loss =  1.5298686027526855\n",
            "21    MSE loss =  1.529868721961975\n",
            "22    MSE loss =  1.5298686027526855\n",
            "23    MSE loss =  1.529868721961975\n",
            "24    MSE loss =  1.5298686027526855\n",
            "25    MSE loss =  1.529868721961975\n",
            "26    MSE loss =  1.5298686027526855\n",
            "27    MSE loss =  1.529868721961975\n",
            "28    MSE loss =  1.529868721961975\n",
            "29    MSE loss =  1.5298686027526855\n",
            "30    MSE loss =  1.529868721961975\n",
            "31    MSE loss =  1.529868721961975\n",
            "32    MSE loss =  1.529868721961975\n",
            "33    MSE loss =  1.529868721961975\n",
            "34    MSE loss =  1.5298686027526855\n",
            "35    MSE loss =  1.5298686027526855\n",
            "36    MSE loss =  1.5298686027526855\n",
            "37    MSE loss =  1.529868721961975\n",
            "38    MSE loss =  1.529868721961975\n",
            "39    MSE loss =  1.5298686027526855\n",
            "40    MSE loss =  1.529868721961975\n",
            "41    MSE loss =  1.529868721961975\n",
            "42    MSE loss =  1.529868721961975\n",
            "43    MSE loss =  1.5298686027526855\n",
            "44    MSE loss =  1.529868721961975\n",
            "45    MSE loss =  1.5298686027526855\n",
            "46    MSE loss =  1.529868721961975\n",
            "47    MSE loss =  1.529868721961975\n",
            "48    MSE loss =  1.529868721961975\n",
            "49    MSE loss =  1.5298686027526855\n",
            "50    MSE loss =  1.5298686027526855\n",
            "51    MSE loss =  1.5298686027526855\n",
            "52    MSE loss =  1.5298686027526855\n",
            "53    MSE loss =  1.529868721961975\n",
            "54    MSE loss =  1.529868483543396\n",
            "55    MSE loss =  1.5298686027526855\n",
            "56    MSE loss =  1.529868721961975\n",
            "57    MSE loss =  1.5298688411712646\n",
            "58    MSE loss =  1.529868721961975\n",
            "59    MSE loss =  1.5298688411712646\n",
            "60    MSE loss =  1.5298686027526855\n",
            "61    MSE loss =  1.5298686027526855\n",
            "62    MSE loss =  1.5298686027526855\n",
            "63    MSE loss =  1.529868721961975\n",
            "64    MSE loss =  1.5298688411712646\n",
            "65    MSE loss =  1.529868721961975\n",
            "66    MSE loss =  1.5298686027526855\n",
            "67    MSE loss =  1.5298686027526855\n",
            "68    MSE loss =  1.529868721961975\n",
            "69    MSE loss =  1.529868721961975\n",
            "70    MSE loss =  1.5298686027526855\n",
            "71    MSE loss =  1.5298686027526855\n",
            "72    MSE loss =  1.5298688411712646\n",
            "73    MSE loss =  1.529868721961975\n",
            "74    MSE loss =  1.5298686027526855\n",
            "75    MSE loss =  1.529868721961975\n",
            "76    MSE loss =  1.529868721961975\n",
            "77    MSE loss =  1.5298686027526855\n",
            "78    MSE loss =  1.529868721961975\n",
            "79    MSE loss =  1.529868721961975\n",
            "80    MSE loss =  1.529868721961975\n",
            "81    MSE loss =  1.5298686027526855\n",
            "82    MSE loss =  1.5298686027526855\n",
            "83    MSE loss =  1.5298688411712646\n",
            "84    MSE loss =  1.5298686027526855\n",
            "85    MSE loss =  1.5298686027526855\n",
            "86    MSE loss =  1.529868721961975\n",
            "87    MSE loss =  1.529868721961975\n",
            "88    MSE loss =  1.529868721961975\n",
            "89    MSE loss =  1.529868721961975\n",
            "90    MSE loss =  1.529868721961975\n",
            "91    MSE loss =  1.5298686027526855\n",
            "92    MSE loss =  1.5298686027526855\n",
            "93    MSE loss =  1.5298686027526855\n",
            "94    MSE loss =  1.5298686027526855\n",
            "95    MSE loss =  1.529868721961975\n",
            "96    MSE loss =  1.5298686027526855\n",
            "97    MSE loss =  1.529868721961975\n",
            "98    MSE loss =  1.529868721961975\n",
            "99    MSE loss =  1.5298688411712646\n"
          ],
          "name": "stdout"
        }
      ]
    },
    {
      "cell_type": "code",
      "metadata": {
        "colab": {
          "base_uri": "https://localhost:8080/"
        },
        "id": "al67_83jkCJM",
        "outputId": "7c5f95ae-790f-4bfe-ac6a-016f60ae6616"
      },
      "source": [
        "correct=0\n",
        "for i in range(output_data.shape[0]):\n",
        "        x=input_data[i]\n",
        "        y=2*output_data[i]-1\n",
        "        # Forward pass: compute predicted y by passing x to the model.\n",
        "        y_pred = net.forward(x.unsqueeze(0))\n",
        "        if abs(y_pred-output_data[i])<1:\n",
        "            correct+=1\n",
        "print('Correct predictions after '+str(n)+' training steps: '+str(correct/N*100)+' %')"
      ],
      "id": "al67_83jkCJM",
      "execution_count": 23,
      "outputs": [
        {
          "output_type": "stream",
          "text": [
            "Correct predictions after 100 training steps: 100.0 %\n"
          ],
          "name": "stdout"
        }
      ]
    },
    {
      "cell_type": "code",
      "metadata": {
        "colab": {
          "base_uri": "https://localhost:8080/"
        },
        "id": "YyXLmaUhkCJM",
        "outputId": "e1081077-b14c-4f40-c43a-d62cdb0510cb"
      },
      "source": [
        "#handmade sequential linear + relu with sigmoid to end and no batches\n",
        "linear1 = Linear(2, 25, True)\n",
        "linear2 = Linear(25,25,True)\n",
        "linear3 = Linear(25,1,True)\n",
        "sigma1 = ReLu()\n",
        "sigma2 = ReLu()\n",
        "sigma3 = Sigmoid()\n",
        "loss = MSE()\n",
        "\n",
        "net = Sequential([\n",
        "    linear1, \n",
        "    sigma1 ,\n",
        "    linear2,\n",
        "    sigma2 ,\n",
        "    linear3,\n",
        "    sigma3 ,\n",
        "])\n",
        "optimizer = SGD(lr = 1e-4,max_iter = 100, parameters = net.get_parameters())\n",
        "n=10**2\n",
        "N=output_data.shape[0]\n",
        "for t in range(n):\n",
        "    optimizer.zero_grad()\n",
        "    acc_loss=0\n",
        "    permuted_index = torch.randperm(input_data.size()[0])\n",
        "    input_data_shuffled = input_data[permuted_index]\n",
        "    output_data_shuffled = output_data[permuted_index]\n",
        "    for i in range(N):\n",
        "        x=input_data_shuffled[i]\n",
        "        y=output_data_shuffled[i]\n",
        "        # Forward pass: compute predicted y by passing x to the model.\n",
        "        y_pred = net.forward(x.unsqueeze(0))\n",
        "        # Compute and print loss.\n",
        "        acc_loss += loss.forward(y_pred,y.unsqueeze(0))\n",
        "        \n",
        "        # Backward pass: compute gradient of the loss with respect to model parameters\n",
        "        net.backward(loss.backward())\n",
        "\n",
        "    # Calling the step function on an Optimizer makes an update to its parameters\n",
        "    new_par = optimizer.step()\n",
        "    #print(len(new_par))\n",
        "    net.set_parameters(new_par)\n",
        "    \n",
        "    \n",
        "    if t%10==0:\n",
        "        print(t, '   MSE loss = ' , acc_loss.item())\n",
        "    \n",
        "correct=0\n",
        "for i in range(output_data.shape[0]):\n",
        "        x=input_data[i]\n",
        "        y=2*output_data[i]-1\n",
        "        # Forward pass: compute predicted y by passing x to the model.\n",
        "        y_pred = net.forward(x.unsqueeze(0))\n",
        "        if abs(y_pred-output_data[i])<1:\n",
        "            correct+=1\n",
        "print('Correct predictions after '+str(n)+' training steps: '+str(correct/N*100)+' %')"
      ],
      "id": "YyXLmaUhkCJM",
      "execution_count": 24,
      "outputs": [
        {
          "output_type": "stream",
          "text": [
            "0    MSE loss =  250.3065643310547\n",
            "10    MSE loss =  247.48760986328125\n",
            "20    MSE loss =  245.02781677246094\n",
            "30    MSE loss =  242.7385711669922\n",
            "40    MSE loss =  240.51614379882812\n",
            "50    MSE loss =  238.26028442382812\n",
            "60    MSE loss =  235.92877197265625\n",
            "70    MSE loss =  233.47219848632812\n",
            "80    MSE loss =  230.87245178222656\n",
            "90    MSE loss =  228.10482788085938\n",
            "Correct predictions after 100 training steps: 100.0 %\n"
          ],
          "name": "stdout"
        }
      ]
    },
    {
      "cell_type": "code",
      "metadata": {
        "colab": {
          "base_uri": "https://localhost:8080/"
        },
        "id": "DLdc4ZlWkCJN",
        "outputId": "82868939-5cfe-43e4-e50e-0a8aa8826f27"
      },
      "source": [
        "#handmade sequential linear + relu with softmax with batches\n",
        "linear1 = Linear(2, 25, True)\n",
        "linear2 = Linear(25,25,True)\n",
        "linear3 = Linear(25,1,True)\n",
        "sigma1 = ReLu()\n",
        "sigma2 = ReLu()\n",
        "sigma3 = Sigmoid()\n",
        "loss = MSE()\n",
        "\n",
        "net = Sequential([\n",
        "    linear1, \n",
        "    sigma1 ,\n",
        "    linear2,\n",
        "    sigma2 ,\n",
        "    linear3,\n",
        "    sigma3 ,\n",
        "])\n",
        "optimizer = SGD(lr = 1e-1,max_iter = 100, parameters = net.get_parameters())\n",
        "n=10**2\n",
        "N=output_data.shape[0]\n",
        "batch_size = 100\n",
        "for t in range(n):\n",
        "    acc_loss=0\n",
        "    permuted_index = torch.randperm(input_data.size()[0])\n",
        "    input_data_shuffled = input_data[permuted_index]\n",
        "    output_data_shuffled = output_data[permuted_index]\n",
        "    for b in range(0, N, batch_size):\n",
        "        predictions = net.forward(input_data_shuffled[b:b+batch_size])\n",
        "        l= loss.forward(predictions, output_data_shuffled[b:b+batch_size].unsqueeze(-1))\n",
        "        acc_loss += l\n",
        "        optimizer.zero_grad()\n",
        "        \n",
        "        net.backward(loss.backward())\n",
        "        \n",
        "        new_par = optimizer.step()\n",
        "        net.set_parameters(new_par)\n",
        "    \n",
        "    print(t, '   MSE loss = ' , acc_loss.item())\n",
        "    \n",
        "correct=0\n",
        "for i in range(output_data.shape[0]):\n",
        "        x=input_data[i]\n",
        "        y=2*output_data[i]-1\n",
        "        # Forward pass: compute predicted y by passing x to the model.\n",
        "        y_pred = net.forward(x.unsqueeze(0))\n",
        "        if abs(y_pred-output_data[i])<1:\n",
        "            correct+=1\n",
        "print('Correct predictions after '+str(n)+' training steps: '+str(correct/N*100)+' %')"
      ],
      "id": "DLdc4ZlWkCJN",
      "execution_count": 25,
      "outputs": [
        {
          "output_type": "stream",
          "text": [
            "0    MSE loss =  2.4857826232910156\n",
            "1    MSE loss =  2.464448928833008\n",
            "2    MSE loss =  2.446307420730591\n",
            "3    MSE loss =  2.427915096282959\n",
            "4    MSE loss =  2.411731719970703\n",
            "5    MSE loss =  2.3950605392456055\n",
            "6    MSE loss =  2.378262758255005\n",
            "7    MSE loss =  2.3612921237945557\n",
            "8    MSE loss =  2.3435561656951904\n",
            "9    MSE loss =  2.325162172317505\n",
            "10    MSE loss =  2.31282114982605\n",
            "11    MSE loss =  2.3122923374176025\n",
            "12    MSE loss =  2.3122923374176025\n",
            "13    MSE loss =  2.3122920989990234\n",
            "14    MSE loss =  2.3122923374176025\n",
            "15    MSE loss =  2.3122920989990234\n",
            "16    MSE loss =  2.3122923374176025\n",
            "17    MSE loss =  2.3122923374176025\n",
            "18    MSE loss =  2.3122925758361816\n",
            "19    MSE loss =  2.3122923374176025\n",
            "20    MSE loss =  2.3122923374176025\n",
            "21    MSE loss =  2.3122923374176025\n",
            "22    MSE loss =  2.3122920989990234\n",
            "23    MSE loss =  2.3122923374176025\n",
            "24    MSE loss =  2.3122925758361816\n",
            "25    MSE loss =  2.3122923374176025\n",
            "26    MSE loss =  2.3122925758361816\n",
            "27    MSE loss =  2.3122923374176025\n",
            "28    MSE loss =  2.3122923374176025\n",
            "29    MSE loss =  2.3122923374176025\n",
            "30    MSE loss =  2.3122925758361816\n",
            "31    MSE loss =  2.3122923374176025\n",
            "32    MSE loss =  2.3122923374176025\n",
            "33    MSE loss =  2.3122923374176025\n",
            "34    MSE loss =  2.3122925758361816\n",
            "35    MSE loss =  2.3122923374176025\n",
            "36    MSE loss =  2.3122925758361816\n",
            "37    MSE loss =  2.3122920989990234\n",
            "38    MSE loss =  2.3122925758361816\n",
            "39    MSE loss =  2.3122923374176025\n",
            "40    MSE loss =  2.3122923374176025\n",
            "41    MSE loss =  2.3122920989990234\n",
            "42    MSE loss =  2.3122923374176025\n",
            "43    MSE loss =  2.3122923374176025\n",
            "44    MSE loss =  2.3122923374176025\n",
            "45    MSE loss =  2.3122923374176025\n",
            "46    MSE loss =  2.3122923374176025\n",
            "47    MSE loss =  2.3122923374176025\n",
            "48    MSE loss =  2.3122925758361816\n",
            "49    MSE loss =  2.3122923374176025\n",
            "50    MSE loss =  2.3122923374176025\n",
            "51    MSE loss =  2.3122923374176025\n",
            "52    MSE loss =  2.3122923374176025\n",
            "53    MSE loss =  2.3122925758361816\n",
            "54    MSE loss =  2.3122925758361816\n",
            "55    MSE loss =  2.3122923374176025\n",
            "56    MSE loss =  2.3122923374176025\n",
            "57    MSE loss =  2.3122923374176025\n",
            "58    MSE loss =  2.3122925758361816\n",
            "59    MSE loss =  2.3122920989990234\n",
            "60    MSE loss =  2.3122923374176025\n",
            "61    MSE loss =  2.3122923374176025\n",
            "62    MSE loss =  2.3122920989990234\n",
            "63    MSE loss =  2.3122923374176025\n",
            "64    MSE loss =  2.3122923374176025\n",
            "65    MSE loss =  2.3122925758361816\n",
            "66    MSE loss =  2.3122923374176025\n",
            "67    MSE loss =  2.3122923374176025\n",
            "68    MSE loss =  2.3122923374176025\n",
            "69    MSE loss =  2.3122923374176025\n",
            "70    MSE loss =  2.3122923374176025\n",
            "71    MSE loss =  2.3122920989990234\n",
            "72    MSE loss =  2.3122923374176025\n",
            "73    MSE loss =  2.3122925758361816\n",
            "74    MSE loss =  2.3122925758361816\n",
            "75    MSE loss =  2.3122923374176025\n",
            "76    MSE loss =  2.3122925758361816\n",
            "77    MSE loss =  2.3122923374176025\n",
            "78    MSE loss =  2.3122925758361816\n",
            "79    MSE loss =  2.3122923374176025\n",
            "80    MSE loss =  2.3122923374176025\n",
            "81    MSE loss =  2.3122925758361816\n",
            "82    MSE loss =  2.3122925758361816\n",
            "83    MSE loss =  2.3122923374176025\n",
            "84    MSE loss =  2.3122923374176025\n",
            "85    MSE loss =  2.3122923374176025\n",
            "86    MSE loss =  2.3122923374176025\n",
            "87    MSE loss =  2.3122923374176025\n",
            "88    MSE loss =  2.3122923374176025\n",
            "89    MSE loss =  2.3122923374176025\n",
            "90    MSE loss =  2.3122923374176025\n",
            "91    MSE loss =  2.3122923374176025\n",
            "92    MSE loss =  2.3122925758361816\n",
            "93    MSE loss =  2.3122920989990234\n",
            "94    MSE loss =  2.3122923374176025\n",
            "95    MSE loss =  2.3122923374176025\n",
            "96    MSE loss =  2.3122920989990234\n",
            "97    MSE loss =  2.3122923374176025\n",
            "98    MSE loss =  2.3122925758361816\n",
            "99    MSE loss =  2.3122923374176025\n",
            "Correct predictions after 100 training steps: 100.0 %\n"
          ],
          "name": "stdout"
        }
      ]
    },
    {
      "cell_type": "code",
      "metadata": {
        "id": "XehGZ6FBkCJN"
      },
      "source": [
        ""
      ],
      "id": "XehGZ6FBkCJN",
      "execution_count": 25,
      "outputs": []
    }
  ]
}