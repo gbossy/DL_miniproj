{
 "cells": [
  {
   "cell_type": "code",
   "execution_count": 1,
   "metadata": {},
   "outputs": [],
   "source": [
    "#!/usr/bin/env python\n",
    "\n",
    "import torch\n",
    "from torch import nn\n",
    "from torch import optim\n",
    "from torch import Tensor\n",
    "from torch.nn import functional as F\n",
    "import dlc_practical_prologue as prologue\n",
    "import matplotlib.pyplot as plt\n",
    "from torchvision.datasets import MNIST\n",
    "import torchvision.transforms as transforms"
   ]
  },
  {
   "cell_type": "code",
   "execution_count": 2,
   "metadata": {},
   "outputs": [],
   "source": [
    "def data( N, normalize, one_hot, loss, anew = True,\n",
    "    train_input = None, train_target = None, train_classes = None, test_input = None, test_target = None, test_classes = None):\n",
    "    \n",
    "    def assertion_cycle():\n",
    "        assert train_input is not None, 'train_input is None and data is not generated anew'\n",
    "        assert train_target is not None, 'train_target is None and data is not generated anew'\n",
    "        assert train_classes is not None, 'train_classes is None and data is not generated anew'\n",
    "        assert test_input is not None, 'test_input is None and data is not generated anew'\n",
    "        assert test_target is not None, 'test_target is None and data is not generated anew'\n",
    "        assert test_classes is not None, 'test_classes is None and data is not generated anew'\n",
    "    \n",
    "    if anew: \n",
    "\n",
    "        #generate data\n",
    "        transform = transforms.Compose([transforms.ToTensor()])\n",
    "        train_data = MNIST(root = './data/mnist/', train=True, download=True, transform=transform)\n",
    "        val_data = MNIST(root = './data/mnist/', train=False, download=True, transform=transform)\n",
    "\n",
    "        train_input,train_target,train_classes,test_input,test_target,test_classes=prologue.generate_pair_sets(N)\n",
    "        train_input = train_input.float()\n",
    "        test_input = test_input.float()\n",
    "\n",
    "    if one_hot: \n",
    "        assertion_cycle()\n",
    "    \n",
    "        #classes to onehot faster way to do it ? \n",
    "        temp1 = prologue.convert_to_one_hot_labels(train_classes[:,0], train_classes[:,0])\n",
    "        temp2 = prologue.convert_to_one_hot_labels(train_classes[:,1], train_classes[:,1])        \n",
    "        train_classes = torch.cat((temp1.unsqueeze(2), temp2.unsqueeze(2)), dim = 2)\n",
    "        train_classes = torch.transpose(train_classes, 1, 2)\n",
    "\n",
    "        temp1 = prologue.convert_to_one_hot_labels(test_classes[:,0], test_classes[:,0])\n",
    "        temp2 = prologue.convert_to_one_hot_labels(test_classes[:,1], test_classes[:,1])        \n",
    "        test_classes = torch.cat((temp1.unsqueeze(2), temp2.unsqueeze(2)), dim = 2)\n",
    "        test_classes = torch.transpose(test_classes, 1, 2)\n",
    "\n",
    "    if normalize:\n",
    "        assertion_cycle()\n",
    "        mu, std = train_input.mean(), train_input.std()\n",
    "        train_input = train_input.sub_(mu).div_(std)\n",
    "        test_input = test_input.sub_(mu).div_(std)\n",
    "        \n",
    "    if loss == nn.MSELoss: \n",
    "        assertion_cycle()\n",
    "        train_target = train_target.float()\n",
    "        test_target = test_target.float()\n",
    "\n",
    "        train_classes = train_classes.float()\n",
    "        test_classes = test_classes.float()\n",
    "        \n",
    "\n",
    "    if loss == nn.CrossEntropyLoss:\n",
    "        assertion_cycle()\n",
    "        train_target = train_target.long()\n",
    "        test_target = test_target.long()\n",
    "\n",
    "        train_classes = train_classes.long()\n",
    "        test_classes = test_classes.long()\n",
    "        \n",
    "    return train_input, train_target, train_classes, test_input, test_target, test_classes\n",
    "    "
   ]
  },
  {
   "cell_type": "code",
   "execution_count": 3,
   "metadata": {},
   "outputs": [],
   "source": [
    "def validation_sub(test_input, test_target, test_classes):\n",
    "    #splitting test set in 2 equal sets\n",
    "    div_point = int(test_input.shape[0]/2)\n",
    "\n",
    "    validation_input = test_input[:div_point]\n",
    "    validation_target = test_target[:div_point]\n",
    "    validation_classes = test_classes[:div_point]\n",
    "\n",
    "    test_input = test_input[div_point:]\n",
    "    test_target = test_target[div_point:]\n",
    "    test_classes = test_classes[div_point:]\n",
    "\n",
    "    return  validation_input, validation_target, validation_classes, test_input, test_target, test_classes"
   ]
  },
  {
   "cell_type": "code",
   "execution_count": 4,
   "metadata": {},
   "outputs": [],
   "source": [
    "#import the data for the first time\n",
    "N=10**3\n",
    "train_input, train_target, train_classes, test_input, test_target, test_classes =                 \\\n",
    "data(anew=True, one_hot = False, normalize = True, loss = nn.CrossEntropyLoss, N = N)"
   ]
  },
  {
   "cell_type": "code",
   "execution_count": 5,
   "metadata": {
    "scrolled": true
   },
   "outputs": [
    {
     "data": {
      "text/plain": [
       "(torch.Size([1000, 2, 14, 14]),\n",
       " torch.Size([1000]),\n",
       " torch.Size([1000, 2]),\n",
       " torch.Size([1000, 2, 14, 14]),\n",
       " torch.Size([1000]),\n",
       " torch.Size([1000, 2]))"
      ]
     },
     "execution_count": 5,
     "metadata": {},
     "output_type": "execute_result"
    }
   ],
   "source": [
    "#check on shape\n",
    "train_input.shape, train_target.shape, train_classes.shape, test_input.shape, test_target.shape, test_classes.shape"
   ]
  },
  {
   "cell_type": "code",
   "execution_count": 6,
   "metadata": {
    "scrolled": true
   },
   "outputs": [
    {
     "data": {
      "text/plain": [
       "(torch.float32,\n",
       " torch.int64,\n",
       " torch.int64,\n",
       " torch.float32,\n",
       " torch.int64,\n",
       " torch.int64)"
      ]
     },
     "execution_count": 6,
     "metadata": {},
     "output_type": "execute_result"
    }
   ],
   "source": [
    "#check on types\n",
    "train_input.dtype, train_target.dtype, train_classes.dtype, test_input.dtype, test_target.dtype, test_classes.dtype"
   ]
  },
  {
   "cell_type": "code",
   "execution_count": 7,
   "metadata": {
    "scrolled": true
   },
   "outputs": [],
   "source": [
    "#creating the validatio set \n",
    "validation_input, validation_target, validation_classes, test_input, test_target, test_classes = validation_sub(test_input, test_target, test_classes)"
   ]
  },
  {
   "cell_type": "code",
   "execution_count": 8,
   "metadata": {},
   "outputs": [
    {
     "data": {
      "text/plain": [
       "(torch.Size([500, 2, 14, 14]),\n",
       " torch.Size([500]),\n",
       " torch.Size([500, 2]),\n",
       " torch.Size([500, 2, 14, 14]),\n",
       " torch.Size([500]),\n",
       " torch.Size([500, 2]))"
      ]
     },
     "execution_count": 8,
     "metadata": {},
     "output_type": "execute_result"
    }
   ],
   "source": [
    "#check on validation/test shapes\n",
    "validation_input.shape, validation_target.shape, validation_classes.shape, test_input.shape, test_target.shape, test_classes.shape"
   ]
  },
  {
   "cell_type": "code",
   "execution_count": null,
   "metadata": {},
   "outputs": [],
   "source": []
  }
 ],
 "metadata": {
  "kernelspec": {
   "display_name": "Python 3",
   "language": "python",
   "name": "python3"
  },
  "language_info": {
   "codemirror_mode": {
    "name": "ipython",
    "version": 3
   },
   "file_extension": ".py",
   "mimetype": "text/x-python",
   "name": "python",
   "nbconvert_exporter": "python",
   "pygments_lexer": "ipython3",
   "version": "3.7.7"
  }
 },
 "nbformat": 4,
 "nbformat_minor": 5
}
