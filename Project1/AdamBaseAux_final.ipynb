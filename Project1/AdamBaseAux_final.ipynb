{
 "cells": [
  {
   "cell_type": "code",
   "execution_count": 106,
   "metadata": {},
   "outputs": [],
   "source": [
    "#!/usr/bin/env python\n",
    "import torch\n",
    "import various_data_functions\n",
    "from torch import nn\n",
    "from torch import optim\n",
    "from torch import Tensor\n",
    "from torch.nn import functional as F\n",
    "import dlc_practical_prologue as prologue\n",
    "import matplotlib.pyplot as plt\n",
    "\n",
    "#Setting plot parameters\n",
    "%matplotlib inline\n",
    "plt.rcParams['figure.figsize'] = [10, 6]\n",
    "\n",
    "#Number of data points\n",
    "N=10**3"
   ]
  },
  {
   "cell_type": "code",
   "execution_count": 163,
   "metadata": {},
   "outputs": [],
   "source": [
    "#Base functions adapted from the practicals\n",
    "def train_model(model, train_input, train_target,train_classes, mini_batch_size, test_input=None, test_target=None, crit=nn.CrossEntropyLoss, eta = 1e-3, nb_epochs = 50,print_=False, store_loss = False, aux_factor=1, store_error=False, checkpoint_name=None):\n",
    "    #Initializing the loss, the optimizer, and the stored loss and errors for the plots\n",
    "    criterion = crit()\n",
    "    optimizer = optim.Adam(model.parameters(), lr=eta)\n",
    "    stored_loss = []\n",
    "    stored_error = []\n",
    "    \n",
    "    #Retrieving data if a similar model has already been trained or partially trained\n",
    "    nb_epochs_finished = 0\n",
    "    if checkpoint_name!=None:\n",
    "        try:\n",
    "            checkpoint = torch.load(checkpoint_name)\n",
    "            nb_epochs_finished = checkpoint['nb_epochs_finished']\n",
    "            model.load_state_dict(checkpoint['model_state'])\n",
    "            optimizer.load_state_dict(checkpoint['optimizer_state'])\n",
    "            if print_:\n",
    "                print(f'Checkpoint loaded with {nb_epochs_finished} epochs finished.')\n",
    "            stored_loss=checkpoint['stored_loss']\n",
    "            if len(stored_loss)>nb_epochs*3:\n",
    "                stored_loss=stored_loss[0:nb_epochs*3]\n",
    "            stored_error=checkpoint['stored_error']\n",
    "            if len(stored_error)>nb_epochs:\n",
    "                stored_error=stored_error[0:nb_epochs]\n",
    "        except FileNotFoundError:\n",
    "            if print_:\n",
    "                print('Starting from scratch.')\n",
    "        except:\n",
    "            print('Error when loading the checkpoint.')\n",
    "            exit(1)\n",
    "    \n",
    "    #Training the network if the checkpoint wasn't fully trained\n",
    "    for e in range(nb_epochs_finished,nb_epochs):\n",
    "        \n",
    "        #Initializing accumulated losses\n",
    "        #loss1 is the loss over the output (identifying which number is greater)\n",
    "        #loss2 and loss3 are the auxiliary losses trying to identify the numbers in the 2 input pictures\n",
    "        acc_loss = 0\n",
    "        acc_loss1 = 0\n",
    "        acc_loss2 = 0\n",
    "        acc_loss3 = 0\n",
    "        \n",
    "        #permuting the samples\n",
    "        permuted_index = torch.randperm(train_input.size()[0])\n",
    "        train_input_shuffled = train_input[permuted_index]\n",
    "        train_target_shuffled = train_target[permuted_index]\n",
    "        train_classes_shuffled = train_classes[permuted_index]\n",
    "        \n",
    "        \n",
    "        for b in range(0, train_input.size(0), mini_batch_size):\n",
    "            \n",
    "            #forward pass\n",
    "            output,aux_output = model(train_input_shuffled.narrow(0, b, mini_batch_size))\n",
    "            if crit==nn.MSELoss:\n",
    "                \n",
    "                #computing the different losses\n",
    "                loss1 = criterion(output[:,1], train_target_shuffled.narrow(0, b, mini_batch_size))\n",
    "                loss2 = criterion(torch.argmax(aux_output[:,0:9],dim=1), train_classes_shuffled[:,0].narrow(0, b, mini_batch_size))\n",
    "                loss3 = criterion(torch.argmax(aux_output[:,10:19],dim=1), train_classes_shuffled[:,1].narrow(0, b, mini_batch_size))\n",
    "                loss = loss1 + loss2 + loss3\n",
    "                print('|| loss1 req grad =', loss1.requires_grad, '|| loss2 req grad =',loss2.requires_grad,'|| loss3 req grad =', loss3.requires_grad)\n",
    "            elif crit==nn.CrossEntropyLoss:\n",
    "                loss1 = criterion(output, train_target_shuffled.narrow(0, b, mini_batch_size))\n",
    "                loss2 = criterion(aux_output[:,0,:], train_classes_shuffled[:,0].narrow(0, b, mini_batch_size))\n",
    "                loss3 = criterion(aux_output[:,1,:], train_classes_shuffled[:,1].narrow(0, b, mini_batch_size))\n",
    "                loss = loss1 + aux_factor*(loss2 + loss3)\n",
    "            else:\n",
    "                print(\"Loss not implemented\")\n",
    "                \n",
    "            #Update the accumulated losses\n",
    "            acc_loss = acc_loss + loss.item()\n",
    "            acc_loss1 = acc_loss1 + loss1.item()\n",
    "            acc_loss2 = acc_loss2 + loss2.item()\n",
    "            acc_loss3 = acc_loss3 + loss3.item()\n",
    "            \n",
    "            #zero the gradients\n",
    "            model.zero_grad()\n",
    "            \n",
    "            #backward pass\n",
    "            loss.backward()\n",
    "            \n",
    "            #optimizer step\n",
    "            optimizer.step()\n",
    "            \n",
    "        #update the stored losses and error if needed\n",
    "        if store_loss:\n",
    "            stored_loss += [[acc_loss1], [acc_loss2], [acc_loss3]]\n",
    "        if store_error:\n",
    "            stored_error +=[compute_nb_errors(model, test_input, test_target, mini_batch_size)]\n",
    "            \n",
    "        #print the different losses if needed\n",
    "        if print_:\n",
    "            print(e, 'tot loss', acc_loss, 'loss1', acc_loss1, 'loss2', acc_loss2, 'loss3', acc_loss3)\n",
    "            \n",
    "        #save the checkpoint for later if needed\n",
    "        if checkpoint_name!=None:\n",
    "                checkpoint = {'nb_epochs_finished': e + 1,'model_state': model.state_dict(),'optimizer_state': optimizer.state_dict(),'stored_loss':stored_loss,'stored_error':stored_error}\n",
    "                torch.save(checkpoint, checkpoint_name)\n",
    "        \n",
    "    #return the stored quantities  \n",
    "    return torch.tensor(stored_loss),torch.tensor(stored_error)\n",
    "\n",
    "#error computing function\n",
    "def compute_nb_errors(model, input, target, mini_batch_size=100):\n",
    "    nb_errors = 0\n",
    "\n",
    "    for b in range(0, input.size(0), mini_batch_size):\n",
    "        output , aux_output = model(input.narrow(0, b, mini_batch_size))\n",
    "        _, predicted_classes = output.max(1)\n",
    "        for k in range(mini_batch_size):\n",
    "            if target[b + k]!=predicted_classes[k]:\n",
    "                nb_errors = nb_errors + 1\n",
    "\n",
    "    return nb_errors\n",
    "\n",
    "#this function lets us do multiple runs more easily\n",
    "def run_many_times(model,crit=nn.CrossEntropyLoss,mini_batch_size=100,n=10,print_=True,eta=1e-3,nb_epochs=25,aux_factor=0,shuffle=True, store_error=False,checkpoint_name=None):\n",
    "    average_error=0\n",
    "    losses=torch.empty(0,nb_epochs,3)\n",
    "    errors=torch.empty(0,nb_epochs)\n",
    "    for i in range(n):\n",
    "        m=model()\n",
    "        train_input,train_target,train_classes,test_input,test_target,test_classes=various_data_functions.data(N,True,False,nn.CrossEntropyLoss,shuffle=shuffle)\n",
    "        if checkpoint_name!=None:\n",
    "            checkpoint_name_spec=checkpoint_name+'try_'+str(i)+'.pth'\n",
    "        else:\n",
    "            checkpoint_name_spec=None\n",
    "        new_losses,new_errors=train_model(m, train_input, train_target,train_classes,mini_batch_size,test_input=test_input, test_target=test_target,crit=crit,eta=eta,nb_epochs=nb_epochs,aux_factor=aux_factor,store_loss=True,store_error=store_error,checkpoint_name=checkpoint_name_spec)\n",
    "        new_losses=new_losses.view(1,nb_epochs, 3)\n",
    "        if store_error:\n",
    "            new_errors= new_errors.view(1,nb_epochs)\n",
    "            errors = torch.cat((errors,new_errors),0)\n",
    "        if print_:\n",
    "            losses = torch.cat((losses, new_losses), 0)\n",
    "            nb_test_errors = compute_nb_errors(m, test_input, test_target, mini_batch_size)\n",
    "            print('test error Net {:0.2f}% {:d}/{:d}'.format((100 * nb_test_errors) / test_input.size(0),\n",
    "                                                      nb_test_errors, test_input.size(0)))\n",
    "            average_error+=(100 * nb_test_errors) / test_input.size(0)\n",
    "    if print_:\n",
    "        print(\"Average error: \"+str(average_error/n))\n",
    "        avg_losses=torch.sum(losses,0)/n\n",
    "        mod=int(torch.floor(torch.Tensor([nb_epochs/20])))\n",
    "        fig, (ax0, ax1) = plt.subplots(nrows=2, sharex=True)\n",
    "        x_lab=torch.arange(nb_epochs)\n",
    "        x_labels=x_lab[x_lab%mod==0].detach().numpy()\n",
    "        ax0.errorbar(x_labels, avg_losses[x_lab%mod==0,0].detach().numpy(), yerr=torch.std(losses[:,:,0],0)[x_lab%mod==0].detach().numpy(), fmt='-o')\n",
    "        ax0.set_title('evolution of the cross entropy loss')\n",
    "        ax1.errorbar(x_labels, avg_losses[x_lab%mod==0,1].detach().numpy(), yerr=torch.std(losses[:,:,1],0)[x_lab%mod==0].detach().numpy(), fmt='o')\n",
    "        ax1.errorbar(x_labels, avg_losses[x_lab%mod==0,2].detach().numpy(), yerr=torch.std(losses[:,:,2],0)[x_lab%mod==0].detach().numpy(), fmt='o')\n",
    "        ax1.set_title('evolution of the auxiliary losses')\n",
    "        plt.show()\n",
    "    if store_error:\n",
    "        return errors\n",
    "\n",
    "#this function returns the number of parameters of a model\n",
    "def n_params(model):\n",
    "    n = 0\n",
    "    for params in model.parameters():\n",
    "        n += params.numel()\n",
    "    return n\n",
    "\n",
    "#this function uses the previous ones to build a big plot with several models\n",
    "def big_error_plot(models,model_names,n=50,nb_epochs=100,eta=1e-3,name=\"big_error_plot.png\",aux_factor=1):\n",
    "    x_lab=torch.arange(nb_epochs)\n",
    "    x_labels=x_lab.detach().numpy()\n",
    "    for i in range(len(models)):\n",
    "        print(\"Starting model \" + model_names[i])\n",
    "        errors=run_many_times(models[i],crit=nn.CrossEntropyLoss,mini_batch_size=10,n=n,print_=False,eta=eta,nb_epochs=nb_epochs,aux_factor=aux_factor,shuffle=True, store_error=True,checkpoint_name='checkpoints/'+model_names[i]+'_'+str(aux_factor).replace('.','')+'_')\n",
    "        #sns.relplot(x=\"timepoint\", y=\"signal\", col=\"region\",hue=\"event\", style=\"event\", kind=\"line\",)\n",
    "        #plt.errorbar(x_labels,(errors.mean(dim=0)[x_lab%mod==0]/10).detach().numpy(),yerr=(torch.std(errors,dim=0)[x_lab%mod==0]/10).detach().numpy(),fmt='o')\n",
    "        mean=(errors.mean(dim=0)/10).detach().numpy()\n",
    "        std=(torch.std(errors,dim=0)/10).detach().numpy()\n",
    "        plt.plot(x_labels,mean)\n",
    "        plt.fill_between(x_labels,mean-std,mean+std,alpha=0.2)\n",
    "        print('Mean number of errors after '+str(nb_epochs)+' epochs of training: '+str(errors.mean(dim=0)[-1])+' out of 1000 test samples with a standard deviation of '+str(torch.std(errors,dim=0)[-1]))\n",
    "    plt.ylabel('Accuracy[%]')\n",
    "    plt.xlabel('Number of epochs')\n",
    "    plt.legend(model_names)\n",
    "    plt.savefig(name,bbox_inches='tight')\n",
    "    plt.show()"
   ]
  },
  {
   "cell_type": "code",
   "execution_count": 108,
   "metadata": {},
   "outputs": [],
   "source": [
    "shuffle = True\n",
    "train_input,train_target,train_classes,test_input,test_target,test_classes=various_data_functions.data(N,True,False,nn.CrossEntropyLoss,shuffle=shuffle)"
   ]
  },
  {
   "cell_type": "code",
   "execution_count": 109,
   "metadata": {},
   "outputs": [
    {
     "data": {
      "text/plain": [
       "(4, 3328)"
      ]
     },
     "execution_count": 109,
     "metadata": {},
     "output_type": "execute_result"
    }
   ],
   "source": [
    "after = (14-3+1)/3\n",
    "int(after), int(after**2*208)"
   ]
  },
  {
   "cell_type": "code",
   "execution_count": 110,
   "metadata": {},
   "outputs": [],
   "source": [
    "class C1L2(nn.Module):\n",
    "    def __init__(self):\n",
    "        super().__init__()\n",
    "                \n",
    "        #convolutions.\n",
    "        self.conv1 = nn.Conv2d(2, 144, kernel_size=3,groups=2)\n",
    "        \n",
    "        #define the half lenght of the output (linearized) after the last convolution\n",
    "        self.h = int(4**2*144/2)\n",
    "        \n",
    "        #linear layers for the auxiliary losses\n",
    "        self.aux_linear1 = nn.Linear(self.h, 10)\n",
    "        self.aux_linear2 = nn.Linear(self.h, 10)\n",
    "        \n",
    "        #linear layers for the final output\n",
    "        self.fc1 = nn.Linear(2*self.h, 20)\n",
    "        self.fc2 = nn.Linear(20, 2)\n",
    "        \n",
    "\n",
    "    def forward(self, x):\n",
    "        \n",
    "        #computing the convolution\n",
    "        x = F.relu(F.max_pool2d(self.conv1(x), kernel_size=3, stride=3))\n",
    "        x = x.view(-1, 2*self.h)\n",
    "        \n",
    "        #computing the linear+softmax to make the auxiliary output\n",
    "        #deviding the tensor \n",
    "        a1 = x.narrow(1, 0,      self.h)\n",
    "        a2 = x.narrow(1, self.h, self.h)\n",
    "                \n",
    "        #computing the auxiliary output\n",
    "        a1 = F.softmax(self.aux_linear1(a1), dim = 1).unsqueeze(1)\n",
    "        a2 = F.softmax(self.aux_linear2(a2), dim = 1).unsqueeze(1)\n",
    "        #merging the vector to return the final auxiliary output\n",
    "        aux_output = torch.cat((a1, a2), 1)\n",
    "        \n",
    "        #computing the layers for the final output\n",
    "        x = F.relu(self.fc1(x))\n",
    "        output = F.softmax(self.fc2(x), dim=1)\n",
    "        return output, aux_output"
   ]
  },
  {
   "cell_type": "code",
   "execution_count": 111,
   "metadata": {},
   "outputs": [
    {
     "data": {
      "text/plain": [
       "(torch.Size([5, 2]),\n",
       " tensor([[[0.0805, 0.0780, 0.0994, 0.1311, 0.0922, 0.0841, 0.0543, 0.1191,\n",
       "           0.1857, 0.0756],\n",
       "          [0.0245, 0.1147, 0.1287, 0.1461, 0.0397, 0.1115, 0.0363, 0.1156,\n",
       "           0.1316, 0.1513]],\n",
       " \n",
       "         [[0.0989, 0.0937, 0.0934, 0.2087, 0.0667, 0.0964, 0.0464, 0.1183,\n",
       "           0.1049, 0.0725],\n",
       "          [0.0146, 0.0638, 0.1593, 0.2085, 0.0181, 0.1663, 0.0292, 0.0802,\n",
       "           0.1486, 0.1114]],\n",
       " \n",
       "         [[0.1451, 0.0685, 0.0728, 0.1963, 0.0665, 0.0744, 0.0475, 0.1286,\n",
       "           0.1249, 0.0754],\n",
       "          [0.0248, 0.0748, 0.1211, 0.1418, 0.0635, 0.1312, 0.0440, 0.0863,\n",
       "           0.2061, 0.1065]],\n",
       " \n",
       "         [[0.0566, 0.0779, 0.0861, 0.2198, 0.0871, 0.1082, 0.0587, 0.0837,\n",
       "           0.1571, 0.0647],\n",
       "          [0.0267, 0.0771, 0.1737, 0.1175, 0.0571, 0.1528, 0.0485, 0.0740,\n",
       "           0.1700, 0.1026]],\n",
       " \n",
       "         [[0.0741, 0.0732, 0.0828, 0.2120, 0.0622, 0.0958, 0.0570, 0.1478,\n",
       "           0.1291, 0.0661],\n",
       "          [0.0446, 0.0701, 0.1263, 0.1698, 0.0624, 0.1168, 0.0532, 0.1020,\n",
       "           0.1279, 0.1270]]], grad_fn=<CatBackward>))"
      ]
     },
     "execution_count": 111,
     "metadata": {},
     "output_type": "execute_result"
    }
   ],
   "source": [
    "#checks\n",
    "model = C1L2()\n",
    "x = train_input[0:5]\n",
    "output, aux_output = model(x)\n",
    "output.shape, aux_output"
   ]
  },
  {
   "cell_type": "code",
   "execution_count": 112,
   "metadata": {},
   "outputs": [],
   "source": [
    "##########################################################\n"
   ]
  },
  {
   "cell_type": "code",
   "execution_count": 113,
   "metadata": {},
   "outputs": [],
   "source": [
    "class C1L3(nn.Module):\n",
    "    def __init__(self):\n",
    "        super().__init__()\n",
    "        \n",
    "        #convolutions\n",
    "        self.conv1 = nn.Conv2d(2, 30, kernel_size=3,groups=2)\n",
    "        \n",
    "        #define the half lenght of the output (linearized) after the last convolution\n",
    "        self.h = int(4**2*30/2)\n",
    "        \n",
    "        #linear layers for the auxiliary losses\n",
    "        self.aux_linear1 = nn.Linear(self.h, 10)\n",
    "        self.aux_linear2 = nn.Linear(self.h, 10)\n",
    "        \n",
    "        #linear layers for the final output\n",
    "        self.fc1 = nn.Linear(2*self.h, 128)\n",
    "        self.fc2 = nn.Linear(128, 20)\n",
    "        self.fc3 = nn.Linear(20, 2)\n",
    "\n",
    "    def forward(self, x):\n",
    "        \n",
    "        #computing the convolution\n",
    "        x = F.relu(F.max_pool2d(self.conv1(x), kernel_size=3, stride=3))\n",
    "        x = x.view(-1, 2*self.h)\n",
    "        \n",
    "        #computing the linear+softmax to make the auxiliary output\n",
    "        #deviding the tensor \n",
    "        a1 = x.narrow(1, 0,      self.h)\n",
    "        a2 = x.narrow(1, self.h, self.h)\n",
    "                \n",
    "        #computing the output\n",
    "        a1 = F.softmax(self.aux_linear1(a1), dim = 1).unsqueeze(1)\n",
    "        a2 = F.softmax(self.aux_linear2(a2), dim = 1).unsqueeze(1)\n",
    "        #merging the vector to return the final auxiliary output\n",
    "        aux_output = torch.cat((a1, a2), 1)\n",
    "        \n",
    "        #computing the layers for the final output\n",
    "        x = F.relu(self.fc1(x))\n",
    "        x = F.relu(self.fc2(x))\n",
    "        output = F.softmax(self.fc3(x),dim=1)\n",
    "        return output, aux_output"
   ]
  },
  {
   "cell_type": "code",
   "execution_count": 114,
   "metadata": {},
   "outputs": [
    {
     "data": {
      "text/plain": [
       "(torch.Size([5, 2]), torch.Size([5, 2, 10]))"
      ]
     },
     "execution_count": 114,
     "metadata": {},
     "output_type": "execute_result"
    }
   ],
   "source": [
    "#checks\n",
    "model = C1L3()\n",
    "x = train_input[0:5]\n",
    "output, aux_output = model(x)\n",
    "output.shape, aux_output.shape"
   ]
  },
  {
   "cell_type": "code",
   "execution_count": 115,
   "metadata": {},
   "outputs": [],
   "source": [
    "############################################"
   ]
  },
  {
   "cell_type": "code",
   "execution_count": 116,
   "metadata": {},
   "outputs": [
    {
     "data": {
      "text/plain": [
       "320"
      ]
     },
     "execution_count": 116,
     "metadata": {},
     "output_type": "execute_result"
    }
   ],
   "source": [
    "4**2*20"
   ]
  },
  {
   "cell_type": "code",
   "execution_count": 117,
   "metadata": {},
   "outputs": [],
   "source": [
    "class C1L5(nn.Module):\n",
    "    def __init__(self):\n",
    "        super().__init__()\n",
    "        \n",
    "        #convolutions.\n",
    "        self.conv1 = nn.Conv2d(2, 20, kernel_size=3,groups=2)\n",
    "        \n",
    "        #define the half lenght of the output (linearized) after the last convolution\n",
    "        self.h = int(4**2*20/2)\n",
    "        \n",
    "        #linear layers for the auxiliary losses\n",
    "        self.aux_linear1 = nn.Linear(self.h, 10)\n",
    "        self.aux_linear2 = nn.Linear(self.h, 10)\n",
    "        \n",
    "        #linear layers for the final output\n",
    "        self.fc1 = nn.Linear(2*self.h, 160)\n",
    "        self.fc2 = nn.Linear(160, 80)\n",
    "        self.fc3 = nn.Linear(80,40)\n",
    "        self.fc4 = nn.Linear(40,20)\n",
    "        self.fc5 = nn.Linear(20, 2)\n",
    "\n",
    "    def forward(self, x):\n",
    "        \n",
    "        #computing the convolution\n",
    "        x = F.relu(F.max_pool2d(self.conv1(x), kernel_size=3, stride=3))\n",
    "        x = x.view(-1, 2*self.h)\n",
    "        \n",
    "        #computing the linear+softmax to make the auxiliary output\n",
    "        #deviding the tensor \n",
    "        a1 = x.narrow(1, 0,      self.h)\n",
    "        a2 = x.narrow(1, self.h, self.h)\n",
    "                \n",
    "        #computing auxiliarythe output\n",
    "        a1 = F.softmax(self.aux_linear1(a1), dim = 1).unsqueeze(1)\n",
    "        a2 = F.softmax(self.aux_linear2(a2), dim = 1).unsqueeze(1)\n",
    "        #merging the vector to return the final auxiliary output\n",
    "        aux_output = torch.cat((a1, a2), 1)\n",
    "        \n",
    "        #computing the layers for the final output\n",
    "        x = F.relu(self.fc1(x))\n",
    "        x = F.relu(self.fc2(x))\n",
    "        x = F.relu(self.fc3(x))\n",
    "        x = F.relu(self.fc4(x))\n",
    "        output = F.softmax(self.fc5(x),dim=1)\n",
    "        return output, aux_output"
   ]
  },
  {
   "cell_type": "code",
   "execution_count": 118,
   "metadata": {},
   "outputs": [
    {
     "data": {
      "text/plain": [
       "(torch.Size([5, 2]), torch.Size([5, 2, 10]))"
      ]
     },
     "execution_count": 118,
     "metadata": {},
     "output_type": "execute_result"
    }
   ],
   "source": [
    "#checks\n",
    "model = C1L5()\n",
    "x = train_input[0:5]\n",
    "output, aux_output = model(x)\n",
    "output.shape, aux_output.shape"
   ]
  },
  {
   "cell_type": "code",
   "execution_count": 119,
   "metadata": {},
   "outputs": [],
   "source": [
    "#######################################################"
   ]
  },
  {
   "cell_type": "code",
   "execution_count": 120,
   "metadata": {},
   "outputs": [],
   "source": [
    "class C2L2(nn.Module):\n",
    "    def __init__(self):\n",
    "        super().__init__()\n",
    "        \n",
    "        #convolutions\n",
    "        self.conv1 = nn.Conv2d(2, 44, kernel_size=3,groups=2)\n",
    "        self.conv2 = nn.Conv2d(44, 220, kernel_size=3, groups = 2)\n",
    "        \n",
    "        #define the half lenght of the output (linearized) after the last convolution\n",
    "        self.h = int(2**2*220/2)\n",
    "        \n",
    "        #linear layers for the auxiliary losses\n",
    "        self.aux_linear1 = nn.Linear(self.h, 10)\n",
    "        self.aux_linear2 = nn.Linear(self.h, 10)\n",
    "        \n",
    "        #linear layers for the final output\n",
    "        self.fc1 = nn.Linear(2*self.h, 20)\n",
    "        self.fc2 = nn.Linear(20, 2)\n",
    "\n",
    "    def forward(self, x):\n",
    "        \n",
    "        #computing the convolution\n",
    "        x = F.relu(F.max_pool2d(self.conv1(x), kernel_size=2, stride=2))\n",
    "        x = F.relu(F.max_pool2d(self.conv2(x), kernel_size=2, stride=2))\n",
    "        x = x.view(-1, 2*self.h)\n",
    "        \n",
    "        #computing the linear+softmax to make the auxiliary output\n",
    "        #deviding the tensor \n",
    "        a1 = x.narrow(1, 0,      self.h)\n",
    "        a2 = x.narrow(1, self.h, self.h)\n",
    "                \n",
    "        #computing auxiliarythe output\n",
    "        a1 = F.softmax(self.aux_linear1(a1), dim = 1).unsqueeze(1)\n",
    "        a2 = F.softmax(self.aux_linear2(a2), dim = 1).unsqueeze(1)\n",
    "        #merging the vector to return the final auxiliary output\n",
    "        aux_output = torch.cat((a1, a2), 1)\n",
    "        \n",
    "        #computing the layers for the final output\n",
    "        x = F.relu(self.fc1(x))\n",
    "        output = F.softmax(self.fc2(x), dim=1)\n",
    "        return output, aux_output"
   ]
  },
  {
   "cell_type": "code",
   "execution_count": 121,
   "metadata": {},
   "outputs": [
    {
     "data": {
      "text/plain": [
       "(torch.Size([5, 2]), torch.Size([5, 2, 10]))"
      ]
     },
     "execution_count": 121,
     "metadata": {},
     "output_type": "execute_result"
    }
   ],
   "source": [
    "#checks\n",
    "model = C2L2()\n",
    "x = train_input[0:5]\n",
    "output, aux_output = model(x)\n",
    "output.shape, aux_output.shape"
   ]
  },
  {
   "cell_type": "code",
   "execution_count": 122,
   "metadata": {},
   "outputs": [],
   "source": [
    "#######################################################"
   ]
  },
  {
   "cell_type": "code",
   "execution_count": 123,
   "metadata": {},
   "outputs": [],
   "source": [
    "class C2L3(nn.Module):\n",
    "    def __init__(self):\n",
    "        super().__init__()\n",
    "        \n",
    "        #convolutions\n",
    "        self.conv1 = nn.Conv2d(2, 64, kernel_size=3,groups=2)\n",
    "        self.conv2 = nn.Conv2d(64, 128, kernel_size=3,groups=2)\n",
    "        \n",
    "        #define the half lenght of the output (linearized) after the last convolution\n",
    "        self.h = int(2**2*128/2)\n",
    "        \n",
    "        #linear layers for the auxiliary losses\n",
    "        self.aux_linear1 = nn.Linear(self.h, 10)\n",
    "        self.aux_linear2 = nn.Linear(self.h, 10)\n",
    "        \n",
    "        #linear layers for the final output\n",
    "        self.fc1 = nn.Linear(2*self.h, 60)\n",
    "        self.fc2 = nn.Linear(60, 20)\n",
    "        self.fc3 = nn.Linear(20, 2)\n",
    "\n",
    "    def forward(self, x):\n",
    "        \n",
    "        #computing the convolution\n",
    "        x = F.relu(F.max_pool2d(self.conv1(x), kernel_size=2, stride=2))\n",
    "        x = F.relu(F.max_pool2d(self.conv2(x), kernel_size=2, stride=2))\n",
    "        x = x.view(-1, 2*self.h)\n",
    "        \n",
    "        #computing the linear+softmax to make the auxiliary output\n",
    "        #deviding the tensor \n",
    "        a1 = x.narrow(1, 0,      self.h)\n",
    "        a2 = x.narrow(1, self.h, self.h)\n",
    "                \n",
    "        #computing auxiliarythe output\n",
    "        a1 = F.softmax(self.aux_linear1(a1), dim = 1).unsqueeze(1)\n",
    "        a2 = F.softmax(self.aux_linear2(a2), dim = 1).unsqueeze(1)\n",
    "        #merging the vector to return the final auxiliary output\n",
    "        aux_output = torch.cat((a1, a2), 1)\n",
    "        \n",
    "        #computing the layers for the final output\n",
    "        x = F.relu(self.fc1(x))\n",
    "        x = F.relu(self.fc2(x))\n",
    "        output = F.softmax(self.fc3(x), dim=1)\n",
    "        return output, aux_output"
   ]
  },
  {
   "cell_type": "code",
   "execution_count": 124,
   "metadata": {},
   "outputs": [
    {
     "data": {
      "text/plain": [
       "(torch.Size([5, 2]), torch.Size([5, 2, 10]))"
      ]
     },
     "execution_count": 124,
     "metadata": {},
     "output_type": "execute_result"
    }
   ],
   "source": [
    "#checks\n",
    "model = C2L3()\n",
    "x = train_input[0:5]\n",
    "output, aux_output = model(x)\n",
    "output.shape, aux_output.shape"
   ]
  },
  {
   "cell_type": "code",
   "execution_count": 125,
   "metadata": {},
   "outputs": [],
   "source": [
    "class C3L2(nn.Module):\n",
    "    def __init__(self):\n",
    "        super().__init__()\n",
    "        self.p=12\n",
    "        #convolutions\n",
    "        self.conv1 = nn.Conv2d(2, 2*self.p, kernel_size=3,groups=2)\n",
    "        self.conv2 = nn.Conv2d(2*self.p, 4*self.p, kernel_size=3,groups=2)\n",
    "        self.conv3 = nn.Conv2d(4*self.p, 8*self.p, kernel_size=3,groups=2)\n",
    "        \n",
    "        #define the half lenght of the output (linearized) after the last convolution\n",
    "        self.h = int(4**2*8*self.p/2)\n",
    "        \n",
    "        #linear layers for the auxiliary losses\n",
    "        self.aux_linear1 = nn.Linear(self.h, 10)\n",
    "        self.aux_linear2 = nn.Linear(self.h, 10)\n",
    "        \n",
    "        #linear layers for the final output\n",
    "        self.fc1 = nn.Linear(2*self.h, 20)\n",
    "        self.fc2 = nn.Linear(20, 2)\n",
    "\n",
    "        \n",
    "    def forward(self, x):\n",
    "        \n",
    "        #computing the convolution\n",
    "        x = F.relu(self.conv1(x))\n",
    "        x = F.relu(self.conv2(x))\n",
    "        x = F.relu(F.max_pool2d(self.conv3(x), kernel_size=2, stride=2))     \n",
    "        x = x.view(-1, 2*self.h)\n",
    "        \n",
    "        #computing the linear+softmax to make the auxiliary output\n",
    "        #deviding the tensor \n",
    "        a1 = x.narrow(1, 0,      self.h)\n",
    "        a2 = x.narrow(1, self.h, self.h)\n",
    "                \n",
    "        #computing auxiliarythe output\n",
    "        a1 = F.softmax(self.aux_linear1(a1), dim = 1).unsqueeze(1)\n",
    "        a2 = F.softmax(self.aux_linear2(a2), dim = 1).unsqueeze(1)\n",
    "        #merging the vector to return the final auxiliary output\n",
    "        aux_output = torch.cat((a1, a2), 1)\n",
    "        \n",
    "        #computing the layers for the final output\n",
    "        x = F.relu(self.fc1(x))\n",
    "        output = F.softmax(self.fc2(x), dim=1)\n",
    "        return output, aux_output"
   ]
  },
  {
   "cell_type": "code",
   "execution_count": 126,
   "metadata": {},
   "outputs": [
    {
     "data": {
      "text/plain": [
       "(torch.Size([5, 2]), torch.Size([5, 2, 10]))"
      ]
     },
     "execution_count": 126,
     "metadata": {},
     "output_type": "execute_result"
    }
   ],
   "source": [
    "#checks\n",
    "model = C3L2()\n",
    "x = train_input[0:5]\n",
    "output, aux_output = model(x)\n",
    "output.shape, aux_output.shape"
   ]
  },
  {
   "cell_type": "code",
   "execution_count": 127,
   "metadata": {},
   "outputs": [],
   "source": [
    "class C4L2_bis(nn.Module):#bis got switched, be careful\n",
    "    def __init__(self):\n",
    "        super().__init__()\n",
    "        self.p=7\n",
    "        #convolutions\n",
    "        self.conv1 = nn.Conv2d(2, 2*self.p, kernel_size=3,groups=2)\n",
    "        self.conv2 = nn.Conv2d(2*self.p, 4*self.p, kernel_size=3,groups=2)\n",
    "        self.conv3 = nn.Conv2d(4*self.p, 8*self.p, kernel_size=3,groups=2)\n",
    "        self.conv4 = nn.Conv2d(8*self.p, 16*self.p, kernel_size=3,groups=2)\n",
    "        \n",
    "        #hidden layer parameter\n",
    "        self.h = int(3**2*16*self.p/2)\n",
    "        \n",
    "        #linear layers for the auxiliary losses\n",
    "        self.aux_linear1 = nn.Linear(self.h, 10)\n",
    "        self.aux_linear2 = nn.Linear(self.h, 10)\n",
    "        \n",
    "        #linear layers for the final output\n",
    "        self.fc1 = nn.Linear(2*self.h, 20)\n",
    "        self.fc2 = nn.Linear(20, 2)\n",
    "\n",
    "        \n",
    "    def forward(self, x):\n",
    "        \n",
    "        #computing the convolution\n",
    "        x = F.relu(self.conv1(x))\n",
    "        x = F.relu(self.conv2(x))\n",
    "        x = F.relu(self.conv3(x))\n",
    "        x = F.relu(F.max_pool2d(self.conv4(x), kernel_size=2, stride=2))\n",
    "        x = x.view(-1, 2*self.h)\n",
    "        \n",
    "        #computing the linear+softmax to make the auxiliary output\n",
    "        #deviding the tensor \n",
    "        a1 = x.narrow(1, 0,      self.h)\n",
    "        a2 = x.narrow(1, self.h, self.h)\n",
    "                \n",
    "        #computing auxiliarythe output\n",
    "        a1 = F.softmax(self.aux_linear1(a1), dim = 1).unsqueeze(1)\n",
    "        a2 = F.softmax(self.aux_linear2(a2), dim = 1).unsqueeze(1)\n",
    "        #merging the vector to return the final auxiliary output\n",
    "        aux_output = torch.cat((a1, a2), 1)\n",
    "        \n",
    "        x = F.relu(self.fc1(x))\n",
    "        output = F.softmax(self.fc2(x), dim=1)\n",
    "        return output, aux_output"
   ]
  },
  {
   "cell_type": "code",
   "execution_count": 128,
   "metadata": {},
   "outputs": [
    {
     "data": {
      "text/plain": [
       "(torch.Size([5, 2]), torch.Size([5, 2, 10]))"
      ]
     },
     "execution_count": 128,
     "metadata": {},
     "output_type": "execute_result"
    }
   ],
   "source": [
    "#checks\n",
    "model = C4L2_bis()\n",
    "x = train_input[0:5]\n",
    "output, aux_output = model(x)\n",
    "output.shape, aux_output.shape"
   ]
  },
  {
   "cell_type": "code",
   "execution_count": 129,
   "metadata": {},
   "outputs": [],
   "source": [
    "class C4L2(nn.Module):\n",
    "    def __init__(self):\n",
    "        super().__init__()\n",
    "        self.p=9\n",
    "        #convolutions.\n",
    "        self.conv1 = nn.Conv2d(2, 2*self.p, kernel_size=3,groups=2)\n",
    "        self.conv2 = nn.Conv2d(2*self.p, 4*self.p, kernel_size=3,groups=2)\n",
    "        self.conv3 = nn.Conv2d(4*self.p, 8*self.p, kernel_size=2,groups=2)\n",
    "        self.conv4 = nn.Conv2d(8*self.p, 16*self.p, kernel_size=2,groups=2)\n",
    "        \n",
    "        #hidden layer parameter\n",
    "        self.h = int(3**2*16*self.p/2)\n",
    "        \n",
    "        #linear layers for the auxiliary losses\n",
    "        self.aux_linear1 = nn.Linear(self.h, 10)\n",
    "        self.aux_linear2 = nn.Linear(self.h, 10)\n",
    "        \n",
    "        #linear layers for the final output\n",
    "        self.fc1 = nn.Linear(2*self.h, 20)\n",
    "        self.fc2 = nn.Linear(20, 2)\n",
    "\n",
    "        \n",
    "    def forward(self, x):\n",
    "        \n",
    "        #convolutional computations\n",
    "        x = F.relu(self.conv1(x))\n",
    "        x = F.relu(F.max_pool2d(self.conv2(x), kernel_size=2, stride=2))\n",
    "        x = F.relu(self.conv3(x))\n",
    "        x = F.relu(self.conv4(x))\n",
    "        x = x.view(-1, 2*self.h)\n",
    "        \n",
    "        #computing the linear+softmax to make the auxiliary output\n",
    "        #deviding the tensor \n",
    "        a1 = x.narrow(1, 0,      self.h)\n",
    "        a2 = x.narrow(1, self.h, self.h)\n",
    "        \n",
    "        #computing auxiliarythe output\n",
    "        a1 = F.softmax(self.aux_linear1(a1), dim = 1).unsqueeze(1)\n",
    "        a2 = F.softmax(self.aux_linear2(a2), dim = 1).unsqueeze(1)\n",
    "        #merging the vector to return the final auxiliary output\n",
    "        aux_output = torch.cat((a1, a2), 1)\n",
    "        \n",
    "        #computing the layers for the final output\n",
    "        x = F.relu(self.fc1(x))\n",
    "        output = F.softmax(self.fc2(x), dim=1)\n",
    "        return output, aux_output"
   ]
  },
  {
   "cell_type": "code",
   "execution_count": 130,
   "metadata": {},
   "outputs": [
    {
     "data": {
      "text/plain": [
       "(torch.Size([5, 2]), torch.Size([5, 2, 10]))"
      ]
     },
     "execution_count": 130,
     "metadata": {},
     "output_type": "execute_result"
    }
   ],
   "source": [
    "#checks\n",
    "model = C4L2()\n",
    "x = train_input[0:5]\n",
    "output, aux_output = model(x)\n",
    "output.shape, aux_output.shape"
   ]
  },
  {
   "cell_type": "code",
   "execution_count": 131,
   "metadata": {},
   "outputs": [
    {
     "name": "stdout",
     "output_type": "stream",
     "text": [
      "70642\n"
     ]
    }
   ],
   "source": [
    "m=C1L2()\n",
    "print(n_params(m))"
   ]
  },
  {
   "cell_type": "code",
   "execution_count": 132,
   "metadata": {},
   "outputs": [
    {
     "name": "stdout",
     "output_type": "stream",
     "text": [
      "69310\n"
     ]
    }
   ],
   "source": [
    "m=C1L3()\n",
    "print(n_params(m))"
   ]
  },
  {
   "cell_type": "code",
   "execution_count": 133,
   "metadata": {},
   "outputs": [
    {
     "name": "stdout",
     "output_type": "stream",
     "text": [
      "71762\n"
     ]
    }
   ],
   "source": [
    "m=C1L5()\n",
    "print(n_params(m))"
   ]
  },
  {
   "cell_type": "code",
   "execution_count": 134,
   "metadata": {},
   "outputs": [
    {
     "name": "stdout",
     "output_type": "stream",
     "text": [
      "70702\n"
     ]
    }
   ],
   "source": [
    "m=C2L2()\n",
    "print(n_params(m))"
   ]
  },
  {
   "cell_type": "code",
   "execution_count": 135,
   "metadata": {},
   "outputs": [
    {
     "name": "stdout",
     "output_type": "stream",
     "text": [
      "74814\n"
     ]
    }
   ],
   "source": [
    "m=C2L3()\n",
    "print(n_params(m))"
   ]
  },
  {
   "cell_type": "code",
   "execution_count": 136,
   "metadata": {},
   "outputs": [
    {
     "name": "stdout",
     "output_type": "stream",
     "text": [
      "72466\n"
     ]
    }
   ],
   "source": [
    "m=C3L2()\n",
    "print(n_params(m))"
   ]
  },
  {
   "cell_type": "code",
   "execution_count": 137,
   "metadata": {},
   "outputs": [
    {
     "name": "stdout",
     "output_type": "stream",
     "text": [
      "67702\n"
     ]
    }
   ],
   "source": [
    "m=C4L2_bis()\n",
    "print(n_params(m))"
   ]
  },
  {
   "cell_type": "code",
   "execution_count": 138,
   "metadata": {},
   "outputs": [
    {
     "name": "stdout",
     "output_type": "stream",
     "text": [
      "68230\n"
     ]
    }
   ],
   "source": [
    "m=C4L2()\n",
    "print(n_params(m))"
   ]
  },
  {
   "cell_type": "code",
   "execution_count": 154,
   "metadata": {},
   "outputs": [
    {
     "name": "stdout",
     "output_type": "stream",
     "text": [
      "Starting model C1L2\n",
      "Mean number of errors after 20 epochs of training: tensor(192.9500) out of 1000 test samples with a standard deviation of tensor(21.2540)\n",
      "Starting model C2L2\n",
      "Mean number of errors after 20 epochs of training: tensor(165.4500) out of 1000 test samples with a standard deviation of tensor(15.0594)\n",
      "Starting model C2L3\n",
      "Mean number of errors after 20 epochs of training: tensor(159.1500) out of 1000 test samples with a standard deviation of tensor(15.6450)\n",
      "Starting model C3L2\n",
      "Mean number of errors after 20 epochs of training: tensor(172.8000) out of 1000 test samples with a standard deviation of tensor(18.3177)\n",
      "Starting model C4L2\n",
      "Mean number of errors after 20 epochs of training: tensor(156.4000) out of 1000 test samples with a standard deviation of tensor(16.2105)\n"
     ]
    },
    {
     "data": {
      "image/png": "[encoded data removed]",
      "text/plain": [
       "<Figure size 720x432 with 1 Axes>"
      ]
     },
     "metadata": {
      "needs_background": "light"
     },
     "output_type": "display_data"
    }
   ],
   "source": [
    "#models=[C1L2,C1L3,C1L5,C2L2,C2L3,C3L2,C4L2,C4L2_bis]\n",
    "#model_names=['C1L2','C1L3','C1L5','C2L2','C2L3','C3L2','C4L2','C4L2_bis']\n",
    "\n",
    "models=[C1L2,C2L2,C2L3,C3L2,C4L2]\n",
    "model_names=['C1L2','C2L2','C2L3','C3L2','C4L2']\n",
    "big_error_plot(models,model_names,n=20,nb_epochs=20,name='big_plot_aux=1.png')"
   ]
  },
  {
   "cell_type": "code",
   "execution_count": 164,
   "metadata": {
    "scrolled": true
   },
   "outputs": [
    {
     "name": "stdout",
     "output_type": "stream",
     "text": [
      "Starting model C1L2\n",
      "Mean number of errors after 20 epochs of training: tensor(180.6500) out of 1000 test samples with a standard deviation of tensor(12.9219)\n",
      "Starting model C2L2\n",
      "Mean number of errors after 20 epochs of training: tensor(166.5000) out of 1000 test samples with a standard deviation of tensor(15.5749)\n",
      "Starting model C2L3\n",
      "Mean number of errors after 20 epochs of training: tensor(179.3000) out of 1000 test samples with a standard deviation of tensor(21.8683)\n",
      "Starting model C3L2\n",
      "Mean number of errors after 20 epochs of training: tensor(169.3500) out of 1000 test samples with a standard deviation of tensor(10.6488)\n",
      "Starting model C4L2\n",
      "Mean number of errors after 20 epochs of training: tensor(168.4000) out of 1000 test samples with a standard deviation of tensor(12.5589)\n"
     ]
    },
    {
     "data": {
      "image/png": "[encoded data removed]",
      "text/plain": [
       "<Figure size 720x432 with 1 Axes>"
      ]
     },
     "metadata": {
      "needs_background": "light"
     },
     "output_type": "display_data"
    }
   ],
   "source": [
    "#Same as before with aux_factor=0.1\n",
    "models=[C1L2,C2L2,C2L3,C3L2,C4L2]\n",
    "model_names=['C1L2','C2L2','C2L3','C3L2','C4L2']\n",
    "big_error_plot(models,model_names,n=20,nb_epochs=20,aux_factor=0.1,name='big_plot_aux=01.png')"
   ]
  },
  {
   "cell_type": "code",
   "execution_count": 156,
   "metadata": {
    "scrolled": true
   },
   "outputs": [
    {
     "name": "stdout",
     "output_type": "stream",
     "text": [
      "Starting model C1L2\n",
      "Mean number of errors after 20 epochs of training: tensor(191.8500) out of 1000 test samples with a standard deviation of tensor(55.4325)\n",
      "Starting model C2L2\n",
      "Mean number of errors after 20 epochs of training: tensor(167.5500) out of 1000 test samples with a standard deviation of tensor(8.5377)\n",
      "Starting model C2L3\n",
      "Mean number of errors after 20 epochs of training: tensor(183.8500) out of 1000 test samples with a standard deviation of tensor(22.6164)\n",
      "Starting model C3L2\n",
      "Mean number of errors after 20 epochs of training: tensor(179.1500) out of 1000 test samples with a standard deviation of tensor(14.8014)\n",
      "Starting model C4L2\n",
      "Mean number of errors after 20 epochs of training: tensor(182.6500) out of 1000 test samples with a standard deviation of tensor(14.2248)\n"
     ]
    },
    {
     "data": {
      "image/png": "[encoded data removed]",
      "text/plain": [
       "<Figure size 720x432 with 1 Axes>"
      ]
     },
     "metadata": {
      "needs_background": "light"
     },
     "output_type": "display_data"
    }
   ],
   "source": [
    "#Same as before with aux_factor=0\n",
    "models=[C1L2,C2L2,C2L3,C3L2,C4L2]\n",
    "model_names=['C1L2','C2L2','C2L3','C3L2','C4L2']\n",
    "big_error_plot(models,model_names,n=20,nb_epochs=20,aux_factor=0,name='big_plot_aux=0.png')"
   ]
  },
  {
   "cell_type": "code",
   "execution_count": 139,
   "metadata": {},
   "outputs": [],
   "source": [
    "model=C1L2\n",
    "m=model()\n",
    "mini_batch_size=10\n",
    "eta=1e-3\n",
    "nb_epochs=20\n",
    "aux_factor=0.1\n",
    "train_input,train_target,train_classes,test_input,test_target,test_classes=various_data_functions.data(N,True,False,nn.CrossEntropyLoss,shuffle=shuffle)\n",
    "new_losses,new_errors=train_model(m, train_input, train_target,train_classes,mini_batch_size,test_input=test_input, test_target=test_target,crit=nn.CrossEntropyLoss,eta=eta,nb_epochs=nb_epochs,aux_factor=aux_factor,store_loss=True,store_error=True,checkpoint_name=None)"
   ]
  },
  {
   "cell_type": "code",
   "execution_count": 140,
   "metadata": {},
   "outputs": [
    {
     "name": "stdout",
     "output_type": "stream",
     "text": [
      "test error Net 20.00% 200/1000\n"
     ]
    }
   ],
   "source": [
    "nb_test_errors = compute_nb_errors(m, test_input, test_target, mini_batch_size)\n",
    "print('test error Net {:0.2f}% {:d}/{:d}'.format((100 * nb_test_errors) / test_input.size(0),nb_test_errors, test_input.size(0)))"
   ]
  },
  {
   "cell_type": "code",
   "execution_count": 161,
   "metadata": {},
   "outputs": [
    {
     "name": "stdout",
     "output_type": "stream",
     "text": [
      "C1L2\n",
      "seconds per epoch: 0.6371999979019165\n",
      "C2L2\n",
      "seconds per epoch: 0.7940500020980835\n",
      "C2L3\n",
      "seconds per epoch: 0.8151166637738546\n",
      "C3L2\n",
      "seconds per epoch: 1.10300000111262\n",
      "C4L2\n",
      "seconds per epoch: 1.0520166675249736\n"
     ]
    }
   ],
   "source": [
    "#Check runtime per epoch:\n",
    "import time\n",
    "models=[C1L2,C2L2,C2L3,C3L2,C4L2]\n",
    "model_names=['C1L2','C2L2','C2L3','C3L2','C4L2']\n",
    "for i in range(len(models)):\n",
    "    start_time = time.time()\n",
    "    run_many_times(models[i],crit=nn.CrossEntropyLoss,mini_batch_size=10,n=3,print_=False,eta=1e-3,nb_epochs=20,aux_factor=1,shuffle=True, store_error=False,checkpoint_name=None)\n",
    "    print(model_names[i])\n",
    "    print(\"seconds per epoch: \" + str((time.time() - start_time)/60))\n"
   ]
  },
  {
   "cell_type": "code",
   "execution_count": 162,
   "metadata": {},
   "outputs": [
    {
     "name": "stdout",
     "output_type": "stream",
     "text": [
      "seconds per epoch: 0.6345333337783814\n",
      "seconds per epoch: 0.7856333335240682\n",
      "seconds per epoch: 0.8417333324750265\n",
      "seconds per epoch: 1.096833332379659\n",
      "seconds per epoch: 1.058399999141693\n"
     ]
    }
   ],
   "source": [
    "#Check runtime per epoch:\n",
    "models=[C1L2,C2L2,C2L3,C3L2,C4L2]\n",
    "model_names=['C1L2','C2L2','C2L3','C3L2','C4L2']\n",
    "for i in range(len(models)):\n",
    "    start_time = time.time()\n",
    "    run_many_times(models[i],crit=nn.CrossEntropyLoss,mini_batch_size=10,n=3,print_=False,eta=1e-3,nb_epochs=20,aux_factor=1,shuffle=True, store_error=False,checkpoint_name=None)\n",
    "    print(model_names[i])\n",
    "    print(\"seconds per epoch: \" + str((time.time() - start_time)/60))\n"
   ]
  },
  {
   "cell_type": "code",
   "execution_count": null,
   "metadata": {},
   "outputs": [],
   "source": []
  }
 ],
 "metadata": {
  "kernelspec": {
   "display_name": "Python 3",
   "language": "python",
   "name": "python3"
  },
  "language_info": {
   "codemirror_mode": {
    "name": "ipython",
    "version": 3
   },
   "file_extension": ".py",
   "mimetype": "text/x-python",
   "name": "python",
   "nbconvert_exporter": "python",
   "pygments_lexer": "ipython3",
   "version": "3.7.7"
  }
 },
 "nbformat": 4,
 "nbformat_minor": 4
}
