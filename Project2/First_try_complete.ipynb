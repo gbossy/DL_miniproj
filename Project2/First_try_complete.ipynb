{
 "cells": [
  {
   "cell_type": "code",
   "execution_count": 1,
   "id": "supported-helena",
   "metadata": {
    "id": "thermal-humanity"
   },
   "outputs": [],
   "source": [
    "import torch\n",
    "import math\n",
    "#torch.set_grad_enabled(False)"
   ]
  },
  {
   "cell_type": "code",
   "execution_count": 2,
   "id": "searching-tract",
   "metadata": {
    "id": "found-annex"
   },
   "outputs": [],
   "source": [
    "class Parameter():\n",
    "    def __init__(self):\n",
    "        self.name = ''\n",
    "        self.data = None\n",
    "        self.grad = None"
   ]
  },
  {
   "cell_type": "code",
   "execution_count": 3,
   "id": "unlimited-samoa",
   "metadata": {
    "id": "therapeutic-current"
   },
   "outputs": [],
   "source": [
    "class Module(object):\n",
    "    def forward (self, *input):\n",
    "        raise NotImplementedError\n",
    "        \n",
    "    def backward ( self , * gradwrtoutput ) :\n",
    "        raise NotImplementedError\n",
    "    \n",
    "    def get_parameters( self ) :\n",
    "        return []   "
   ]
  },
  {
   "cell_type": "code",
   "execution_count": 4,
   "id": "driving-grade",
   "metadata": {
    "id": "imperial-class",
    "scrolled": true
   },
   "outputs": [],
   "source": [
    "class Losses(object):        \n",
    "    def forward():\n",
    "        return NotImplementedError\n",
    "    def backward():\n",
    "        NotImplementedError"
   ]
  },
  {
   "cell_type": "code",
   "execution_count": 5,
   "id": "outdoor-covering",
   "metadata": {},
   "outputs": [],
   "source": [
    "class Optimizer(object):\n",
    "    def zero_grad(self):\n",
    "        for parameter in self.param : \n",
    "            parameter.grad = 0\n",
    "            \n",
    "    def step(self):\n",
    "        raise NotImplementedError"
   ]
  },
  {
   "cell_type": "code",
   "execution_count": 6,
   "id": "egyptian-progress",
   "metadata": {
    "id": "comfortable-calgary"
   },
   "outputs": [],
   "source": [
    "class SGD(Optimizer):\n",
    "    # this is a SGD optimizer\n",
    "    def __init__(self,lr,max_iter, parameters) :  # should we add a \"tolerance_grad\" argument ? F: What do you mean with \"tolerance_grad\"\n",
    "        super().__init__()\n",
    "        self.eta = lr\n",
    "        self.maxStep = max_iter # maybe this shouldn't be put inside the module F: Agree\n",
    "        self.param = parameters\n",
    "        self.number_step = 0\n",
    "\n",
    "    def step(self): #batch de datapoint  --> confused : how can we do it stochastic ? ou alors on l'appelle step(batch)\n",
    "        # right now, eta is considered constant \n",
    "        #print(self.param[1].data)\n",
    "        #print('step')\n",
    "        if self.number_step <=self.maxStep:\n",
    "            for parameter in self.param :\n",
    "                #print(parameter)\n",
    "                #print(parameter.data[1])\n",
    "                parameter.data = parameter.data - self.eta * parameter.grad\n",
    "                #print(parameter.data[1])\n",
    "            self.number_step = self.number_step + 1\n",
    "            #print('after update',self.param[1].data)\n",
    "        return self.param"
   ]
  },
  {
   "cell_type": "code",
   "execution_count": 7,
   "id": "external-evolution",
   "metadata": {
    "id": "asian-evanescence"
   },
   "outputs": [],
   "source": [
    "class Linear(Module):\n",
    "    \n",
    "    def __init__(self, input_dim, out_dim, bias = True):\n",
    "        super().__init__()\n",
    "        std = 1/math.sqrt(input_dim)\n",
    "        self.weight = Parameter()\n",
    "        self.parameters = []\n",
    "        \n",
    "        self.weight.data = torch.rand(out_dim, input_dim)\n",
    "        self.weight.data = 2*std*self.weight.data - std\n",
    "        self.weight.name = 'weight'\n",
    "        self.parameters += [self.weight]\n",
    "        \n",
    "        self.with_bias = bias\n",
    "        if bias :\n",
    "            self.bias = Parameter()\n",
    "            self.bias.data = torch.rand(out_dim)\n",
    "            self.bias.data = 2*std*self.bias.data - std\n",
    "            self.bias.name = 'bias'\n",
    "            self.parameters +=[self.bias]\n",
    "            \n",
    "        self.x = None\n",
    "              \n",
    "    def forward(self, x):\n",
    "        self.x = x\n",
    "        return self.weight.data.mv(x) + self.bias.data\n",
    "        \n",
    "    def backward(self, prev_grad):\n",
    "        \n",
    "        prev_grad = prev_grad.view(-1, 1)\n",
    "        if self.x is None:\n",
    "            raise CallForwardFirst\n",
    "        \n",
    "        if self.weight.grad is None:\n",
    "            self.weight.grad = torch.zeros_like(self.weight.data)\n",
    "        \n",
    "        self.weight.grad += prev_grad.view(-1, 1)*self.x.view(1, -1)\n",
    "        \n",
    "        if self.with_bias:\n",
    "            if self.bias.grad is None:\n",
    "                self.bias.grad = torch.zeros_like(self.bias.data)\n",
    "            self.bias.grad += prev_grad.view(-1)\n",
    "        \n",
    "        next_grad = prev_grad.view(1, -1)@self.weight.data\n",
    "        next_grad = next_grad.view(-1, 1)\n",
    "        return next_grad\n",
    "    \n",
    "    def get_parameters(self):\n",
    "        return self.parameters\n",
    "    "
   ]
  },
  {
   "cell_type": "code",
   "execution_count": 8,
   "id": "secret-trader",
   "metadata": {
    "id": "written-benjamin",
    "scrolled": true
   },
   "outputs": [],
   "source": [
    "class Tanh(Module):\n",
    "    def __init__(self):\n",
    "        self.x = None\n",
    "    \n",
    "    def forward (self, x):\n",
    "        self.x = x\n",
    "        return torch.tanh(x)\n",
    "        \n",
    "    def backward ( self, prev_grad) :\n",
    "        if self.x is None:\n",
    "            raise CallForwardFirst\n",
    "            \n",
    "        def d(x):\n",
    "            return 4 * (x.exp() + x.mul(-1).exp()).pow(-2)\n",
    "        \n",
    "        return d(self.x)*prev_grad\n",
    "    "
   ]
  },
  {
   "cell_type": "code",
   "execution_count": 9,
   "id": "spiritual-orchestra",
   "metadata": {
    "id": "happy-review"
   },
   "outputs": [],
   "source": [
    "class MSE(Losses):\n",
    "    def __init__(self):\n",
    "        self.x = None\n",
    "    def forward(self, x, t):\n",
    "        self.x = x\n",
    "        self.t = t\n",
    "        return (x - t).pow(2).mean()\n",
    "    \n",
    "    def backward(self):\n",
    "        if self.x == None or self.t == None:\n",
    "            raise CallForwardFirst\n",
    "        return 2 * (self.x - self.t)/len(self.x)"
   ]
  },
  {
   "cell_type": "code",
   "execution_count": 10,
   "id": "emerging-karma",
   "metadata": {
    "id": "active-skirt"
   },
   "outputs": [],
   "source": [
    "class Sequential(object):\n",
    "    def __init__(self, modules):\n",
    "        super().__init__()\n",
    "        self.modules=modules\n",
    "        self.parameters = []\n",
    "        for m in self.modules:\n",
    "            param = m.get_parameters()\n",
    "            if param:\n",
    "                self.parameters += param\n",
    "        \n",
    "    def forward(self,x):\n",
    "        for m in self.modules:\n",
    "            x=m.forward(x)\n",
    "        return x\n",
    "    \n",
    "    def backward(self, loss_grad):\n",
    "        x = loss_grad\n",
    "        for m in reversed(self.modules):\n",
    "            x = m.backward(x)\n",
    "            \n",
    "    def get_parameters(self):\n",
    "        return self.parameters\n",
    "\n",
    "    def set_parameters(self , params):\n",
    "        #print(self.parameters[1].data)\n",
    "        self.parameters = params\n",
    "        #print('after',self.parameters[1].data)\n",
    "        #for i in range (len(new_par)):\n",
    "         #   self.parameters[i] = params[i]"
   ]
  },
  {
   "cell_type": "code",
   "execution_count": 11,
   "id": "bacterial-cooperation",
   "metadata": {
    "id": "legal-buying"
   },
   "outputs": [
    {
     "data": {
      "text/plain": [
       "[<matplotlib.lines.Line2D at 0x2c194092c48>]"
      ]
     },
     "execution_count": 11,
     "metadata": {},
     "output_type": "execute_result"
    },
    {
     "data": {
      "image/png": "[encoded data removed]",
      "text/plain": [
       "<Figure size 432x288 with 1 Axes>"
      ]
     },
     "metadata": {
      "needs_background": "light"
     },
     "output_type": "display_data"
    }
   ],
   "source": [
    "def generate_disc_set(nb):\n",
    "    input_ = torch.empty(nb, 2).uniform_(0, 1)\n",
    "    target = (input_-0.5).pow(2).sum(1).sub(1 / (math.pi*2)).sign().add(1).div(2).long()\n",
    "    return input_, target\n",
    "input_data, output_data=generate_disc_set(1000)\n",
    "output_data=1-output_data\n",
    "import matplotlib.pyplot as plt\n",
    "plt.plot(input_data[:,0][output_data==1],input_data[:,1][output_data==1],'bo')\n",
    "plt.plot(input_data[:,0][output_data!=1],input_data[:,1][output_data!=1],'go')"
   ]
  },
  {
   "cell_type": "code",
   "execution_count": 12,
   "id": "occasional-accident",
   "metadata": {},
   "outputs": [
    {
     "name": "stdout",
     "output_type": "stream",
     "text": [
      "tensor([[ 1.3843,  1.2846],\n",
      "        [-0.2425,  0.5576],\n",
      "        [-0.9833, -0.4183],\n",
      "        ...,\n",
      "        [ 0.3331, -1.5958],\n",
      "        [-0.6003, -1.2242],\n",
      "        [-1.2446,  0.9233]])\n"
     ]
    }
   ],
   "source": [
    "input_data-=input_data.mean(0)\n",
    "input_data/=input_data.std(0)\n",
    "print(input_data)\n"
   ]
  },
  {
   "cell_type": "code",
   "execution_count": 13,
   "id": "northern-constitutional",
   "metadata": {
    "id": "legal-buying"
   },
   "outputs": [],
   "source": [
    "#handmade sequential linear + relu \n",
    "linear1 = Linear(2, 25, True)\n",
    "linear2 = Linear(25,25,True)\n",
    "linear3 = Linear(25,1,True)\n",
    "sigma = Tanh()\n",
    "loss = MSE()\n",
    "\n",
    "net = Sequential([\n",
    "    linear1, \n",
    "    sigma,\n",
    "    linear2,\n",
    "    sigma,\n",
    "    linear3,\n",
    "    sigma,\n",
    "])"
   ]
  },
  {
   "cell_type": "code",
   "execution_count": 14,
   "id": "mounted-geometry",
   "metadata": {
    "colab": {
     "base_uri": "https://localhost:8080/"
    },
    "id": "0e0HB0UJzdFw",
    "outputId": "ac09630f-db97-466d-e511-5334ec5b9fd1"
   },
   "outputs": [
    {
     "name": "stdout",
     "output_type": "stream",
     "text": [
      "0    MSE loss =  1024.950927734375\n",
      "10    MSE loss =  981.3118286132812\n",
      "20    MSE loss =  952.0742797851562\n",
      "30    MSE loss =  919.8853149414062\n",
      "40    MSE loss =  883.210205078125\n",
      "50    MSE loss =  841.8634033203125\n",
      "60    MSE loss =  796.9904174804688\n",
      "70    MSE loss =  750.7899169921875\n",
      "80    MSE loss =  705.7569580078125\n",
      "90    MSE loss =  663.9248657226562\n",
      "100    MSE loss =  626.4719848632812\n",
      "110    MSE loss =  623.3106689453125\n",
      "120    MSE loss =  623.3106689453125\n",
      "130    MSE loss =  623.3106689453125\n",
      "140    MSE loss =  623.3106689453125\n",
      "150    MSE loss =  623.3106689453125\n",
      "160    MSE loss =  623.3106689453125\n",
      "170    MSE loss =  623.3106689453125\n",
      "180    MSE loss =  623.3106689453125\n",
      "190    MSE loss =  623.3106689453125\n",
      "200    MSE loss =  623.3106689453125\n",
      "210    MSE loss =  623.3106689453125\n",
      "220    MSE loss =  623.3106689453125\n",
      "230    MSE loss =  623.3106689453125\n",
      "240    MSE loss =  623.3106689453125\n",
      "250    MSE loss =  623.3106689453125\n",
      "260    MSE loss =  623.3106689453125\n",
      "270    MSE loss =  623.3106689453125\n",
      "280    MSE loss =  623.3106689453125\n",
      "290    MSE loss =  623.3106689453125\n",
      "300    MSE loss =  623.3106689453125\n",
      "310    MSE loss =  623.3106689453125\n",
      "320    MSE loss =  623.3106689453125\n",
      "330    MSE loss =  623.3106689453125\n",
      "340    MSE loss =  623.3106689453125\n",
      "350    MSE loss =  623.3106689453125\n",
      "360    MSE loss =  623.3106689453125\n",
      "370    MSE loss =  623.3106689453125\n",
      "380    MSE loss =  623.3106689453125\n",
      "390    MSE loss =  623.3106689453125\n",
      "400    MSE loss =  623.3106689453125\n",
      "410    MSE loss =  623.3106689453125\n",
      "420    MSE loss =  623.3106689453125\n",
      "430    MSE loss =  623.3106689453125\n",
      "440    MSE loss =  623.3106689453125\n",
      "450    MSE loss =  623.3106689453125\n",
      "460    MSE loss =  623.3106689453125\n",
      "470    MSE loss =  623.3106689453125\n",
      "480    MSE loss =  623.3106689453125\n",
      "490    MSE loss =  623.3106689453125\n",
      "500    MSE loss =  623.3106689453125\n",
      "510    MSE loss =  623.3106689453125\n",
      "520    MSE loss =  623.3106689453125\n",
      "530    MSE loss =  623.3106689453125\n",
      "540    MSE loss =  623.3106689453125\n",
      "550    MSE loss =  623.3106689453125\n",
      "560    MSE loss =  623.3106689453125\n",
      "570    MSE loss =  623.3106689453125\n",
      "580    MSE loss =  623.3106689453125\n",
      "590    MSE loss =  623.3106689453125\n",
      "600    MSE loss =  623.3106689453125\n",
      "610    MSE loss =  623.3106689453125\n",
      "620    MSE loss =  623.3106689453125\n",
      "630    MSE loss =  623.3106689453125\n",
      "640    MSE loss =  623.3106689453125\n",
      "650    MSE loss =  623.3106689453125\n",
      "660    MSE loss =  623.3106689453125\n",
      "670    MSE loss =  623.3106689453125\n",
      "680    MSE loss =  623.3106689453125\n",
      "690    MSE loss =  623.3106689453125\n",
      "700    MSE loss =  623.3106689453125\n",
      "710    MSE loss =  623.3106689453125\n",
      "720    MSE loss =  623.3106689453125\n",
      "730    MSE loss =  623.3106689453125\n",
      "740    MSE loss =  623.3106689453125\n",
      "750    MSE loss =  623.3106689453125\n",
      "760    MSE loss =  623.3106689453125\n",
      "770    MSE loss =  623.3106689453125\n",
      "780    MSE loss =  623.3106689453125\n",
      "790    MSE loss =  623.3106689453125\n",
      "800    MSE loss =  623.3106689453125\n",
      "810    MSE loss =  623.3106689453125\n",
      "820    MSE loss =  623.3106689453125\n",
      "830    MSE loss =  623.3106689453125\n",
      "840    MSE loss =  623.3106689453125\n",
      "850    MSE loss =  623.3106689453125\n",
      "860    MSE loss =  623.3106689453125\n",
      "870    MSE loss =  623.3106689453125\n",
      "880    MSE loss =  623.3106689453125\n",
      "890    MSE loss =  623.3106689453125\n",
      "900    MSE loss =  623.3106689453125\n",
      "910    MSE loss =  623.3106689453125\n",
      "920    MSE loss =  623.3106689453125\n",
      "930    MSE loss =  623.3106689453125\n",
      "940    MSE loss =  623.3106689453125\n",
      "950    MSE loss =  623.3106689453125\n",
      "960    MSE loss =  623.3106689453125\n",
      "970    MSE loss =  623.3106689453125\n",
      "980    MSE loss =  623.3106689453125\n",
      "990    MSE loss =  623.3106689453125\n"
     ]
    }
   ],
   "source": [
    "optimizer = SGD(lr = 1e-4,max_iter = 100, parameters = net.get_parameters())\n",
    "n=10**3\n",
    "N=output_data.shape[0]\n",
    "for t in range(n):\n",
    "    optimizer.zero_grad()\n",
    "    acc_loss=0\n",
    "    for i in range(N):\n",
    "        x=input_data[i]\n",
    "        y=2*output_data[i]-1\n",
    "        # Forward pass: compute predicted y by passing x to the model.\n",
    "        y_pred = net.forward(x)\n",
    "\n",
    "        # Compute and print loss.\n",
    "        acc_loss += loss.forward(y_pred,y)\n",
    "        \n",
    "        # Backward pass: compute gradient of the loss with respect to model parameters\n",
    "        net.backward(loss.backward())\n",
    "\n",
    "    # Calling the step function on an Optimizer makes an update to its parameters\n",
    "    new_par = optimizer.step()\n",
    "    #print(len(new_par))\n",
    "    net.set_parameters(new_par)\n",
    "    \n",
    "    \n",
    "    if t%10==0:\n",
    "        print(t, '   MSE loss = ' , acc_loss.item())"
   ]
  },
  {
   "cell_type": "code",
   "execution_count": 15,
   "id": "automatic-zimbabwe",
   "metadata": {},
   "outputs": [
    {
     "name": "stdout",
     "output_type": "stream",
     "text": [
      "Correct predictions after 1000 training steps: 92.9 %\n"
     ]
    }
   ],
   "source": [
    "correct=0\n",
    "\n",
    "for i in range(output_data.shape[0]):\n",
    "        x=input_data[i]\n",
    "        y=2*output_data[i]-1\n",
    "        # Forward pass: compute predicted y by passing x to the model.\n",
    "        y_pred = net.forward(x)\n",
    "        if abs(y_pred-output_data[i])<1:\n",
    "            correct+=1\n",
    "print('Correct predictions after '+str(n)+' training steps: '+str(correct/N*100)+' %')"
   ]
  },
  {
   "cell_type": "code",
   "execution_count": null,
   "id": "favorite-secret",
   "metadata": {},
   "outputs": [],
   "source": []
  }
 ],
 "metadata": {
  "colab": {
   "collapsed_sections": [],
   "name": "modules+sequential_notokyet.ipynb",
   "provenance": []
  },
  "kernelspec": {
   "display_name": "tirocinio",
   "language": "python",
   "name": "tirocinio"
  },
  "language_info": {
   "codemirror_mode": {
    "name": "ipython",
    "version": 3
   },
   "file_extension": ".py",
   "mimetype": "text/x-python",
   "name": "python",
   "nbconvert_exporter": "python",
   "pygments_lexer": "ipython3",
   "version": "3.7.4"
  }
 },
 "nbformat": 4,
 "nbformat_minor": 5
}
