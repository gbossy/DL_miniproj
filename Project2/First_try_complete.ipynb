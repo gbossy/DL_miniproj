{
 "cells": [
  {
   "cell_type": "code",
   "execution_count": 12,
   "metadata": {
    "id": "thermal-humanity"
   },
   "outputs": [],
   "source": [
    "import torch\n",
    "import math\n",
    "#torch.set_grad_enabled(False)"
   ]
  },
  {
   "cell_type": "code",
   "execution_count": 13,
   "metadata": {
    "id": "therapeutic-current"
   },
   "outputs": [],
   "source": [
    "class Module(object):\n",
    "    def forward (self, *input):\n",
    "        raise NotImplementedError\n",
    "        \n",
    "    def backward ( self , * gradwrtoutput ) :\n",
    "        raise NotImplementedError\n",
    "    \n",
    "    def get_parameters( self ) :\n",
    "        return []   "
   ]
  },
  {
   "cell_type": "code",
   "execution_count": 14,
   "metadata": {
    "id": "imperial-class",
    "scrolled": true
   },
   "outputs": [],
   "source": [
    "class Losses(object):        \n",
    "    def forward():\n",
    "        return NotImplementedError\n",
    "    def backward():\n",
    "        NotImplementedError"
   ]
  },
  {
   "cell_type": "code",
   "execution_count": 15,
   "metadata": {
    "id": "comfortable-calgary"
   },
   "outputs": [],
   "source": [
    "class Optimizers(object):\n",
    "    # this is a SGD optimizer\n",
    "    def __init__(self,lr,max_iter, parameters) :  # should we add a \"tolerance_grad\" argument ? \n",
    "        super().__init__()\n",
    "        self.eta = lr\n",
    "        self.maxStep = max_iter # maybe this shouldn't be put inside the module\n",
    "        self.param = parameters\n",
    "        self.number_step = 0\n",
    "\n",
    "    def zero_grad(self):\n",
    "        for parameter in self.param : \n",
    "            parameter.grad = 0\n",
    "\n",
    "    def step(self): #batch de datapoint  --> confused : how can we do it stochastic ? ou alors on l'appelle step(batch)\n",
    "        # right now, eta is considered constant \n",
    "        #print(self.param[1].data)\n",
    "        #print('step')\n",
    "        if self.number_step <=self.maxStep:\n",
    "            for parameter in self.param :\n",
    "                #print(parameter)\n",
    "                #print(parameter.data[1])\n",
    "                parameter.data = parameter.data - self.eta * parameter.grad\n",
    "                #print(parameter.data[1])\n",
    "            self.number_step = self.number_step + 1\n",
    "            #print('after update',self.param[1].data)\n",
    "        return self.param"
   ]
  },
  {
   "cell_type": "code",
   "execution_count": 16,
   "metadata": {
    "id": "found-annex"
   },
   "outputs": [],
   "source": [
    "class Parameter():\n",
    "    def __init__(self):\n",
    "        self.name = ''\n",
    "        self.data = None\n",
    "        self.grad = None"
   ]
  },
  {
   "cell_type": "code",
   "execution_count": 17,
   "metadata": {
    "id": "asian-evanescence"
   },
   "outputs": [],
   "source": [
    "class Linear(Module):\n",
    "    \n",
    "    def __init__(self, input_dim, out_dim, bias = True):\n",
    "        super().__init__()\n",
    "        std = 1/math.sqrt(input_dim)\n",
    "        self.weight = Parameter()\n",
    "        self.parameters = []\n",
    "        \n",
    "        self.weight.data = torch.rand(out_dim, input_dim)\n",
    "        self.weight.data = 2*std*self.weight.data - std\n",
    "        self.weight.name = 'weight'\n",
    "        self.parameters += [self.weight]\n",
    "        \n",
    "        self.with_bias = bias\n",
    "        if bias :\n",
    "            self.bias = Parameter()\n",
    "            self.bias.data = torch.rand(out_dim)\n",
    "            self.bias.data = 2*std*self.bias.data - std\n",
    "            self.bias.name = 'bias'\n",
    "            self.parameters +=[self.bias]\n",
    "            \n",
    "        self.x = None\n",
    "              \n",
    "    def forward(self, x):\n",
    "        self.x = x\n",
    "        return self.weight.data.mv(x) + self.bias.data\n",
    "        \n",
    "    def backward(self, prev_grad):\n",
    "        \n",
    "        prev_grad = prev_grad.view(-1, 1)\n",
    "        if self.x is None:\n",
    "            raise CallForwardFirst\n",
    "        \n",
    "        if self.weight.grad is None:\n",
    "            self.weight.grad = torch.zeros_like(self.weight.data)\n",
    "        \n",
    "        self.weight.grad += prev_grad.view(-1, 1)*self.x.view(1, -1)\n",
    "        \n",
    "        if self.with_bias:\n",
    "            if self.bias.grad is None:\n",
    "                self.bias.grad = torch.zeros_like(self.bias.data)\n",
    "            self.bias.grad += prev_grad.view(-1)\n",
    "        \n",
    "        next_grad = prev_grad.view(1, -1)@self.weight.data\n",
    "        next_grad = next_grad.view(-1, 1)\n",
    "        return next_grad\n",
    "    \n",
    "    def get_parameters(self):\n",
    "        return self.parameters\n",
    "    "
   ]
  },
  {
   "cell_type": "code",
   "execution_count": 18,
   "metadata": {
    "id": "written-benjamin",
    "scrolled": true
   },
   "outputs": [],
   "source": [
    "class Tanh(Module):\n",
    "    def __init__(self):\n",
    "        self.x = None\n",
    "    \n",
    "    def forward (self, x):\n",
    "        self.x = x\n",
    "        return torch.tanh(x)\n",
    "        \n",
    "    def backward ( self, prev_grad) :\n",
    "        if self.x is None:\n",
    "            raise CallForwardFirst\n",
    "            \n",
    "        def d(x):\n",
    "            return 4 * (x.exp() + x.mul(-1).exp()).pow(-2)\n",
    "        \n",
    "        return d(self.x)*prev_grad\n",
    "    "
   ]
  },
  {
   "cell_type": "code",
   "execution_count": 19,
   "metadata": {
    "id": "happy-review"
   },
   "outputs": [],
   "source": [
    "class MSE(Losses):\n",
    "    def __init__(self):\n",
    "        self.x = None\n",
    "    def forward(self, x, t):\n",
    "        self.x = x\n",
    "        self.t = t\n",
    "        return (x - t).pow(2).mean()\n",
    "    \n",
    "    def backward(self):\n",
    "        if self.x == None or self.t == None:\n",
    "            raise CallForwardFirst\n",
    "        return 2 * (self.x - self.t)/len(self.x)"
   ]
  },
  {
   "cell_type": "code",
   "execution_count": 20,
   "metadata": {
    "id": "active-skirt"
   },
   "outputs": [],
   "source": [
    "class Sequential(object):\n",
    "    def __init__(self, modules):\n",
    "        super().__init__()\n",
    "        self.modules=modules\n",
    "        self.parameters = []\n",
    "        for m in self.modules:\n",
    "            param = m.get_parameters()\n",
    "            if param:\n",
    "                self.parameters += param\n",
    "        \n",
    "    def forward(self,x):\n",
    "        for m in self.modules:\n",
    "            x=m.forward(x)\n",
    "        return x\n",
    "    \n",
    "#    def backward(self,weights,values,dl_dw,target):\n",
    "#        xn=values[-1]\n",
    "#        dl_dx=[]\n",
    "#        dl_dx.append(dloss(x_n,t))\n",
    "#        for i in range(len(self.modules)).reversed():\n",
    "#            m=self.modules[i]\n",
    "#            dl_dx.append(m.backwardoutput(dl_dx[-1],values[i]))#backward is implemented for each module\n",
    "#        for i in range(len(self.modules)).reversed():\n",
    "#            m=self.modules[i]\n",
    "#            dl_dw=m.backwardweights(dl_dw,dl_dx[i+1],values[i])\n",
    "    \n",
    "    def backward(self, loss_grad):\n",
    "        x = loss_grad\n",
    "        for m in reversed(self.modules):\n",
    "            x = m.backward(x)\n",
    "            \n",
    "    def get_parameters(self):\n",
    "        return self.parameters\n",
    "\n",
    "    def set_parameters(self , params):\n",
    "        #print(self.parameters[1].data)\n",
    "        self.parameters = params\n",
    "        #print('after',self.parameters[1].data)\n",
    "        #for i in range (len(new_par)):\n",
    "         #   self.parameters[i] = params[i]"
   ]
  },
  {
   "cell_type": "code",
   "execution_count": 45,
   "metadata": {
    "id": "legal-buying"
   },
   "outputs": [
    {
     "data": {
      "text/plain": [
       "[<matplotlib.lines.Line2D at 0xdfd3cc8>]"
      ]
     },
     "execution_count": 45,
     "metadata": {},
     "output_type": "execute_result"
    },
    {
     "data": {
      "image/png": "[encoded data removed]",
      "text/plain": [
       "<Figure size 432x288 with 1 Axes>"
      ]
     },
     "metadata": {
      "needs_background": "light"
     },
     "output_type": "display_data"
    }
   ],
   "source": [
    "def generate_disc_set(nb):\n",
    "    input_ = torch.empty(nb, 2).uniform_(0, 1)\n",
    "    target = (input_-0.5).pow(2).sum(1).sub(1 / (math.pi*2)).sign().add(1).div(2).long()\n",
    "    return input_, target\n",
    "input_data, output_data=generate_disc_set(1000)\n",
    "output_data=1-output_data\n",
    "import matplotlib.pyplot as plt\n",
    "plt.plot(input_data[:,0][output_data==1],input_data[:,1][output_data==1],'bo')\n",
    "plt.plot(input_data[:,0][output_data!=1],input_data[:,1][output_data!=1],'go')"
   ]
  },
  {
   "cell_type": "code",
   "execution_count": 48,
   "metadata": {},
   "outputs": [
    {
     "name": "stdout",
     "output_type": "stream",
     "text": [
      "tensor([[ 0.6373, -1.2219],\n",
      "        [ 1.5021, -0.1502],\n",
      "        [-1.6765, -0.2244],\n",
      "        ...,\n",
      "        [-0.1070,  1.2034],\n",
      "        [-1.6684, -1.0702],\n",
      "        [-0.9732, -0.7756]])\n"
     ]
    }
   ],
   "source": [
    "input_data-=input_data.mean(0)\n",
    "input_data/=input_data.std(0)\n",
    "print(input_data)\n"
   ]
  },
  {
   "cell_type": "code",
   "execution_count": 63,
   "metadata": {
    "id": "legal-buying"
   },
   "outputs": [],
   "source": [
    "#handmade sequential linear + relu \n",
    "linear1 = Linear(2, 25, True)\n",
    "linear2 = Linear(25,25,True)\n",
    "linear3 = Linear(25,1,True)\n",
    "sigma = Tanh()\n",
    "loss = MSE()\n",
    "\n",
    "net = Sequential([\n",
    "    linear1, \n",
    "    sigma,\n",
    "    linear2,\n",
    "    sigma,\n",
    "    linear3,\n",
    "    sigma,\n",
    "])"
   ]
  },
  {
   "cell_type": "code",
   "execution_count": null,
   "metadata": {
    "colab": {
     "base_uri": "https://localhost:8080/"
    },
    "id": "0e0HB0UJzdFw",
    "outputId": "ac09630f-db97-466d-e511-5334ec5b9fd1"
   },
   "outputs": [
    {
     "name": "stdout",
     "output_type": "stream",
     "text": [
      "0    MSE loss =  1038.45703125\n",
      "10    MSE loss =  992.5335693359375\n",
      "20    MSE loss =  972.4435424804688\n",
      "30    MSE loss =  951.2935791015625\n",
      "40    MSE loss =  927.9811401367188\n",
      "50    MSE loss =  902.03955078125\n",
      "60    MSE loss =  873.6077880859375\n",
      "70    MSE loss =  843.4386596679688\n",
      "80    MSE loss =  812.82177734375\n",
      "90    MSE loss =  783.3659057617188\n",
      "100    MSE loss =  756.614990234375\n",
      "110    MSE loss =  754.1364135742188\n",
      "120    MSE loss =  754.1364135742188\n",
      "130    MSE loss =  754.1364135742188\n"
     ]
    }
   ],
   "source": [
    "optimizer = Optimizers(lr = 1e-4,max_iter = 100, parameters = net.get_parameters())\n",
    "n=10**3\n",
    "N=output_data.shape[0]\n",
    "for t in range(n):\n",
    "    optimizer.zero_grad()\n",
    "    acc_loss=0\n",
    "    for i in range(N):\n",
    "        x=input_data[i]\n",
    "        y=2*output_data[i]-1\n",
    "        # Forward pass: compute predicted y by passing x to the model.\n",
    "        y_pred = net.forward(x)\n",
    "\n",
    "        # Compute and print loss.\n",
    "        acc_loss += loss.forward(y_pred,y)\n",
    "        \n",
    "        # Backward pass: compute gradient of the loss with respect to model parameters\n",
    "        net.backward(loss.backward())\n",
    "\n",
    "    # Calling the step function on an Optimizer makes an update to its parameters\n",
    "    new_par = optimizer.step()\n",
    "    #print(len(new_par))\n",
    "    net.set_parameters(new_par)\n",
    "    \n",
    "    \n",
    "    if t%10==0:\n",
    "        print(t, '   MSE loss = ' , acc_loss.item())"
   ]
  },
  {
   "cell_type": "code",
   "execution_count": 62,
   "metadata": {},
   "outputs": [
    {
     "name": "stdout",
     "output_type": "stream",
     "text": [
      "Correct predictions after 1000 training steps: 71.6 %\n"
     ]
    }
   ],
   "source": [
    "correct=0\n",
    "\n",
    "for i in range(output_data.shape[0]):\n",
    "        x=input_data[i]\n",
    "        y=2*output_data[i]-1\n",
    "        # Forward pass: compute predicted y by passing x to the model.\n",
    "        y_pred = net.forward(x)\n",
    "        if abs(y_pred-output_data[i])<1:\n",
    "            correct+=1\n",
    "print('Correct predictions after '+str(n)+' training steps: '+str(correct/N*100)+' %')"
   ]
  },
  {
   "cell_type": "code",
   "execution_count": null,
   "metadata": {},
   "outputs": [],
   "source": []
  }
 ],
 "metadata": {
  "colab": {
   "collapsed_sections": [],
   "name": "modules+sequential_notokyet.ipynb",
   "provenance": []
  },
  "kernelspec": {
   "display_name": "Python 3",
   "language": "python",
   "name": "python3"
  },
  "language_info": {
   "codemirror_mode": {
    "name": "ipython",
    "version": 3
   },
   "file_extension": ".py",
   "mimetype": "text/x-python",
   "name": "python",
   "nbconvert_exporter": "python",
   "pygments_lexer": "ipython3",
   "version": "3.7.7"
  }
 },
 "nbformat": 4,
 "nbformat_minor": 5
}
