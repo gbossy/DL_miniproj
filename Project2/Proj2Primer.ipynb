{
 "cells": [
  {
   "cell_type": "code",
   "execution_count": 1,
   "metadata": {},
   "outputs": [
    {
     "data": {
      "text/plain": [
       "<torch.autograd.grad_mode.set_grad_enabled at 0x5162d88>"
      ]
     },
     "execution_count": 1,
     "metadata": {},
     "output_type": "execute_result"
    }
   ],
   "source": [
    "import torch\n",
    "import math\n",
    "torch.set_grad_enabled(False)"
   ]
  },
  {
   "cell_type": "code",
   "execution_count": 2,
   "metadata": {},
   "outputs": [],
   "source": [
    "class Module(object):\n",
    "    def forward (self, *input):\n",
    "        raise NotImplementedError\n",
    "        \n",
    "    def backward ( self , * gradwrtoutput ) :\n",
    "        raise NotImplementedError\n",
    "    \n",
    "    def param ( self ) :\n",
    "        return []   \n",
    "    \n",
    "    def sigma(x):\n",
    "        raise NotImplementedError\n",
    "        \n",
    "    def dsigma():\n",
    "        raise NotImplementedError"
   ]
  },
  {
   "cell_type": "code",
   "execution_count": 3,
   "metadata": {
    "scrolled": true
   },
   "outputs": [],
   "source": [
    "class Losses(object):        \n",
    "    def function():\n",
    "        return NotImplementedError\n",
    "    def derivative():\n",
    "        NotImplementedError"
   ]
  },
  {
   "cell_type": "code",
   "execution_count": 4,
   "metadata": {},
   "outputs": [],
   "source": [
    "class Optimizers(object):\n",
    "    def step():\n",
    "        return NotImplementedError"
   ]
  },
  {
   "cell_type": "code",
   "execution_count": 5,
   "metadata": {},
   "outputs": [],
   "source": [
    "class Linear(Module):\n",
    "    \n",
    "    def __init__(self, input_dim, out_dim, bias = True):\n",
    "        super().__init__()\n",
    "        std = 1/math.sqrt(input_dim)\n",
    "        \n",
    "        #both initialized in [-std, std] with uniform pdf\n",
    "        self.weights = torch.rand(out_dim, input_dim)\n",
    "        self.weights = 2*std*self.weights - std\n",
    "        \n",
    "        if bias :\n",
    "            self.bias = torch.rand(out_dim)\n",
    "            self.bias = 2*std*self.bias - std\n",
    "              \n",
    "    def forward(self, x):\n",
    "        self.x = x\n",
    "        self.s = self.weights.mv(x) + self.bias\n",
    "        self.o = self.sigma(self.s)\n",
    "        return self.o\n",
    "    \n",
    "    def backward(self, loss, t, dl_dw, dl_db ):\n",
    "        dl_dx = loss.derivative(self.o, t)\n",
    "        dl_ds = self.dsigma(self.s) * dl_dx\n",
    "        \n",
    "        dl_dw.add_(dl_ds.view(-1, 1).mm(self.x.view(1, -1)))\n",
    "        dl_db.add_(dl_ds)\n",
    "        \n",
    "    def sigma(self, x):\n",
    "        return x\n",
    "\n",
    "    def dsigma(self, x):\n",
    "        return torch.ones_like(x)\n"
   ]
  },
  {
   "cell_type": "code",
   "execution_count": null,
   "metadata": {},
   "outputs": [],
   "source": [
    "class ReLu(Module):\n",
    "    \n",
    "    def forward (self):\n",
    "        raise NotImplementedError\n",
    "        \n",
    "    def backward ( self , * gradwrtoutput ) :\n",
    "        raise NotImplementedError\n",
    "    \n",
    "    def param ( self ) :\n",
    "        return []   \n",
    "    \n",
    "    def sigma(x):\n",
    "        raise NotImplementedError\n",
    "        \n",
    "    def dsigma():\n",
    "        raise NotImplementedError"
   ]
  },
  {
   "cell_type": "code",
   "execution_count": 6,
   "metadata": {},
   "outputs": [],
   "source": [
    "class MSE(Losses):\n",
    "    def function(self, v, t):\n",
    "        return (v - t).pow(2).mean()\n",
    "    \n",
    "    def derivative(self, v, t):\n",
    "        return 2 * (v - t)"
   ]
  },
  {
   "cell_type": "code",
   "execution_count": 7,
   "metadata": {},
   "outputs": [
    {
     "data": {
      "text/plain": [
       "(tensor([ 0.5119,  0.7017,  0.0324,  1.0508, -1.1644, -0.1763]),\n",
       " tensor([ 0.5119,  0.7017,  0.0324,  1.0508, -1.1644, -0.1763]),\n",
       " tensor(1.8435),\n",
       " tensor(1.8435))"
      ]
     },
     "execution_count": 7,
     "metadata": {},
     "output_type": "execute_result"
    }
   ],
   "source": [
    "linear = Linear(5, 6, True)\n",
    "x = torch.randn(5)\n",
    "b = torch.randn(5)\n",
    "y = torch.randn(6)\n",
    "linear.forward(x), linear.weights@x + linear.bias, MSE().function(x, b), torch.nn.MSELoss()(x, b)"
   ]
  },
  {
   "cell_type": "code",
   "execution_count": 8,
   "metadata": {
    "scrolled": true
   },
   "outputs": [],
   "source": [
    "dl_dw, dl_db = torch.zeros_like(linear.weights), torch.zeros_like(linear.bias)\n",
    "linear.backward(MSE(),y, dl_dw, dl_db )"
   ]
  },
  {
   "cell_type": "code",
   "execution_count": 9,
   "metadata": {
    "scrolled": true
   },
   "outputs": [
    {
     "data": {
      "text/plain": [
       "tensor([[ 0.1970,  0.2670, -1.2174,  2.3959,  0.9618],\n",
       "        [ 0.0624,  0.0846, -0.3857,  0.7591,  0.3047],\n",
       "        [-0.3623, -0.4911,  2.2392, -4.4068, -1.7691],\n",
       "        [ 0.6006,  0.8141, -3.7119,  7.3050,  2.9325],\n",
       "        [-0.4904, -0.6647,  3.0307, -5.9645, -2.3944],\n",
       "        [-0.4987, -0.6760,  3.0824, -6.0662, -2.4352]])"
      ]
     },
     "execution_count": 9,
     "metadata": {},
     "output_type": "execute_result"
    }
   ],
   "source": [
    "dl_dw"
   ]
  },
  {
   "cell_type": "code",
   "execution_count": 10,
   "metadata": {
    "scrolled": false
   },
   "outputs": [
    {
     "data": {
      "text/plain": [
       "tensor([ 1.1062,  0.3505, -2.0346,  3.3727, -2.7538, -2.8008])"
      ]
     },
     "execution_count": 10,
     "metadata": {},
     "output_type": "execute_result"
    }
   ],
   "source": [
    "dl_db"
   ]
  },
  {
   "cell_type": "code",
   "execution_count": 11,
   "metadata": {},
   "outputs": [],
   "source": [
    "#TODO: check that the results is the same using builtin .backward()"
   ]
  }
 ],
 "metadata": {
  "kernelspec": {
   "display_name": "Python 3",
   "language": "python",
   "name": "python3"
  },
  "language_info": {
   "codemirror_mode": {
    "name": "ipython",
    "version": 3
   },
   "file_extension": ".py",
   "mimetype": "text/x-python",
   "name": "python",
   "nbconvert_exporter": "python",
   "pygments_lexer": "ipython3",
   "version": "3.7.7"
  }
 },
 "nbformat": 4,
 "nbformat_minor": 5
}
