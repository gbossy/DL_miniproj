{
 "cells": [
  {
   "cell_type": "code",
   "execution_count": 1,
   "id": "thermal-humanity",
   "metadata": {},
   "outputs": [],
   "source": [
    "import torch\n",
    "import math\n",
    "#torch.set_grad_enabled(False)"
   ]
  },
  {
   "cell_type": "code",
   "execution_count": 2,
   "id": "therapeutic-current",
   "metadata": {},
   "outputs": [],
   "source": [
    "class Module(object):\n",
    "    def forward (self, *input):\n",
    "        raise NotImplementedError\n",
    "        \n",
    "    def backward ( self , * gradwrtoutput ) :\n",
    "        raise NotImplementedError\n",
    "    \n",
    "    def param ( self ) :\n",
    "        return []   "
   ]
  },
  {
   "cell_type": "code",
   "execution_count": 3,
   "id": "imperial-class",
   "metadata": {
    "scrolled": true
   },
   "outputs": [],
   "source": [
    "class Losses(object):        \n",
    "    def function():\n",
    "        return NotImplementedError\n",
    "    def derivative():\n",
    "        NotImplementedError"
   ]
  },
  {
   "cell_type": "code",
   "execution_count": 4,
   "id": "comfortable-calgary",
   "metadata": {},
   "outputs": [],
   "source": [
    "class Optimizers(object):\n",
    "    def step():\n",
    "        return NotImplementedError"
   ]
  },
  {
   "cell_type": "code",
   "execution_count": 5,
   "id": "found-annex",
   "metadata": {},
   "outputs": [],
   "source": [
    "class Parameter():\n",
    "    def __init__(self):\n",
    "        self.data = None\n",
    "        self.grad = None"
   ]
  },
  {
   "cell_type": "code",
   "execution_count": 6,
   "id": "asian-evanescence",
   "metadata": {},
   "outputs": [],
   "source": [
    "class Linear(Module):\n",
    "    \n",
    "    def __init__(self, input_dim, out_dim, bias = True):\n",
    "        super().__init__()\n",
    "        std = 1/math.sqrt(input_dim)\n",
    "        self.weight = Parameter()\n",
    "        \n",
    "        self.weight.data = torch.rand(out_dim, input_dim)\n",
    "        self.weight.data = 2*std*self.weight.data - std\n",
    "        \n",
    "        self.with_bias = bias\n",
    "        if bias :\n",
    "            self.bias = Parameter()\n",
    "            self.bias = torch.rand(out_dim)\n",
    "            self.bias = 2*std*self.bias.data - std\n",
    "            \n",
    "        self.x = None\n",
    "              \n",
    "    def forward(self, x):\n",
    "        self.x = x\n",
    "        return self.weight.data.mv(x) + self.bias.data\n",
    "        \n",
    "    def backward(self, prev_grad):\n",
    "        \n",
    "        prev_grad = prev_grad.view(-1, 1)\n",
    "        if self.x is None:\n",
    "            raise CallForwardFirst\n",
    "        \n",
    "        if self.weight.grad is None:\n",
    "            self.weight.grad = torch.zeros_like(self.weight.data)\n",
    "        \n",
    "        self.weight.grad += prev_grad.view(-1, 1)*self.x.view(1, -1)\n",
    "        \n",
    "        if self.with_bias:\n",
    "            if self.bias.grad is None:\n",
    "                self.bias.grad = torch.zeros_like(self.bias.data)\n",
    "            self.bias.grad += prev_grad.view(-1)\n",
    "        \n",
    "        next_grad = prev_grad.view(1, -1)@self.weight.data\n",
    "        next_grad = next_grad.view(-1, 1)\n",
    "        return next_grad"
   ]
  },
  {
   "cell_type": "code",
   "execution_count": 7,
   "id": "written-benjamin",
   "metadata": {
    "scrolled": true
   },
   "outputs": [],
   "source": [
    "class Tanh(Module):\n",
    "    def __init__(self):\n",
    "        self.x = None\n",
    "    \n",
    "    def forward (self, x):\n",
    "        self.x = x\n",
    "        return torch.tanh(x)\n",
    "        \n",
    "    def backward ( self, prev_grad) :\n",
    "        if self.x is None:\n",
    "            raise CallForwardFirst\n",
    "            \n",
    "        def d(x):\n",
    "            return 4 * (x.exp() + x.mul(-1).exp()).pow(-2)\n",
    "        \n",
    "        return d(self.x)*prev_grad\n",
    "    "
   ]
  },
  {
   "cell_type": "code",
   "execution_count": 8,
   "id": "happy-review",
   "metadata": {},
   "outputs": [],
   "source": [
    "class MSE(Losses):\n",
    "    def __init__(self):\n",
    "        self.x = None\n",
    "    def forward(self, x, t):\n",
    "        self.x = x\n",
    "        self.t = t\n",
    "        return (x - t).pow(2).mean()\n",
    "    \n",
    "    def backward(self):\n",
    "        if self.x == None or self.t == None:\n",
    "            raise CallForwardFirst\n",
    "        return 2 * (self.x - self.t)/len(self.x)"
   ]
  },
  {
   "cell_type": "code",
   "execution_count": 18,
   "id": "chief-decade",
   "metadata": {},
   "outputs": [],
   "source": [
    "x = torch.randn(5, requires_grad = False)\n",
    "y = torch.randn(6, requires_grad = False)\n",
    "\n",
    "#backward, comparing with torch\n",
    "linear = Linear(5, 6, True)\n",
    "builtin_linear = torch.nn.Linear(5, 6)\n",
    "linear.weight.data = builtin_linear.weight.data\n",
    "linear.bias.data = builtin_linear.bias.data\n",
    "tanh = Tanh()\n",
    "loss = MSE()\n",
    "\n",
    "#building loss derivative\n",
    "builtin_output = torch.tanh(builtin_linear(x))\n",
    "builtin_loss = torch.nn.MSELoss()(builtin_output, y)\n",
    "builtin_loss.backward()"
   ]
  },
  {
   "cell_type": "code",
   "execution_count": 20,
   "id": "female-minimum",
   "metadata": {},
   "outputs": [
    {
     "data": {
      "text/plain": [
       "tensor([[-0.1349],\n",
       "        [-0.1779],\n",
       "        [ 0.1092],\n",
       "        [-0.1505],\n",
       "        [-0.0194]])"
      ]
     },
     "execution_count": 20,
     "metadata": {},
     "output_type": "execute_result"
    }
   ],
   "source": [
    "loss.forward(tanh.forward(linear.forward(x)), y)\n",
    "linear.backward(tanh.backward(loss.backward()))"
   ]
  },
  {
   "cell_type": "code",
   "execution_count": 27,
   "id": "pacific-beach",
   "metadata": {
    "scrolled": true
   },
   "outputs": [
    {
     "data": {
      "text/plain": [
       "(tensor([[ 0.0953, -0.2833,  0.0859,  0.2611,  0.0333],\n",
       "         [ 0.0919, -0.2732,  0.0828,  0.2517,  0.0321],\n",
       "         [ 0.0860, -0.2558,  0.0775,  0.2357,  0.0301],\n",
       "         [ 0.0689, -0.2047,  0.0620,  0.1886,  0.0241],\n",
       "         [-0.0723,  0.2150, -0.0651, -0.1981, -0.0253],\n",
       "         [-0.1031,  0.3064, -0.0928, -0.2824, -0.0361]]),\n",
       " tensor([[ 0.0953, -0.2833,  0.0859,  0.2611,  0.0333],\n",
       "         [ 0.0919, -0.2732,  0.0828,  0.2517,  0.0321],\n",
       "         [ 0.0860, -0.2558,  0.0775,  0.2357,  0.0301],\n",
       "         [ 0.0689, -0.2047,  0.0620,  0.1886,  0.0241],\n",
       "         [-0.0723,  0.2150, -0.0651, -0.1981, -0.0253],\n",
       "         [-0.1031,  0.3064, -0.0928, -0.2824, -0.0361]]),\n",
       " tensor([[True, True, True, True, True],\n",
       "         [True, True, True, True, True],\n",
       "         [True, True, True, True, True],\n",
       "         [True, True, True, True, True],\n",
       "         [True, True, True, True, True],\n",
       "         [True, True, True, True, True]]))"
      ]
     },
     "execution_count": 27,
     "metadata": {},
     "output_type": "execute_result"
    }
   ],
   "source": [
    "linear.weight.grad, builtin_linear.weight.grad, abs(linear.weight.grad - builtin_linear.weight.grad )<1e-7"
   ]
  },
  {
   "cell_type": "code",
   "execution_count": 29,
   "id": "olympic-mandate",
   "metadata": {},
   "outputs": [
    {
     "data": {
      "text/plain": [
       "(tensor([ 0.2483,  0.2394,  0.2241,  0.1794, -0.1884, -0.2685]),\n",
       " tensor([ 0.2483,  0.2394,  0.2241,  0.1794, -0.1884, -0.2685]),\n",
       " tensor([True, True, True, True, True, True]))"
      ]
     },
     "execution_count": 29,
     "metadata": {},
     "output_type": "execute_result"
    }
   ],
   "source": [
    "linear.bias.grad, builtin_linear.bias.grad, abs(linear.bias.grad - builtin_linear.bias.grad) < 1e-7"
   ]
  }
 ],
 "metadata": {
  "kernelspec": {
   "display_name": "tirocinio",
   "language": "python",
   "name": "tirocinio"
  },
  "language_info": {
   "codemirror_mode": {
    "name": "ipython",
    "version": 3
   },
   "file_extension": ".py",
   "mimetype": "text/x-python",
   "name": "python",
   "nbconvert_exporter": "python",
   "pygments_lexer": "ipython3",
   "version": "3.7.4"
  }
 },
 "nbformat": 4,
 "nbformat_minor": 5
}
