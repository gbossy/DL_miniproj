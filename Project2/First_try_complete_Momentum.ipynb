{
  "nbformat": 4,
  "nbformat_minor": 5,
  "metadata": {
    "colab": {
      "name": "First_try_complete_Momentum.ipynb",
      "provenance": [],
      "collapsed_sections": []
    },
    "kernelspec": {
      "display_name": "Python 3",
      "language": "python",
      "name": "python3"
    },
    "language_info": {
      "codemirror_mode": {
        "name": "ipython",
        "version": 3
      },
      "file_extension": ".py",
      "mimetype": "text/x-python",
      "name": "python",
      "nbconvert_exporter": "python",
      "pygments_lexer": "ipython3",
      "version": "3.7.7"
    }
  },
  "cells": [
    {
      "cell_type": "code",
      "metadata": {
        "id": "thermal-humanity"
      },
      "source": [
        "import torch\n",
        "import math\n",
        "#torch.set_grad_enabled(False)"
      ],
      "id": "thermal-humanity",
      "execution_count": 105,
      "outputs": []
    },
    {
      "cell_type": "code",
      "metadata": {
        "id": "therapeutic-current"
      },
      "source": [
        "class Module(object):\n",
        "    def forward (self, *input):\n",
        "        raise NotImplementedError\n",
        "        \n",
        "    def backward ( self , * gradwrtoutput ) :\n",
        "        raise NotImplementedError\n",
        "    \n",
        "    def get_parameters( self ) :\n",
        "        return []   "
      ],
      "id": "therapeutic-current",
      "execution_count": 106,
      "outputs": []
    },
    {
      "cell_type": "code",
      "metadata": {
        "id": "imperial-class",
        "scrolled": true
      },
      "source": [
        "class Losses(object):        \n",
        "    def forward():\n",
        "        return NotImplementedError\n",
        "    def backward():\n",
        "        NotImplementedError"
      ],
      "id": "imperial-class",
      "execution_count": 107,
      "outputs": []
    },
    {
      "cell_type": "code",
      "metadata": {
        "id": "comfortable-calgary"
      },
      "source": [
        "class Optimizers(object):\n",
        "    # this is a SGD optimizer\n",
        "    def __init__(self,lr,max_iter, parameters, momentum = True ,beta= 0.9) :  # should we add a \"tolerance_grad\" argument ? \n",
        "        super().__init__()\n",
        "        self.eta = lr\n",
        "        self.maxStep = max_iter # maybe this shouldn't be put inside the module\n",
        "        self.param = parameters\n",
        "        self.number_step = 0\n",
        "        # initialize momentum to zero\n",
        "        self.v = self.param.copy()\n",
        "        self.v = []\n",
        "        for i in range(len(self.param)):\n",
        "            size_param = self.param[i].data.size()\n",
        "            v_init= torch.zeros(size_param)\n",
        "            (self.v).append(v_init)\n",
        "        self.beta = beta\n",
        "        self.momentum = momentum\n",
        "\n",
        "    def zero_grad(self):\n",
        "        for parameter in self.param : \n",
        "            parameter.grad = 0\n",
        "\n",
        "    def step(self): #batch de datapoint  --> confused : how can we do it stochastic ? ou alors on l'appelle step(batch)\n",
        "        # right now, eta is considered constant \n",
        "        #print(self.param[1].data)\n",
        "        #print('step')\n",
        "        if self.number_step <=self.maxStep:\n",
        "            #for parameter in self.param :\n",
        "            for parameter, V in zip(self.param, self.v):\n",
        "                #print(V)\n",
        "                if self.momentum :\n",
        "                    V = self.beta * V + self.eta * parameter.grad    # is it only for weight or also bias \n",
        "                    parameter.data = parameter.data - V\n",
        "                else : \n",
        "                    parameter.data = parameter.data - self.eta * parameter.grad\n",
        "           \n",
        "            self.number_step = self.number_step + 1\n",
        "            #print('after update',self.param[1].data)\n",
        "        return self.param\n",
        "    def momentum(self):\n",
        "        for parameter, V in zip(self.params, self.v):\n",
        "           V = self.beta * V + self.eta * parameter.grad    # is it only for weight or also bias \n",
        "           parameter = parameter - V\n"
      ],
      "id": "comfortable-calgary",
      "execution_count": 108,
      "outputs": []
    },
    {
      "cell_type": "code",
      "metadata": {
        "id": "found-annex"
      },
      "source": [
        "class Parameter():\n",
        "    def __init__(self):\n",
        "        self.name = ''\n",
        "        self.data = None\n",
        "        self.grad = None"
      ],
      "id": "found-annex",
      "execution_count": 109,
      "outputs": []
    },
    {
      "cell_type": "code",
      "metadata": {
        "id": "asian-evanescence"
      },
      "source": [
        "class Linear(Module):\n",
        "    \n",
        "    def __init__(self, input_dim, out_dim, bias = True):\n",
        "        super().__init__()\n",
        "        std = 1/math.sqrt(input_dim)\n",
        "        self.weight = Parameter()\n",
        "        self.parameters = []\n",
        "        \n",
        "        self.weight.data = torch.rand(out_dim, input_dim)\n",
        "        self.weight.data = 2*std*self.weight.data - std\n",
        "        self.weight.name = 'weight'\n",
        "        self.parameters += [self.weight]\n",
        "        \n",
        "        self.with_bias = bias\n",
        "        if bias :\n",
        "            self.bias = Parameter()\n",
        "            self.bias.data = torch.rand(out_dim)\n",
        "            self.bias.data = 2*std*self.bias.data - std\n",
        "            self.bias.name = 'bias'\n",
        "            self.parameters +=[self.bias]\n",
        "            \n",
        "        self.x = None\n",
        "              \n",
        "    def forward(self, x):\n",
        "        self.x = x\n",
        "        return self.weight.data.mv(x) + self.bias.data\n",
        "        \n",
        "    def backward(self, prev_grad):\n",
        "        \n",
        "        prev_grad = prev_grad.view(-1, 1)\n",
        "        if self.x is None:\n",
        "            raise CallForwardFirst\n",
        "        \n",
        "        if self.weight.grad is None:\n",
        "            self.weight.grad = torch.zeros_like(self.weight.data)\n",
        "        \n",
        "        self.weight.grad += prev_grad.view(-1, 1)*self.x.view(1, -1)\n",
        "        \n",
        "        if self.with_bias:\n",
        "            if self.bias.grad is None:\n",
        "                self.bias.grad = torch.zeros_like(self.bias.data)\n",
        "            self.bias.grad += prev_grad.view(-1)\n",
        "        \n",
        "        next_grad = prev_grad.view(1, -1)@self.weight.data\n",
        "        next_grad = next_grad.view(-1, 1)\n",
        "        return next_grad\n",
        "    \n",
        "    def get_parameters(self):\n",
        "        return self.parameters\n",
        "    "
      ],
      "id": "asian-evanescence",
      "execution_count": 110,
      "outputs": []
    },
    {
      "cell_type": "code",
      "metadata": {
        "id": "written-benjamin",
        "scrolled": true
      },
      "source": [
        "class Tanh(Module):\n",
        "    def __init__(self):\n",
        "        self.x = None\n",
        "    \n",
        "    def forward (self, x):\n",
        "        self.x = x\n",
        "        return torch.tanh(x)\n",
        "        \n",
        "    def backward ( self, prev_grad) :\n",
        "        if self.x is None:\n",
        "            raise CallForwardFirst\n",
        "            \n",
        "        def d(x):\n",
        "            return 4 * (x.exp() + x.mul(-1).exp()).pow(-2)\n",
        "        \n",
        "        return d(self.x)*prev_grad\n",
        "    "
      ],
      "id": "written-benjamin",
      "execution_count": 111,
      "outputs": []
    },
    {
      "cell_type": "code",
      "metadata": {
        "id": "happy-review"
      },
      "source": [
        "class MSE(Losses):\n",
        "    def __init__(self):\n",
        "        self.x = None\n",
        "    def forward(self, x, t):\n",
        "        self.x = x\n",
        "        self.t = t\n",
        "        return (x - t).pow(2).mean()\n",
        "    \n",
        "    def backward(self):\n",
        "        if self.x == None or self.t == None:\n",
        "            raise CallForwardFirst\n",
        "        return 2 * (self.x - self.t)/len(self.x)"
      ],
      "id": "happy-review",
      "execution_count": 112,
      "outputs": []
    },
    {
      "cell_type": "code",
      "metadata": {
        "id": "active-skirt"
      },
      "source": [
        "class Sequential(object):\n",
        "    def __init__(self, modules):\n",
        "        super().__init__()\n",
        "        self.modules=modules\n",
        "        self.parameters = []\n",
        "        for m in self.modules:\n",
        "            param = m.get_parameters()\n",
        "            if param:\n",
        "                self.parameters += param\n",
        "  \n",
        "    def forward(self,x):\n",
        "        for m in self.modules:\n",
        "            x=m.forward(x)\n",
        "        return x\n",
        "    \n",
        "#    def backward(self,weights,values,dl_dw,target):\n",
        "#        xn=values[-1]\n",
        "#        dl_dx=[]\n",
        "#        dl_dx.append(dloss(x_n,t))\n",
        "#        for i in range(len(self.modules)).reversed():\n",
        "#            m=self.modules[i]\n",
        "#            dl_dx.append(m.backwardoutput(dl_dx[-1],values[i]))#backward is implemented for each module\n",
        "#        for i in range(len(self.modules)).reversed():\n",
        "#            m=self.modules[i]\n",
        "#            dl_dw=m.backwardweights(dl_dw,dl_dx[i+1],values[i])\n",
        "    \n",
        "    def backward(self, loss_grad):\n",
        "        x = loss_grad\n",
        "        for m in reversed(self.modules):\n",
        "            x = m.backward(x)\n",
        "            \n",
        "    def get_parameters(self):\n",
        "        return self.parameters\n",
        "\n",
        "    def set_parameters(self , params):\n",
        "        #print(self.parameters[1].data)\n",
        "        self.parameters = params\n",
        "        #print('after',self.parameters[1].data)\n",
        "        #for i in range (len(new_par)):\n",
        "         #   self.parameters[i] = params[i]"
      ],
      "id": "active-skirt",
      "execution_count": 113,
      "outputs": []
    },
    {
      "cell_type": "code",
      "metadata": {
        "id": "legal-buying",
        "colab": {
          "base_uri": "https://localhost:8080/",
          "height": 283
        },
        "outputId": "85d2c9b9-5659-4b65-ae77-b93d72a46bb1"
      },
      "source": [
        "def generate_disc_set(nb):\n",
        "    input_ = torch.empty(nb, 2).uniform_(0, 1)\n",
        "    target = (input_-0.5).pow(2).sum(1).sub(1 / (math.pi*2)).sign().add(1).div(2).long()\n",
        "    return input_, target\n",
        "input_data, output_data=generate_disc_set(1000)\n",
        "output_data=1-output_data\n",
        "import matplotlib.pyplot as plt\n",
        "plt.plot(input_data[:,0][output_data==1],input_data[:,1][output_data==1],'bo')\n",
        "plt.plot(input_data[:,0][output_data!=1],input_data[:,1][output_data!=1],'go')"
      ],
      "id": "legal-buying",
      "execution_count": 114,
      "outputs": [
        {
          "output_type": "execute_result",
          "data": {
            "text/plain": [
              "[<matplotlib.lines.Line2D at 0x7f427be78110>]"
            ]
          },
          "metadata": {
            "tags": []
          },
          "execution_count": 114
        },
        {
          "output_type": "display_data",
          "data": {
            "image/png": "[encoded data removed]",
            "text/plain": [
              "<Figure size 432x288 with 1 Axes>"
            ]
          },
          "metadata": {
            "tags": [],
            "needs_background": "light"
          }
        }
      ]
    },
    {
      "cell_type": "code",
      "metadata": {
        "colab": {
          "base_uri": "https://localhost:8080/"
        },
        "id": "NoFmUUfSKK8u",
        "outputId": "7a0aa5d0-7f09-4699-dc06-271212bb977b"
      },
      "source": [
        "input_data-=input_data.mean(0)\n",
        "input_data/=input_data.std(0)\n",
        "print(input_data)\n"
      ],
      "id": "NoFmUUfSKK8u",
      "execution_count": 115,
      "outputs": [
        {
          "output_type": "stream",
          "text": [
            "tensor([[ 0.0382,  0.1329],\n",
            "        [ 1.4554,  0.1298],\n",
            "        [-1.5967, -1.7131],\n",
            "        ...,\n",
            "        [-1.4022, -0.2638],\n",
            "        [ 1.5695,  0.2492],\n",
            "        [-1.5771,  0.5635]])\n"
          ],
          "name": "stdout"
        }
      ]
    },
    {
      "cell_type": "code",
      "metadata": {
        "id": "gKCP4Uh0KK8v"
      },
      "source": [
        "#handmade sequential linear + relu \n",
        "linear1 = Linear(2, 25, True)\n",
        "linear2 = Linear(25,25,True)\n",
        "linear3 = Linear(25,1,True)\n",
        "sigma = Tanh()\n",
        "loss = MSE()\n",
        "\n",
        "net = Sequential([\n",
        "    linear1, \n",
        "    sigma,\n",
        "    linear2,\n",
        "    sigma,\n",
        "    linear3,\n",
        "    sigma,\n",
        "])"
      ],
      "id": "gKCP4Uh0KK8v",
      "execution_count": 116,
      "outputs": []
    },
    {
      "cell_type": "code",
      "metadata": {
        "colab": {
          "base_uri": "https://localhost:8080/"
        },
        "id": "0e0HB0UJzdFw",
        "outputId": "706ce848-d7a4-470d-80aa-c8867577f034"
      },
      "source": [
        "optimizer = Optimizers(lr = 1e-4,max_iter = 100, parameters = net.get_parameters(), momentum = True)\n",
        "#n=10**3\n",
        "n = 250\n",
        "N=output_data.shape[0]\n",
        "for t in range(n):\n",
        "    acc_loss=0\n",
        "    optimizer.zero_grad()\n",
        "\n",
        "    for i in range(N):\n",
        "        \n",
        "        x=input_data[i]\n",
        "        y=2*output_data[i]-1\n",
        "        \n",
        "        # Forward pass: compute predicted y by passing x to the model.\n",
        "        y_pred = net.forward(x)\n",
        "\n",
        "        # Compute and print loss.\n",
        "        acc_loss += loss.forward(y_pred,y)\n",
        "        \n",
        "        # Backward pass: compute gradient of the loss with respect to model parameters\n",
        "        net.backward(loss.backward())\n",
        "\n",
        "   # Calling the step function on an Optimizer makes an update to its parameters\n",
        "    new_par = optimizer.step()\n",
        "   #print(len(new_par))\n",
        "    net.set_parameters(new_par)\n",
        "    \n",
        "    \n",
        "    if t%10==0:\n",
        "        print(t, '   MSE loss = ' , acc_loss.item())"
      ],
      "id": "0e0HB0UJzdFw",
      "execution_count": 117,
      "outputs": [
        {
          "output_type": "stream",
          "text": [
            "0    MSE loss =  994.0286254882812\n",
            "10    MSE loss =  947.4420776367188\n",
            "20    MSE loss =  917.2413940429688\n",
            "30    MSE loss =  884.2951049804688\n",
            "40    MSE loss =  848.917236328125\n",
            "50    MSE loss =  812.632080078125\n",
            "60    MSE loss =  777.7400512695312\n",
            "70    MSE loss =  746.564208984375\n",
            "80    MSE loss =  720.7952270507812\n",
            "90    MSE loss =  701.3388671875\n",
            "100    MSE loss =  689.6134643554688\n",
            "110    MSE loss =  770.1228637695312\n",
            "120    MSE loss =  770.1228637695312\n",
            "130    MSE loss =  770.1228637695312\n",
            "140    MSE loss =  770.1228637695312\n",
            "150    MSE loss =  770.1228637695312\n",
            "160    MSE loss =  770.1228637695312\n",
            "170    MSE loss =  770.1228637695312\n",
            "180    MSE loss =  770.1228637695312\n",
            "190    MSE loss =  770.1228637695312\n",
            "200    MSE loss =  770.1228637695312\n",
            "210    MSE loss =  770.1228637695312\n",
            "220    MSE loss =  770.1228637695312\n",
            "230    MSE loss =  770.1228637695312\n",
            "240    MSE loss =  770.1228637695312\n"
          ],
          "name": "stdout"
        }
      ]
    },
    {
      "cell_type": "code",
      "metadata": {
        "colab": {
          "base_uri": "https://localhost:8080/"
        },
        "id": "FC69VXlCKK8v",
        "outputId": "991aab13-e1b8-4867-ac66-d678f6333e14"
      },
      "source": [
        "correct=0\n",
        "\n",
        "for i in range(output_data.shape[0]):\n",
        "        x=input_data[i]\n",
        "        y=2*output_data[i]-1\n",
        "        # Forward pass: compute predicted y by passing x to the model.\n",
        "        y_pred = net.forward(x)\n",
        "        if abs(y_pred-output_data[i])<1:\n",
        "            correct+=1\n",
        "print('Correct predictions after '+str(n)+' training steps: '+str(correct/N*100)+' %')"
      ],
      "id": "FC69VXlCKK8v",
      "execution_count": 118,
      "outputs": [
        {
          "output_type": "stream",
          "text": [
            "Correct predictions after 250 training steps: 77.7 %\n"
          ],
          "name": "stdout"
        }
      ]
    },
    {
      "cell_type": "code",
      "metadata": {
        "id": "dfA2rEKYKK8w"
      },
      "source": [
        ""
      ],
      "id": "dfA2rEKYKK8w",
      "execution_count": 118,
      "outputs": []
    }
  ]
}