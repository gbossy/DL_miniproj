{
 "cells": [
  {
   "cell_type": "code",
   "execution_count": 1,
   "id": "conservative-trader",
   "metadata": {
    "id": "thermal-humanity"
   },
   "outputs": [],
   "source": [
    "import torch\n",
    "import math\n",
    "#from dlc_practical_prologue import *\n",
    "#torch.set_grad_enabled(False)"
   ]
  },
  {
   "cell_type": "code",
   "execution_count": 15,
   "id": "widespread-senior",
   "metadata": {},
   "outputs": [],
   "source": [
    "#INTERESTING FACT: WHEN COMPUTING THE BATCH GRADIENT PYTORCH DOES NOT TAKE THE SUM OF THE GRADIENTA OF SINGLE DATA POINTS\n",
    "#BUT THE MEAN. I LEART AT THE EXPENSE OF ABOUT 1H LOL "
   ]
  },
  {
   "cell_type": "code",
   "execution_count": 16,
   "id": "smooth-doctor",
   "metadata": {
    "id": "found-annex"
   },
   "outputs": [],
   "source": [
    "class Parameter():\n",
    "    def __init__(self):\n",
    "        self.name = ''\n",
    "        self.data = None\n",
    "        self.grad = None"
   ]
  },
  {
   "cell_type": "code",
   "execution_count": 17,
   "id": "chicken-albany",
   "metadata": {
    "id": "therapeutic-current"
   },
   "outputs": [],
   "source": [
    "class Module(object):\n",
    "    def forward (self, *input):\n",
    "        raise NotImplementedError\n",
    "        \n",
    "    def backward ( self , * gradwrtoutput ) :\n",
    "        raise NotImplementedError\n",
    "    \n",
    "    def get_parameters( self ) :\n",
    "        return []   "
   ]
  },
  {
   "cell_type": "code",
   "execution_count": 18,
   "id": "large-badge",
   "metadata": {
    "id": "imperial-class",
    "scrolled": true
   },
   "outputs": [],
   "source": [
    "class Losses(object):        \n",
    "    def forward():\n",
    "        return NotImplementedError\n",
    "    def backward():\n",
    "        NotImplementedError"
   ]
  },
  {
   "cell_type": "code",
   "execution_count": 19,
   "id": "sticky-blogger",
   "metadata": {},
   "outputs": [],
   "source": [
    "class Optimizer(object):\n",
    "    def zero_grad(self):\n",
    "        for parameter in self.param : \n",
    "            parameter.grad = 0\n",
    "            \n",
    "    def step(self):\n",
    "        raise NotImplementedError"
   ]
  },
  {
   "cell_type": "code",
   "execution_count": 20,
   "id": "seventh-secretary",
   "metadata": {
    "id": "comfortable-calgary"
   },
   "outputs": [],
   "source": [
    "class SGD(Optimizer):\n",
    "    # this is a SGD optimizer\n",
    "    def __init__(self,lr,max_iter, parameters) :  \n",
    "        super().__init__()\n",
    "        self.eta = lr\n",
    "        self.maxStep = max_iter \n",
    "        self.param = parameters\n",
    "        self.number_step = 0\n",
    "\n",
    "    def step(self): \n",
    "        if self.number_step <=self.maxStep:\n",
    "            for parameter in self.param :\n",
    "                parameter.data = parameter.data - self.eta * parameter.grad\n",
    "            self.number_step = self.number_step + 1\n",
    "        return self.param"
   ]
  },
  {
   "cell_type": "code",
   "execution_count": 21,
   "id": "dressed-chaos",
   "metadata": {
    "id": "asian-evanescence"
   },
   "outputs": [],
   "source": [
    "class Linear(Module):\n",
    "    \n",
    "    def __init__(self, input_dim, out_dim, bias = True):\n",
    "        super().__init__()\n",
    "        std = 1/math.sqrt(input_dim)\n",
    "        self.weight = Parameter()\n",
    "        self.parameters = []\n",
    "        \n",
    "        self.weight.data = torch.rand(out_dim, input_dim)\n",
    "        self.weight.data = 2*std*self.weight.data - std\n",
    "        self.weight.name = 'weight'\n",
    "        self.parameters += [self.weight]\n",
    "        \n",
    "        self.with_bias = bias\n",
    "        if bias :\n",
    "            self.bias = Parameter()\n",
    "            self.bias.data = torch.rand(out_dim)\n",
    "            self.bias.data = 2*std*self.bias.data - std\n",
    "            self.bias.data = self.bias.data.unsqueeze(0)\n",
    "            self.bias.name = 'bias'\n",
    "            self.parameters +=[self.bias]\n",
    "            \n",
    "        self.x = None\n",
    "              \n",
    "    def forward(self, x):\n",
    "        self.x = x\n",
    "        self.batch_size = x.shape[0]\n",
    "        return self.x.mm(self.weight.data.T) + self.bias.data\n",
    "        \n",
    "    def backward(self, prev_grad):\n",
    "        \n",
    "        prev_grad = prev_grad.view(self.batch_size, -1, 1)\n",
    "        #print(prev_grad.shape)\n",
    "        if self.x is None:\n",
    "            raise CallForwardFirst\n",
    "        \n",
    "        if self.weight.grad is None:\n",
    "            self.weight.grad = torch.zeros_like(self.weight.data)\n",
    "        \n",
    "        grad_on_batch = prev_grad.view(self.batch_size, -1, 1)*self.x.view(self.batch_size, 1, -1)\n",
    "        self.weight.grad += grad_on_batch.mean(0)\n",
    "        \n",
    "        if self.with_bias:\n",
    "            if self.bias.grad is None:\n",
    "                self.bias.grad = torch.zeros_like(self.bias.data)\n",
    "            grad_on_batch = prev_grad.view(self.batch_size, -1)\n",
    "            self.bias.grad += grad_on_batch.mean(0)\n",
    "        \n",
    "        #if the output has dimension one, squeezing creates problems\n",
    "        if prev_grad.shape[1]>1:\n",
    "            prev_grad = prev_grad.squeeze()\n",
    "        next_grad = prev_grad@self.weight.data\n",
    "        return next_grad.squeeze()\n",
    "    \n",
    "    def get_parameters(self):\n",
    "        return self.parameters    "
   ]
  },
  {
   "cell_type": "code",
   "execution_count": 22,
   "id": "ordered-competition",
   "metadata": {
    "id": "written-benjamin",
    "scrolled": true
   },
   "outputs": [],
   "source": [
    "class Tanh(Module):\n",
    "    def __init__(self):\n",
    "        self.x = None\n",
    "    \n",
    "    def forward (self, x):\n",
    "        self.x = x\n",
    "        return torch.tanh(x)\n",
    "        \n",
    "    def backward ( self, prev_grad) :\n",
    "        if self.x is None:\n",
    "            raise CallForwardFirst\n",
    "            \n",
    "        def d(x):\n",
    "            return 4 * (x.exp() + x.mul(-1).exp()).pow(-2)\n",
    "        \n",
    "        return d(self.x)*prev_grad\n",
    "            "
   ]
  },
  {
   "cell_type": "code",
   "execution_count": 23,
   "id": "objective-gallery",
   "metadata": {},
   "outputs": [],
   "source": [
    "class ReLu(Module):\n",
    "    def __init__(self):\n",
    "        self.x = None\n",
    "    \n",
    "    def forward (self, x):\n",
    "        self.x = x\n",
    "        x[x<0]=0\n",
    "        return x\n",
    "        \n",
    "    def backward ( self, prev_grad) :\n",
    "        if self.x is None:\n",
    "            raise CallForwardFirst\n",
    "            \n",
    "        def d(x):\n",
    "            x[x<0]=0\n",
    "            x[x>0]=1\n",
    "            return x\n",
    "        \n",
    "        return d(self.x)*prev_grad\n",
    "            "
   ]
  },
  {
   "cell_type": "code",
   "execution_count": 24,
   "id": "accompanied-resident",
   "metadata": {},
   "outputs": [
    {
     "data": {
      "text/plain": [
       "(tensor([[ 0.8904,  0.9226,  0.9735,  0.5800, -0.4941],\n",
       "         [-0.0555, -0.8688, -0.6625,  0.1297, -0.5309],\n",
       "         [ 0.7964, -2.3508,  0.8163, -0.4328,  1.1595],\n",
       "         [-1.0723, -0.0455, -0.9628,  2.6265,  0.6534],\n",
       "         [-0.4571,  1.5463,  1.8305,  0.1868,  1.3160]]),\n",
       " tensor([[0.8904, 0.9226, 0.9735, 0.5800, 0.0000],\n",
       "         [0.0000, 0.0000, 0.0000, 0.1297, 0.0000],\n",
       "         [0.7964, 0.0000, 0.8163, 0.0000, 1.1595],\n",
       "         [0.0000, 0.0000, 0.0000, 2.6265, 0.6534],\n",
       "         [0.0000, 1.5463, 1.8305, 0.1868, 1.3160]]))"
      ]
     },
     "execution_count": 24,
     "metadata": {},
     "output_type": "execute_result"
    }
   ],
   "source": [
    "x = torch.randn(5, 5)\n",
    "y = x.clone()\n",
    "y[y<0] = 0\n",
    "x, y"
   ]
  },
  {
   "cell_type": "code",
   "execution_count": 113,
   "id": "exotic-dealer",
   "metadata": {},
   "outputs": [],
   "source": [
    "#Doesn't work and we have to output 1 unit so it's useless\n",
    "class Softmax(Module):\n",
    "    def __init__(self):\n",
    "        self.x = None\n",
    "    \n",
    "    def forward (self, x):\n",
    "        self.x = x\n",
    "        return torch.softmax(x,1)\n",
    "    \n",
    "    def d(self, x):\n",
    "            s = x.softmax(1)\n",
    "            temp = s.unsqueeze(-1)\n",
    "            off_diag = temp.view(-1,1, temp.shape[1] )*temp\n",
    "            diag = torch.diag_embed(torch.diagonal(temp, dim1 = 1, dim2 = 2).sqrt()) \n",
    "            return diag - off_diag\n",
    "        \n",
    "    def backward ( self, prev_grad) :\n",
    "        if self.x is None:\n",
    "            raise CallForwardFirst\n",
    "            \n",
    "        def d(x):\n",
    "            s = x.softmax(1)\n",
    "            temp = s.unsqueeze(-1)\n",
    "            off_diag = temp.view(-1,1, temp.shape[1] )*temp\n",
    "            diag = torch.diag_embed(torch.diagonal(temp, dim1 = 1, dim2 = 2).sqrt()) \n",
    "            return -diag + off_diag\n",
    "        print(d(self.x).shape, prev_grad.T.shape)\n",
    "        return torch.einsum('b ij, bj -> bi', d(self.x),prev_grad)"
   ]
  },
  {
   "cell_type": "code",
   "execution_count": 114,
   "id": "forty-enclosure",
   "metadata": {},
   "outputs": [
    {
     "name": "stdout",
     "output_type": "stream",
     "text": [
      "check on the values:\n",
      " tensor([[0.0553, 0.1815, 0.2808, 0.4004, 0.0820]], grad_fn=<SoftmaxBackward>) \n",
      " tensor([[0.0553, 0.1815, 0.2808, 0.4004, 0.0820]], grad_fn=<SoftmaxBackward>) diff:\n",
      " tensor([[0., 0., 0., 0., 0.]], grad_fn=<AbsBackward>)\n",
      "torch.Size([1, 5, 5]) torch.Size([5, 1])\n"
     ]
    },
    {
     "data": {
      "text/plain": [
       "((tensor([[ 0.0523, -0.0100, -0.0155, -0.0222, -0.0045]]),),\n",
       " tensor([[[0.2322, 0.2252, 0.2197, 0.2131, 0.2307],\n",
       "          [0.2252, 0.2023, 0.1843, 0.1626, 0.2204],\n",
       "          [0.2197, 0.1843, 0.1564, 0.1228, 0.2122],\n",
       "          [0.2131, 0.1626, 0.1228, 0.0749, 0.2024],\n",
       "          [0.2307, 0.2204, 0.2122, 0.2024, 0.2285]]], grad_fn=<SubBackward0>))"
      ]
     },
     "execution_count": 114,
     "metadata": {},
     "output_type": "execute_result"
    }
   ],
   "source": [
    "x = torch.randn(1, 5, requires_grad = True)\n",
    "soft = Softmax()\n",
    "s_b = x.softmax(1)\n",
    "s_h = soft.forward(x.clone())\n",
    "print('check on the values:\\n', s_b ,'\\n', s_h, 'diff:\\n', abs(s_b-s_h) )\n",
    "\n",
    "soft.backward(torch.ones(1, 5))\n",
    "torch.autograd.grad(s_b[0,0], x, retain_graph = True), soft.d(x)"
   ]
  },
  {
   "cell_type": "code",
   "execution_count": 52,
   "id": "modified-worcester",
   "metadata": {},
   "outputs": [
    {
     "data": {
      "text/plain": [
       "tensor([[[ 0.,  1.,  2.,  3.,  4.],\n",
       "         [ 5., 12.,  7.,  8.,  9.],\n",
       "         [10., 11., 24., 13., 14.],\n",
       "         [15., 16., 17., 36., 19.],\n",
       "         [20., 21., 22., 23., 48.]],\n",
       "\n",
       "        [[ 0.,  1.,  2.,  3.,  4.],\n",
       "         [ 5., 12.,  7.,  8.,  9.],\n",
       "         [10., 11., 24., 13., 14.],\n",
       "         [15., 16., 17., 36., 19.],\n",
       "         [20., 21., 22., 23., 48.]],\n",
       "\n",
       "        [[ 0.,  1.,  2.,  3.,  4.],\n",
       "         [ 5., 12.,  7.,  8.,  9.],\n",
       "         [10., 11., 24., 13., 14.],\n",
       "         [15., 16., 17., 36., 19.],\n",
       "         [20., 21., 22., 23., 48.]]])"
      ]
     },
     "execution_count": 52,
     "metadata": {},
     "output_type": "execute_result"
    }
   ],
   "source": [
    "a = 1.*torch.arange(25).view(5, 5).unsqueeze(0)\n",
    "a = torch.cat((a, a, a), dim = 0)\n",
    "torch.diag_embed(torch.diagonal(a, dim1 = 1, dim2 = 2).sqrt()) + a"
   ]
  },
  {
   "cell_type": "code",
   "execution_count": 34,
   "id": "latin-editing",
   "metadata": {
    "scrolled": true
   },
   "outputs": [
    {
     "ename": "RuntimeError",
     "evalue": "grad can be implicitly created only for scalar outputs",
     "output_type": "error",
     "traceback": [
      "\u001b[1;31m---------------------------------------------------------------------------\u001b[0m",
      "\u001b[1;31mRuntimeError\u001b[0m                              Traceback (most recent call last)",
      "\u001b[1;32m<ipython-input-34-a80662d4ff2d>\u001b[0m in \u001b[0;36m<module>\u001b[1;34m\u001b[0m\n\u001b[0;32m      2\u001b[0m \u001b[0mx\u001b[0m \u001b[1;33m=\u001b[0m \u001b[0mtorch\u001b[0m\u001b[1;33m.\u001b[0m\u001b[0mrandn\u001b[0m\u001b[1;33m(\u001b[0m\u001b[1;36m1\u001b[0m\u001b[1;33m,\u001b[0m \u001b[1;36m5\u001b[0m\u001b[1;33m,\u001b[0m \u001b[0mrequires_grad\u001b[0m \u001b[1;33m=\u001b[0m \u001b[1;32mTrue\u001b[0m\u001b[1;33m)\u001b[0m\u001b[1;33m\u001b[0m\u001b[1;33m\u001b[0m\u001b[0m\n\u001b[0;32m      3\u001b[0m \u001b[0ms\u001b[0m \u001b[1;33m=\u001b[0m \u001b[0mx\u001b[0m\u001b[1;33m.\u001b[0m\u001b[0msoftmax\u001b[0m\u001b[1;33m(\u001b[0m\u001b[1;36m1\u001b[0m\u001b[1;33m)\u001b[0m\u001b[1;33m\u001b[0m\u001b[1;33m\u001b[0m\u001b[0m\n\u001b[1;32m----> 4\u001b[1;33m \u001b[0ms\u001b[0m\u001b[1;33m.\u001b[0m\u001b[0mbackward\u001b[0m\u001b[1;33m(\u001b[0m\u001b[1;33m)\u001b[0m\u001b[1;33m\u001b[0m\u001b[1;33m\u001b[0m\u001b[0m\n\u001b[0m\u001b[0;32m      5\u001b[0m \u001b[0mx\u001b[0m\u001b[1;33m.\u001b[0m\u001b[0mgrad\u001b[0m\u001b[1;33m\u001b[0m\u001b[1;33m\u001b[0m\u001b[0m\n",
      "\u001b[1;32m~\\Anaconda3\\envs\\tirocinio\\lib\\site-packages\\torch\\tensor.py\u001b[0m in \u001b[0;36mbackward\u001b[1;34m(self, gradient, retain_graph, create_graph)\u001b[0m\n\u001b[0;32m    183\u001b[0m                 \u001b[0mproducts\u001b[0m\u001b[1;33m.\u001b[0m \u001b[0mDefaults\u001b[0m \u001b[0mto\u001b[0m\u001b[0;31m \u001b[0m\u001b[0;31m`\u001b[0m\u001b[0;31m`\u001b[0m\u001b[1;32mFalse\u001b[0m\u001b[0;31m`\u001b[0m\u001b[0;31m`\u001b[0m\u001b[1;33m.\u001b[0m\u001b[1;33m\u001b[0m\u001b[1;33m\u001b[0m\u001b[0m\n\u001b[0;32m    184\u001b[0m         \"\"\"\n\u001b[1;32m--> 185\u001b[1;33m         \u001b[0mtorch\u001b[0m\u001b[1;33m.\u001b[0m\u001b[0mautograd\u001b[0m\u001b[1;33m.\u001b[0m\u001b[0mbackward\u001b[0m\u001b[1;33m(\u001b[0m\u001b[0mself\u001b[0m\u001b[1;33m,\u001b[0m \u001b[0mgradient\u001b[0m\u001b[1;33m,\u001b[0m \u001b[0mretain_graph\u001b[0m\u001b[1;33m,\u001b[0m \u001b[0mcreate_graph\u001b[0m\u001b[1;33m)\u001b[0m\u001b[1;33m\u001b[0m\u001b[1;33m\u001b[0m\u001b[0m\n\u001b[0m\u001b[0;32m    186\u001b[0m \u001b[1;33m\u001b[0m\u001b[0m\n\u001b[0;32m    187\u001b[0m     \u001b[1;32mdef\u001b[0m \u001b[0mregister_hook\u001b[0m\u001b[1;33m(\u001b[0m\u001b[0mself\u001b[0m\u001b[1;33m,\u001b[0m \u001b[0mhook\u001b[0m\u001b[1;33m)\u001b[0m\u001b[1;33m:\u001b[0m\u001b[1;33m\u001b[0m\u001b[1;33m\u001b[0m\u001b[0m\n",
      "\u001b[1;32m~\\Anaconda3\\envs\\tirocinio\\lib\\site-packages\\torch\\autograd\\__init__.py\u001b[0m in \u001b[0;36mbackward\u001b[1;34m(tensors, grad_tensors, retain_graph, create_graph, grad_variables)\u001b[0m\n\u001b[0;32m    119\u001b[0m         \u001b[0mgrad_tensors\u001b[0m \u001b[1;33m=\u001b[0m \u001b[0mlist\u001b[0m\u001b[1;33m(\u001b[0m\u001b[0mgrad_tensors\u001b[0m\u001b[1;33m)\u001b[0m\u001b[1;33m\u001b[0m\u001b[1;33m\u001b[0m\u001b[0m\n\u001b[0;32m    120\u001b[0m \u001b[1;33m\u001b[0m\u001b[0m\n\u001b[1;32m--> 121\u001b[1;33m     \u001b[0mgrad_tensors\u001b[0m \u001b[1;33m=\u001b[0m \u001b[0m_make_grads\u001b[0m\u001b[1;33m(\u001b[0m\u001b[0mtensors\u001b[0m\u001b[1;33m,\u001b[0m \u001b[0mgrad_tensors\u001b[0m\u001b[1;33m)\u001b[0m\u001b[1;33m\u001b[0m\u001b[1;33m\u001b[0m\u001b[0m\n\u001b[0m\u001b[0;32m    122\u001b[0m     \u001b[1;32mif\u001b[0m \u001b[0mretain_graph\u001b[0m \u001b[1;32mis\u001b[0m \u001b[1;32mNone\u001b[0m\u001b[1;33m:\u001b[0m\u001b[1;33m\u001b[0m\u001b[1;33m\u001b[0m\u001b[0m\n\u001b[0;32m    123\u001b[0m         \u001b[0mretain_graph\u001b[0m \u001b[1;33m=\u001b[0m \u001b[0mcreate_graph\u001b[0m\u001b[1;33m\u001b[0m\u001b[1;33m\u001b[0m\u001b[0m\n",
      "\u001b[1;32m~\\Anaconda3\\envs\\tirocinio\\lib\\site-packages\\torch\\autograd\\__init__.py\u001b[0m in \u001b[0;36m_make_grads\u001b[1;34m(outputs, grads)\u001b[0m\n\u001b[0;32m     45\u001b[0m             \u001b[1;32mif\u001b[0m \u001b[0mout\u001b[0m\u001b[1;33m.\u001b[0m\u001b[0mrequires_grad\u001b[0m\u001b[1;33m:\u001b[0m\u001b[1;33m\u001b[0m\u001b[1;33m\u001b[0m\u001b[0m\n\u001b[0;32m     46\u001b[0m                 \u001b[1;32mif\u001b[0m \u001b[0mout\u001b[0m\u001b[1;33m.\u001b[0m\u001b[0mnumel\u001b[0m\u001b[1;33m(\u001b[0m\u001b[1;33m)\u001b[0m \u001b[1;33m!=\u001b[0m \u001b[1;36m1\u001b[0m\u001b[1;33m:\u001b[0m\u001b[1;33m\u001b[0m\u001b[1;33m\u001b[0m\u001b[0m\n\u001b[1;32m---> 47\u001b[1;33m                     \u001b[1;32mraise\u001b[0m \u001b[0mRuntimeError\u001b[0m\u001b[1;33m(\u001b[0m\u001b[1;34m\"grad can be implicitly created only for scalar outputs\"\u001b[0m\u001b[1;33m)\u001b[0m\u001b[1;33m\u001b[0m\u001b[1;33m\u001b[0m\u001b[0m\n\u001b[0m\u001b[0;32m     48\u001b[0m                 \u001b[0mnew_grads\u001b[0m\u001b[1;33m.\u001b[0m\u001b[0mappend\u001b[0m\u001b[1;33m(\u001b[0m\u001b[0mtorch\u001b[0m\u001b[1;33m.\u001b[0m\u001b[0mones_like\u001b[0m\u001b[1;33m(\u001b[0m\u001b[0mout\u001b[0m\u001b[1;33m,\u001b[0m \u001b[0mmemory_format\u001b[0m\u001b[1;33m=\u001b[0m\u001b[0mtorch\u001b[0m\u001b[1;33m.\u001b[0m\u001b[0mpreserve_format\u001b[0m\u001b[1;33m)\u001b[0m\u001b[1;33m)\u001b[0m\u001b[1;33m\u001b[0m\u001b[1;33m\u001b[0m\u001b[0m\n\u001b[0;32m     49\u001b[0m             \u001b[1;32melse\u001b[0m\u001b[1;33m:\u001b[0m\u001b[1;33m\u001b[0m\u001b[1;33m\u001b[0m\u001b[0m\n",
      "\u001b[1;31mRuntimeError\u001b[0m: grad can be implicitly created only for scalar outputs"
     ]
    }
   ],
   "source": [
    "soft = Softmax()\n",
    "x = torch.randn(1, 5, requires_grad = True)\n",
    "s = x.softmax(1)\n",
    "s.backward()\n",
    "x.grad\n"
   ]
  },
  {
   "cell_type": "code",
   "execution_count": 131,
   "id": "capable-burlington",
   "metadata": {},
   "outputs": [],
   "source": [
    "#Doesn't work and we have to output 1 unit so it's useless\n",
    "class Sigmoid(Module):\n",
    "    def __init__(self):\n",
    "        self.x = None\n",
    "    \n",
    "    def forward (self, x):\n",
    "        self.x = x\n",
    "        return torch.sigmoid(x)\n",
    "        \n",
    "    def backward ( self, prev_grad) :\n",
    "        if self.x is None:\n",
    "            raise CallForwardFirst\n",
    "            \n",
    "        def d(x):\n",
    "            y=torch.sigmoid(x)\n",
    "            return y*(1-y)\n",
    "        \n",
    "        return d(self.x)*prev_grad"
   ]
  },
  {
   "cell_type": "code",
   "execution_count": 110,
   "id": "annoying-liberty",
   "metadata": {
    "id": "happy-review"
   },
   "outputs": [],
   "source": [
    "class MSE(Losses):\n",
    "    # Attention! Works well only when the vectors provided are of the form [batch_size, vector dimension]\n",
    "    # Otherwise it doesn know what dimesion to pick for the mean computation\n",
    "    # I'll fix this later\n",
    "    def __init__(self):\n",
    "        self.x = None\n",
    "    def forward(self, x, t):\n",
    "        self.x = x\n",
    "        self.t = t\n",
    "        return (x - t).pow(2).mean()\n",
    "    \n",
    "    def backward(self):\n",
    "        if self.x == None or self.t == None:\n",
    "            raise CallForwardFirst\n",
    "        return 2 * (self.x - self.t)/self.x.shape[1]"
   ]
  },
  {
   "cell_type": "code",
   "execution_count": 128,
   "id": "approximate-guard",
   "metadata": {
    "id": "active-skirt"
   },
   "outputs": [],
   "source": [
    "class Sequential(object):\n",
    "    def __init__(self, modules):\n",
    "        super().__init__()\n",
    "        self.modules=modules\n",
    "        self.parameters = []\n",
    "        for m in self.modules:\n",
    "            param = m.get_parameters()\n",
    "            if param:\n",
    "                self.parameters += param\n",
    "        \n",
    "    def forward(self,x):\n",
    "        for m in self.modules:\n",
    "            x=m.forward(x)\n",
    "        return x\n",
    "    \n",
    "    def backward(self, loss_grad):\n",
    "        x = loss_grad\n",
    "        for m in reversed(self.modules):\n",
    "            #print(m)\n",
    "            x = m.backward(x)\n",
    "            \n",
    "    def get_parameters(self):\n",
    "        return self.parameters\n",
    "\n",
    "    def set_parameters(self , params):\n",
    "        self.parameters = params\n",
    "        "
   ]
  },
  {
   "cell_type": "code",
   "execution_count": null,
   "id": "engaging-gateway",
   "metadata": {},
   "outputs": [],
   "source": []
  },
  {
   "cell_type": "code",
   "execution_count": 72,
   "id": "excess-designation",
   "metadata": {
    "id": "legal-buying"
   },
   "outputs": [
    {
     "data": {
      "text/plain": [
       "[<matplotlib.lines.Line2D at 0x59abdc8>]"
      ]
     },
     "execution_count": 72,
     "metadata": {},
     "output_type": "execute_result"
    },
    {
     "data": {
      "image/png": "[encoded data removed]",
      "text/plain": [
       "<Figure size 432x288 with 1 Axes>"
      ]
     },
     "metadata": {
      "needs_background": "light"
     },
     "output_type": "display_data"
    }
   ],
   "source": [
    "def generate_disc_set(nb):\n",
    "    input_ = torch.empty(nb, 2).uniform_(0, 1)\n",
    "    target = (input_-0.5).pow(2).sum(1).sub(1 / (math.pi*2)).sign().add(1).div(2).long()\n",
    "    return input_, target\n",
    "input_data, output_data=generate_disc_set(1000)\n",
    "output_data=1-output_data\n",
    "input_data-=input_data.mean(0)\n",
    "input_data/=input_data.std(0)\n",
    "import matplotlib.pyplot as plt\n",
    "plt.plot(input_data[:,0][output_data==1],input_data[:,1][output_data==1],'bo')\n",
    "plt.plot(input_data[:,0][output_data!=1],input_data[:,1][output_data!=1],'go')"
   ]
  },
  {
   "cell_type": "code",
   "execution_count": 73,
   "id": "human-lawrence",
   "metadata": {},
   "outputs": [
    {
     "name": "stdout",
     "output_type": "stream",
     "text": [
      "tensor([[-0.2653,  0.9834],\n",
      "        [-1.2886, -1.7250],\n",
      "        [ 0.6601,  1.0128],\n",
      "        ...,\n",
      "        [-0.2250,  0.4314],\n",
      "        [-0.4552, -1.4729],\n",
      "        [ 0.1431,  1.3598]]) torch.Size([1000, 2]) torch.Size([1000])\n"
     ]
    }
   ],
   "source": [
    "#output_data = 2*output_data -1\n",
    "print(input_data, input_data.shape, output_data.shape)"
   ]
  },
  {
   "cell_type": "code",
   "execution_count": 74,
   "id": "constitutional-intake",
   "metadata": {
    "scrolled": true
   },
   "outputs": [],
   "source": [
    "#we should use one hot label embedding with MSELoss. Hence it is necessary to implement a Softmax\n",
    "#Maybe we should also implement CrossEntropyLoss\n",
    "#print(input_data.shape, output_data.shape)\n",
    "#output_data = convert_to_one_hot_labels(input_data, output_data)\n",
    "#print(input_data.shape, output_data.shape)"
   ]
  },
  {
   "cell_type": "code",
   "execution_count": 75,
   "id": "sacred-camera",
   "metadata": {
    "id": "legal-buying"
   },
   "outputs": [],
   "source": [
    "#handmade sequential linear + relu \n",
    "linear1 = Linear(2, 25, True)\n",
    "linear2 = Linear(25,25,True)\n",
    "linear3 = Linear(25,1,True)\n",
    "sigma1 = Tanh()\n",
    "sigma2 = Tanh()\n",
    "sigma3 = Tanh()\n",
    "loss = MSE()\n",
    "\n",
    "net = Sequential([\n",
    "    linear1, \n",
    "    sigma1 ,\n",
    "    linear2,\n",
    "    sigma2 ,\n",
    "    linear3,\n",
    "    sigma3 ,\n",
    "])"
   ]
  },
  {
   "cell_type": "code",
   "execution_count": 76,
   "id": "decimal-exhaust",
   "metadata": {},
   "outputs": [
    {
     "name": "stdout",
     "output_type": "stream",
     "text": [
      "0    MSE loss =  1049.139892578125\n",
      "10    MSE loss =  951.9638671875\n",
      "20    MSE loss =  897.6994018554688\n",
      "30    MSE loss =  828.3200073242188\n",
      "40    MSE loss =  743.03173828125\n",
      "50    MSE loss =  649.316650390625\n",
      "60    MSE loss =  559.2086181640625\n",
      "70    MSE loss =  481.24493408203125\n",
      "80    MSE loss =  417.7786865234375\n",
      "90    MSE loss =  367.5589599609375\n"
     ]
    }
   ],
   "source": [
    "optimizer = SGD(lr = 1e-4,max_iter = 100, parameters = net.get_parameters())\n",
    "n=10**2\n",
    "N=output_data.shape[0]\n",
    "for t in range(n):\n",
    "    optimizer.zero_grad()\n",
    "    acc_loss=0\n",
    "    permuted_index = torch.randperm(input_data.size()[0])\n",
    "    input_data_shuffled = input_data[permuted_index]\n",
    "    output_data_shuffled = output_data[permuted_index]\n",
    "    for i in range(N):\n",
    "        x=input_data_shuffled[i]\n",
    "        y=2*output_data_shuffled[i]-1\n",
    "        # Forward pass: compute predicted y by passing x to the model.\n",
    "        y_pred = net.forward(x.unsqueeze(0))\n",
    "        # Compute and print loss.\n",
    "        acc_loss += loss.forward(y_pred,y.unsqueeze(0))\n",
    "        \n",
    "        # Backward pass: compute gradient of the loss with respect to model parameters\n",
    "        net.backward(loss.backward())\n",
    "\n",
    "    # Calling the step function on an Optimizer makes an update to its parameters\n",
    "    new_par = optimizer.step()\n",
    "    #print(len(new_par))\n",
    "    net.set_parameters(new_par)\n",
    "    \n",
    "    \n",
    "    if t%10==0:\n",
    "        print(t, '   MSE loss = ' , acc_loss.item())"
   ]
  },
  {
   "cell_type": "code",
   "execution_count": 77,
   "id": "adjusted-cornwall",
   "metadata": {},
   "outputs": [
    {
     "name": "stdout",
     "output_type": "stream",
     "text": [
      "Correct predictions after 100 training steps: 96.7 %\n"
     ]
    }
   ],
   "source": [
    "correct=0\n",
    "for i in range(output_data.shape[0]):\n",
    "        x=input_data[i]\n",
    "        y=2*output_data[i]-1\n",
    "        # Forward pass: compute predicted y by passing x to the model.\n",
    "        y_pred = net.forward(x.unsqueeze(0))\n",
    "        if abs(y_pred-output_data[i])<1:\n",
    "            correct+=1\n",
    "print('Correct predictions after '+str(n)+' training steps: '+str(correct/N*100)+' %')"
   ]
  },
  {
   "cell_type": "code",
   "execution_count": 96,
   "id": "middle-challenge",
   "metadata": {},
   "outputs": [],
   "source": [
    "#Reinitialize net\n",
    "#handmade sequential linear + relu \n",
    "linear1 = Linear(2, 25, True)\n",
    "linear2 = Linear(25,25,True)\n",
    "linear3 = Linear(25,1,True)\n",
    "sigma1 = Tanh()\n",
    "sigma2 = Tanh()\n",
    "sigma3 = Tanh()\n",
    "loss = MSE()\n",
    "\n",
    "net = Sequential([\n",
    "    linear1, \n",
    "    sigma1 ,\n",
    "    linear2,\n",
    "    sigma2 ,\n",
    "    linear3,\n",
    "    sigma3 ,\n",
    "])"
   ]
  },
  {
   "cell_type": "code",
   "execution_count": 97,
   "id": "south-grain",
   "metadata": {
    "scrolled": true
   },
   "outputs": [
    {
     "name": "stdout",
     "output_type": "stream",
     "text": [
      "0    MSE loss =  2.6662144660949707\n",
      "1    MSE loss =  2.2822318077087402\n",
      "2    MSE loss =  2.215752363204956\n",
      "3    MSE loss =  2.156341552734375\n",
      "4    MSE loss =  2.093371868133545\n",
      "5    MSE loss =  2.023648262023926\n",
      "6    MSE loss =  1.9451017379760742\n",
      "7    MSE loss =  1.8829989433288574\n",
      "8    MSE loss =  1.79679274559021\n",
      "9    MSE loss =  1.7139122486114502\n",
      "10    MSE loss =  1.6537455320358276\n",
      "11    MSE loss =  1.6488524675369263\n",
      "12    MSE loss =  1.6488525867462158\n",
      "13    MSE loss =  1.6488524675369263\n",
      "14    MSE loss =  1.6488525867462158\n",
      "15    MSE loss =  1.6488525867462158\n",
      "16    MSE loss =  1.6488524675369263\n",
      "17    MSE loss =  1.6488524675369263\n",
      "18    MSE loss =  1.6488527059555054\n",
      "19    MSE loss =  1.6488525867462158\n",
      "20    MSE loss =  1.6488524675369263\n",
      "21    MSE loss =  1.6488525867462158\n",
      "22    MSE loss =  1.6488525867462158\n",
      "23    MSE loss =  1.6488524675369263\n",
      "24    MSE loss =  1.6488525867462158\n",
      "25    MSE loss =  1.6488525867462158\n",
      "26    MSE loss =  1.6488525867462158\n",
      "27    MSE loss =  1.6488525867462158\n",
      "28    MSE loss =  1.6488525867462158\n",
      "29    MSE loss =  1.6488525867462158\n",
      "30    MSE loss =  1.6488525867462158\n",
      "31    MSE loss =  1.6488525867462158\n",
      "32    MSE loss =  1.6488525867462158\n",
      "33    MSE loss =  1.6488524675369263\n",
      "34    MSE loss =  1.6488525867462158\n",
      "35    MSE loss =  1.6488525867462158\n",
      "36    MSE loss =  1.6488525867462158\n",
      "37    MSE loss =  1.6488525867462158\n",
      "38    MSE loss =  1.6488525867462158\n",
      "39    MSE loss =  1.6488524675369263\n",
      "40    MSE loss =  1.6488525867462158\n",
      "41    MSE loss =  1.6488524675369263\n",
      "42    MSE loss =  1.6488523483276367\n",
      "43    MSE loss =  1.6488523483276367\n",
      "44    MSE loss =  1.6488525867462158\n",
      "45    MSE loss =  1.6488524675369263\n",
      "46    MSE loss =  1.6488525867462158\n",
      "47    MSE loss =  1.6488523483276367\n",
      "48    MSE loss =  1.6488524675369263\n",
      "49    MSE loss =  1.6488523483276367\n",
      "50    MSE loss =  1.6488523483276367\n",
      "51    MSE loss =  1.6488525867462158\n",
      "52    MSE loss =  1.6488525867462158\n",
      "53    MSE loss =  1.6488525867462158\n",
      "54    MSE loss =  1.6488525867462158\n",
      "55    MSE loss =  1.6488524675369263\n",
      "56    MSE loss =  1.6488525867462158\n",
      "57    MSE loss =  1.6488524675369263\n",
      "58    MSE loss =  1.6488525867462158\n",
      "59    MSE loss =  1.6488525867462158\n",
      "60    MSE loss =  1.6488525867462158\n",
      "61    MSE loss =  1.6488525867462158\n",
      "62    MSE loss =  1.6488524675369263\n",
      "63    MSE loss =  1.6488524675369263\n",
      "64    MSE loss =  1.6488524675369263\n",
      "65    MSE loss =  1.6488524675369263\n",
      "66    MSE loss =  1.6488523483276367\n",
      "67    MSE loss =  1.6488525867462158\n",
      "68    MSE loss =  1.6488524675369263\n",
      "69    MSE loss =  1.6488524675369263\n",
      "70    MSE loss =  1.6488525867462158\n",
      "71    MSE loss =  1.6488525867462158\n",
      "72    MSE loss =  1.6488524675369263\n",
      "73    MSE loss =  1.6488524675369263\n",
      "74    MSE loss =  1.6488525867462158\n",
      "75    MSE loss =  1.6488525867462158\n",
      "76    MSE loss =  1.6488525867462158\n",
      "77    MSE loss =  1.6488525867462158\n",
      "78    MSE loss =  1.6488524675369263\n",
      "79    MSE loss =  1.6488525867462158\n",
      "80    MSE loss =  1.6488527059555054\n",
      "81    MSE loss =  1.6488524675369263\n",
      "82    MSE loss =  1.6488524675369263\n",
      "83    MSE loss =  1.6488525867462158\n",
      "84    MSE loss =  1.6488525867462158\n",
      "85    MSE loss =  1.6488525867462158\n",
      "86    MSE loss =  1.6488525867462158\n",
      "87    MSE loss =  1.6488524675369263\n",
      "88    MSE loss =  1.6488525867462158\n",
      "89    MSE loss =  1.6488524675369263\n",
      "90    MSE loss =  1.6488525867462158\n",
      "91    MSE loss =  1.6488524675369263\n",
      "92    MSE loss =  1.6488524675369263\n",
      "93    MSE loss =  1.6488525867462158\n",
      "94    MSE loss =  1.6488525867462158\n",
      "95    MSE loss =  1.6488524675369263\n",
      "96    MSE loss =  1.6488524675369263\n",
      "97    MSE loss =  1.6488525867462158\n",
      "98    MSE loss =  1.6488527059555054\n",
      "99    MSE loss =  1.6488525867462158\n"
     ]
    }
   ],
   "source": [
    "optimizer = SGD(lr = 1e-1,max_iter = 100, parameters = net.get_parameters())\n",
    "n=10**2\n",
    "N=output_data.shape[0]\n",
    "batch_size = 100\n",
    "for t in range(n):\n",
    "    acc_loss=0\n",
    "    permuted_index = torch.randperm(input_data.size()[0])\n",
    "    input_data_shuffled = input_data[permuted_index]\n",
    "    output_data_shuffled = output_data[permuted_index]\n",
    "    for b in range(0, N, batch_size):\n",
    "        predictions = net.forward(input_data_shuffled[b:b+batch_size])\n",
    "        l= loss.forward(predictions, output_data_shuffled[b:b+batch_size].unsqueeze(-1))\n",
    "        acc_loss += l\n",
    "        optimizer.zero_grad()\n",
    "        \n",
    "        net.backward(loss.backward())\n",
    "        \n",
    "        new_par = optimizer.step()\n",
    "        net.set_parameters(new_par)\n",
    "    \n",
    "    print(t, '   MSE loss = ' , acc_loss.item())"
   ]
  },
  {
   "cell_type": "code",
   "execution_count": 98,
   "id": "exceptional-funeral",
   "metadata": {},
   "outputs": [
    {
     "name": "stdout",
     "output_type": "stream",
     "text": [
      "Correct predictions after 100 training steps: 100.0 %\n"
     ]
    }
   ],
   "source": [
    "correct=0\n",
    "for i in range(output_data.shape[0]):\n",
    "        x=input_data[i]\n",
    "        y=2*output_data[i]-1\n",
    "        # Forward pass: compute predicted y by passing x to the model.\n",
    "        y_pred = net.forward(x.unsqueeze(0))\n",
    "        if abs(y_pred-output_data[i])<1:\n",
    "            correct+=1\n",
    "print('Correct predictions after '+str(n)+' training steps: '+str(correct/N*100)+' %')"
   ]
  },
  {
   "cell_type": "code",
   "execution_count": 132,
   "id": "incredible-pearl",
   "metadata": {},
   "outputs": [
    {
     "name": "stdout",
     "output_type": "stream",
     "text": [
      "0    MSE loss =  253.6742401123047\n",
      "10    MSE loss =  250.0392303466797\n",
      "20    MSE loss =  247.07595825195312\n",
      "30    MSE loss =  244.49795532226562\n",
      "40    MSE loss =  242.05059814453125\n",
      "50    MSE loss =  239.64300537109375\n",
      "60    MSE loss =  237.228759765625\n",
      "70    MSE loss =  234.7724151611328\n",
      "80    MSE loss =  232.2540283203125\n",
      "90    MSE loss =  229.65501403808594\n",
      "Correct predictions after 100 training steps: 100.0 %\n"
     ]
    }
   ],
   "source": [
    "#handmade sequential linear + relu with sigmoid to end and no batches\n",
    "linear1 = Linear(2, 25, True)\n",
    "linear2 = Linear(25,25,True)\n",
    "linear3 = Linear(25,1,True)\n",
    "sigma1 = ReLu()\n",
    "sigma2 = ReLu()\n",
    "sigma3 = Sigmoid()\n",
    "loss = MSE()\n",
    "\n",
    "net = Sequential([\n",
    "    linear1, \n",
    "    sigma1 ,\n",
    "    linear2,\n",
    "    sigma2 ,\n",
    "    linear3,\n",
    "    sigma3 ,\n",
    "])\n",
    "optimizer = SGD(lr = 1e-4,max_iter = 100, parameters = net.get_parameters())\n",
    "n=10**2\n",
    "N=output_data.shape[0]\n",
    "for t in range(n):\n",
    "    optimizer.zero_grad()\n",
    "    acc_loss=0\n",
    "    permuted_index = torch.randperm(input_data.size()[0])\n",
    "    input_data_shuffled = input_data[permuted_index]\n",
    "    output_data_shuffled = output_data[permuted_index]\n",
    "    for i in range(N):\n",
    "        x=input_data_shuffled[i]\n",
    "        y=output_data_shuffled[i]\n",
    "        # Forward pass: compute predicted y by passing x to the model.\n",
    "        y_pred = net.forward(x.unsqueeze(0))\n",
    "        # Compute and print loss.\n",
    "        acc_loss += loss.forward(y_pred,y.unsqueeze(0))\n",
    "        \n",
    "        # Backward pass: compute gradient of the loss with respect to model parameters\n",
    "        net.backward(loss.backward())\n",
    "\n",
    "    # Calling the step function on an Optimizer makes an update to its parameters\n",
    "    new_par = optimizer.step()\n",
    "    #print(len(new_par))\n",
    "    net.set_parameters(new_par)\n",
    "    \n",
    "    \n",
    "    if t%10==0:\n",
    "        print(t, '   MSE loss = ' , acc_loss.item())\n",
    "    \n",
    "correct=0\n",
    "for i in range(output_data.shape[0]):\n",
    "        x=input_data[i]\n",
    "        y=2*output_data[i]-1\n",
    "        # Forward pass: compute predicted y by passing x to the model.\n",
    "        y_pred = net.forward(x.unsqueeze(0))\n",
    "        if abs(y_pred-output_data[i])<1:\n",
    "            correct+=1\n",
    "print('Correct predictions after '+str(n)+' training steps: '+str(correct/N*100)+' %')"
   ]
  },
  {
   "cell_type": "code",
   "execution_count": 133,
   "id": "elegant-romance",
   "metadata": {},
   "outputs": [
    {
     "name": "stdout",
     "output_type": "stream",
     "text": [
      "0    MSE loss =  2.4813714027404785\n",
      "1    MSE loss =  2.46077036857605\n",
      "2    MSE loss =  2.4431357383728027\n",
      "3    MSE loss =  2.427443265914917\n",
      "4    MSE loss =  2.4113965034484863\n",
      "5    MSE loss =  2.3954713344573975\n",
      "6    MSE loss =  2.3800158500671387\n",
      "7    MSE loss =  2.3642022609710693\n",
      "8    MSE loss =  2.3473432064056396\n",
      "9    MSE loss =  2.3301541805267334\n",
      "10    MSE loss =  2.319033145904541\n",
      "11    MSE loss =  2.318113327026367\n",
      "12    MSE loss =  2.318113088607788\n",
      "13    MSE loss =  2.318113088607788\n",
      "14    MSE loss =  2.318113088607788\n",
      "15    MSE loss =  2.318112850189209\n",
      "16    MSE loss =  2.318113088607788\n",
      "17    MSE loss =  2.318112850189209\n",
      "18    MSE loss =  2.318113088607788\n",
      "19    MSE loss =  2.318113088607788\n",
      "20    MSE loss =  2.318113088607788\n",
      "21    MSE loss =  2.318113327026367\n",
      "22    MSE loss =  2.318112850189209\n",
      "23    MSE loss =  2.318113327026367\n",
      "24    MSE loss =  2.318113088607788\n",
      "25    MSE loss =  2.318113088607788\n",
      "26    MSE loss =  2.318112850189209\n",
      "27    MSE loss =  2.318112850189209\n",
      "28    MSE loss =  2.318113327026367\n",
      "29    MSE loss =  2.318113088607788\n",
      "30    MSE loss =  2.318113088607788\n",
      "31    MSE loss =  2.318113088607788\n",
      "32    MSE loss =  2.318113088607788\n",
      "33    MSE loss =  2.318113088607788\n",
      "34    MSE loss =  2.318113088607788\n",
      "35    MSE loss =  2.318113088607788\n",
      "36    MSE loss =  2.318113327026367\n",
      "37    MSE loss =  2.318113088607788\n",
      "38    MSE loss =  2.318113088607788\n",
      "39    MSE loss =  2.318113088607788\n",
      "40    MSE loss =  2.318112850189209\n",
      "41    MSE loss =  2.318113088607788\n",
      "42    MSE loss =  2.318113088607788\n",
      "43    MSE loss =  2.318113327026367\n",
      "44    MSE loss =  2.318113088607788\n",
      "45    MSE loss =  2.318112850189209\n",
      "46    MSE loss =  2.318112850189209\n",
      "47    MSE loss =  2.318112850189209\n",
      "48    MSE loss =  2.318113088607788\n",
      "49    MSE loss =  2.318113088607788\n",
      "50    MSE loss =  2.318113088607788\n",
      "51    MSE loss =  2.318113327026367\n",
      "52    MSE loss =  2.318113088607788\n",
      "53    MSE loss =  2.318113327026367\n",
      "54    MSE loss =  2.318113088607788\n",
      "55    MSE loss =  2.318113088607788\n",
      "56    MSE loss =  2.318113088607788\n",
      "57    MSE loss =  2.318113088607788\n",
      "58    MSE loss =  2.318113088607788\n",
      "59    MSE loss =  2.318113088607788\n",
      "60    MSE loss =  2.318113088607788\n",
      "61    MSE loss =  2.318113088607788\n",
      "62    MSE loss =  2.318113088607788\n",
      "63    MSE loss =  2.318113088607788\n",
      "64    MSE loss =  2.318113088607788\n",
      "65    MSE loss =  2.318112850189209\n",
      "66    MSE loss =  2.318112850189209\n",
      "67    MSE loss =  2.318113327026367\n",
      "68    MSE loss =  2.318113088607788\n",
      "69    MSE loss =  2.318113088607788\n",
      "70    MSE loss =  2.318113088607788\n",
      "71    MSE loss =  2.318113088607788\n",
      "72    MSE loss =  2.318113088607788\n",
      "73    MSE loss =  2.318113088607788\n",
      "74    MSE loss =  2.318113088607788\n",
      "75    MSE loss =  2.318113088607788\n",
      "76    MSE loss =  2.318112850189209\n",
      "77    MSE loss =  2.318113088607788\n",
      "78    MSE loss =  2.318113088607788\n",
      "79    MSE loss =  2.318113088607788\n",
      "80    MSE loss =  2.318113088607788\n",
      "81    MSE loss =  2.318112850189209\n",
      "82    MSE loss =  2.318113327026367\n",
      "83    MSE loss =  2.318113088607788\n",
      "84    MSE loss =  2.318112850189209\n",
      "85    MSE loss =  2.318113088607788\n",
      "86    MSE loss =  2.318113088607788\n",
      "87    MSE loss =  2.318112850189209\n",
      "88    MSE loss =  2.318113088607788\n",
      "89    MSE loss =  2.318113327026367\n",
      "90    MSE loss =  2.318113088607788\n",
      "91    MSE loss =  2.318113088607788\n",
      "92    MSE loss =  2.318113088607788\n",
      "93    MSE loss =  2.318113088607788\n",
      "94    MSE loss =  2.318112850189209\n",
      "95    MSE loss =  2.318113088607788\n",
      "96    MSE loss =  2.318113327026367\n",
      "97    MSE loss =  2.318113088607788\n",
      "98    MSE loss =  2.318113088607788\n",
      "99    MSE loss =  2.318113088607788\n",
      "Correct predictions after 100 training steps: 100.0 %\n"
     ]
    }
   ],
   "source": [
    "#handmade sequential linear + relu with softmax with batches\n",
    "linear1 = Linear(2, 25, True)\n",
    "linear2 = Linear(25,25,True)\n",
    "linear3 = Linear(25,1,True)\n",
    "sigma1 = ReLu()\n",
    "sigma2 = ReLu()\n",
    "sigma3 = Sigmoid()\n",
    "loss = MSE()\n",
    "\n",
    "net = Sequential([\n",
    "    linear1, \n",
    "    sigma1 ,\n",
    "    linear2,\n",
    "    sigma2 ,\n",
    "    linear3,\n",
    "    sigma3 ,\n",
    "])\n",
    "optimizer = SGD(lr = 1e-1,max_iter = 100, parameters = net.get_parameters())\n",
    "n=10**2\n",
    "N=output_data.shape[0]\n",
    "batch_size = 100\n",
    "for t in range(n):\n",
    "    acc_loss=0\n",
    "    permuted_index = torch.randperm(input_data.size()[0])\n",
    "    input_data_shuffled = input_data[permuted_index]\n",
    "    output_data_shuffled = output_data[permuted_index]\n",
    "    for b in range(0, N, batch_size):\n",
    "        predictions = net.forward(input_data_shuffled[b:b+batch_size])\n",
    "        l= loss.forward(predictions, output_data_shuffled[b:b+batch_size].unsqueeze(-1))\n",
    "        acc_loss += l\n",
    "        optimizer.zero_grad()\n",
    "        \n",
    "        net.backward(loss.backward())\n",
    "        \n",
    "        new_par = optimizer.step()\n",
    "        net.set_parameters(new_par)\n",
    "    \n",
    "    print(t, '   MSE loss = ' , acc_loss.item())\n",
    "    \n",
    "correct=0\n",
    "for i in range(output_data.shape[0]):\n",
    "        x=input_data[i]\n",
    "        y=2*output_data[i]-1\n",
    "        # Forward pass: compute predicted y by passing x to the model.\n",
    "        y_pred = net.forward(x.unsqueeze(0))\n",
    "        if abs(y_pred-output_data[i])<1:\n",
    "            correct+=1\n",
    "print('Correct predictions after '+str(n)+' training steps: '+str(correct/N*100)+' %')"
   ]
  },
  {
   "cell_type": "code",
   "execution_count": null,
   "id": "illegal-radio",
   "metadata": {},
   "outputs": [],
   "source": []
  }
 ],
 "metadata": {
  "colab": {
   "collapsed_sections": [],
   "name": "modules+sequential_notokyet.ipynb",
   "provenance": []
  },
  "kernelspec": {
   "display_name": "tirocinio",
   "language": "python",
   "name": "tirocinio"
  },
  "language_info": {
   "codemirror_mode": {
    "name": "ipython",
    "version": 3
   },
   "file_extension": ".py",
   "mimetype": "text/x-python",
   "name": "python",
   "nbconvert_exporter": "python",
   "pygments_lexer": "ipython3",
   "version": "3.7.4"
  }
 },
 "nbformat": 4,
 "nbformat_minor": 5
}
